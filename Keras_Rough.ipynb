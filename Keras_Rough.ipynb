{
 "cells": [
  {
   "cell_type": "code",
   "execution_count": 577,
   "metadata": {},
   "outputs": [],
   "source": [
    "import numpy as np\n",
    "import keras\n",
    "from keras.models import Sequential\n",
    "from keras.layers import Dense,Dropout\n",
    "x_train = np.random.random((1000, 20))\n",
    "y_train = keras.utils.to_categorical(np.random.randint(5, size=(10, 2)), num_classes=10)\n",
    "x_test = np.random.random((100, 20))\n",
    "y_test = keras.utils.to_categorical(np.random.randint(10, size=(100, 1)), num_classes=10)\n",
    "\n"
   ]
  },
  {
   "cell_type": "code",
   "execution_count": 866,
   "metadata": {},
   "outputs": [
    {
     "data": {
      "text/plain": [
       "array([[0.38132647, 0.31751938, 0.72615332, ..., 0.02178419, 0.80614257,\n",
       "        0.89121967],\n",
       "       [0.6452941 , 0.07093006, 0.03469143, ..., 0.11689184, 0.72309706,\n",
       "        0.82970292],\n",
       "       [0.63738563, 0.94170479, 0.75411451, ..., 0.17834658, 0.34835758,\n",
       "        0.97326111],\n",
       "       ...,\n",
       "       [0.64024234, 0.32336987, 0.63225632, ..., 0.29171983, 0.452593  ,\n",
       "        0.57840098],\n",
       "       [0.24277825, 0.63437181, 0.96525699, ..., 0.56694329, 0.98372522,\n",
       "        0.86533916],\n",
       "       [0.92038721, 0.64808784, 0.16810469, ..., 0.87984733, 0.67330049,\n",
       "        0.19730262]])"
      ]
     },
     "execution_count": 866,
     "metadata": {},
     "output_type": "execute_result"
    }
   ],
   "source": [
    "x_train"
   ]
  },
  {
   "cell_type": "code",
   "execution_count": 903,
   "metadata": {},
   "outputs": [
    {
     "data": {
      "text/plain": [
       "(5000,)"
      ]
     },
     "execution_count": 903,
     "metadata": {},
     "output_type": "execute_result"
    }
   ],
   "source": [
    "x_train = np.random.randint(10000, size=(5000))\n",
    "\n",
    "x_train.shape"
   ]
  },
  {
   "cell_type": "code",
   "execution_count": 902,
   "metadata": {},
   "outputs": [],
   "source": [
    "clas= []"
   ]
  },
  {
   "cell_type": "code",
   "execution_count": 904,
   "metadata": {},
   "outputs": [
    {
     "data": {
      "text/plain": [
       "array([[0., 0., 1., ..., 0., 0., 0.],\n",
       "       [0., 0., 0., ..., 0., 0., 0.],\n",
       "       [0., 0., 0., ..., 0., 0., 0.],\n",
       "       ...,\n",
       "       [1., 0., 0., ..., 0., 0., 0.],\n",
       "       [0., 0., 1., ..., 0., 0., 0.],\n",
       "       [1., 0., 0., ..., 0., 0., 0.]], dtype=float32)"
      ]
     },
     "execution_count": 904,
     "metadata": {},
     "output_type": "execute_result"
    }
   ],
   "source": [
    "for i in x_train:\n",
    "    if i%10==0:  #2,3,5,7,10\n",
    "        clas.append(10)\n",
    "    elif i%7==0:\n",
    "        clas.append(7)\n",
    "    elif i%5==0:\n",
    "        clas.append(5)\n",
    "    elif i%3==0:\n",
    "        clas.append(3)\n",
    "    elif i%2==0:\n",
    "        clas.append(2)\n",
    "    else:\n",
    "        clas.append(0)\n",
    "\n",
    "    \n",
    "y_train = keras.utils.to_categorical(clas, num_classes=11)\n",
    "x_train=np.array(x_train).reshape(-1,1)\n",
    "y_train\n",
    "    "
   ]
  },
  {
   "cell_type": "code",
   "execution_count": 908,
   "metadata": {},
   "outputs": [
    {
     "data": {
      "text/plain": [
       "array([[2042],\n",
       "       [1149],\n",
       "       [8351],\n",
       "       ...,\n",
       "       [9733],\n",
       "       [1966],\n",
       "       [8297]])"
      ]
     },
     "execution_count": 908,
     "metadata": {},
     "output_type": "execute_result"
    }
   ],
   "source": [
    "x_train"
   ]
  },
  {
   "cell_type": "code",
   "execution_count": 843,
   "metadata": {},
   "outputs": [
    {
     "data": {
      "text/plain": [
       "array([ 240, 9305, 7071, ..., 7307, 8587, 5947])"
      ]
     },
     "execution_count": 843,
     "metadata": {},
     "output_type": "execute_result"
    }
   ],
   "source": [
    "lol"
   ]
  },
  {
   "cell_type": "code",
   "execution_count": 837,
   "metadata": {},
   "outputs": [
    {
     "data": {
      "text/plain": [
       "895.1428571428571"
      ]
     },
     "execution_count": 837,
     "metadata": {},
     "output_type": "execute_result"
    }
   ],
   "source": [
    "6266/7"
   ]
  },
  {
   "cell_type": "code",
   "execution_count": null,
   "metadata": {},
   "outputs": [],
   "source": []
  },
  {
   "cell_type": "code",
   "execution_count": 909,
   "metadata": {},
   "outputs": [],
   "source": [
    "from sklearn.model_selection import train_test_split"
   ]
  },
  {
   "cell_type": "code",
   "execution_count": 910,
   "metadata": {},
   "outputs": [],
   "source": [
    "x_train, x_test, y_train, y_test = train_test_split(x_train, y_train, test_size=0.33, random_state=42)"
   ]
  },
  {
   "cell_type": "code",
   "execution_count": 912,
   "metadata": {},
   "outputs": [
    {
     "name": "stdout",
     "output_type": "stream",
     "text": [
      "(3350, 1)\n",
      "(3350, 11)\n",
      "(1650, 1)\n",
      "(1650, 11)\n"
     ]
    }
   ],
   "source": [
    "print(x_train.shape)\n",
    "print(y_train.shape)\n",
    "print(x_test.shape)\n",
    "print(y_test.shape)"
   ]
  },
  {
   "cell_type": "code",
   "execution_count": null,
   "metadata": {},
   "outputs": [],
   "source": []
  },
  {
   "cell_type": "code",
   "execution_count": null,
   "metadata": {},
   "outputs": [],
   "source": []
  },
  {
   "cell_type": "code",
   "execution_count": null,
   "metadata": {},
   "outputs": [],
   "source": [
    "clas= []"
   ]
  },
  {
   "cell_type": "code",
   "execution_count": null,
   "metadata": {},
   "outputs": [],
   "source": [
    "y_train = np.random.randint(10000, size=(5000))\n",
    "\n",
    "x_train.shape"
   ]
  },
  {
   "cell_type": "code",
   "execution_count": null,
   "metadata": {},
   "outputs": [],
   "source": [
    "for i in x_train:\n",
    "    if i%10==0:  #2,3,5,7,10\n",
    "        clas.append(10)\n",
    "    elif i%7==0:\n",
    "        clas.append(7)\n",
    "    elif i%5==0:\n",
    "        clas.append(5)\n",
    "    elif i%3==0:\n",
    "        clas.append(3)\n",
    "    elif i%2==0:\n",
    "        clas.append(2)\n",
    "    else:\n",
    "        clas.append(0)\n",
    "\n",
    "    \n",
    "y_train = keras.utils.to_categorical(clas, num_classes=11)\n",
    "x_train=np.array(x_train).reshape(-1,1)\n",
    "y_train\n",
    "    "
   ]
  },
  {
   "cell_type": "code",
   "execution_count": null,
   "metadata": {},
   "outputs": [],
   "source": []
  },
  {
   "cell_type": "code",
   "execution_count": null,
   "metadata": {},
   "outputs": [],
   "source": []
  },
  {
   "cell_type": "code",
   "execution_count": null,
   "metadata": {},
   "outputs": [],
   "source": [
    "clas"
   ]
  },
  {
   "cell_type": "code",
   "execution_count": 846,
   "metadata": {},
   "outputs": [],
   "source": [
    "y_train = keras.utils.to_categorical(clas, num_classes=11)"
   ]
  },
  {
   "cell_type": "code",
   "execution_count": 847,
   "metadata": {},
   "outputs": [
    {
     "data": {
      "text/plain": [
       "array([[0., 0., 0., ..., 0., 0., 1.],\n",
       "       [0., 0., 0., ..., 0., 0., 0.],\n",
       "       [0., 0., 0., ..., 0., 0., 0.],\n",
       "       ...,\n",
       "       [1., 0., 0., ..., 0., 0., 0.],\n",
       "       [1., 0., 0., ..., 0., 0., 0.],\n",
       "       [1., 0., 0., ..., 0., 0., 0.]], dtype=float32)"
      ]
     },
     "execution_count": 847,
     "metadata": {},
     "output_type": "execute_result"
    }
   ],
   "source": [
    "y_train"
   ]
  },
  {
   "cell_type": "code",
   "execution_count": 865,
   "metadata": {
    "scrolled": true
   },
   "outputs": [
    {
     "data": {
      "text/plain": [
       "array([0., 0., 0., 1., 0., 0., 0., 0., 0., 0., 0.], dtype=float32)"
      ]
     },
     "execution_count": 865,
     "metadata": {},
     "output_type": "execute_result"
    }
   ],
   "source": [
    "y_train[1056]"
   ]
  },
  {
   "cell_type": "code",
   "execution_count": 863,
   "metadata": {},
   "outputs": [],
   "source": [
    "clas=np.array(clas)"
   ]
  },
  {
   "cell_type": "code",
   "execution_count": 864,
   "metadata": {},
   "outputs": [
    {
     "data": {
      "text/plain": [
       "array([10,  5,  3, ...,  0,  0,  0])"
      ]
     },
     "execution_count": 864,
     "metadata": {},
     "output_type": "execute_result"
    }
   ],
   "source": [
    "clas"
   ]
  },
  {
   "cell_type": "code",
   "execution_count": 860,
   "metadata": {},
   "outputs": [
    {
     "data": {
      "text/plain": [
       "3"
      ]
     },
     "execution_count": 860,
     "metadata": {},
     "output_type": "execute_result"
    }
   ],
   "source": [
    "clas[1056]"
   ]
  },
  {
   "cell_type": "code",
   "execution_count": 56,
   "metadata": {},
   "outputs": [
    {
     "name": "stdout",
     "output_type": "stream",
     "text": [
      "(1000, 20)\n",
      "(1000, 10)\n",
      "(100, 20)\n",
      "(100, 10)\n"
     ]
    }
   ],
   "source": [
    "print(x_train.shape)\n",
    "print(y_train.shape)\n",
    "print(x_test.shape)\n",
    "print(y_test.shape)"
   ]
  },
  {
   "cell_type": "code",
   "execution_count": 66,
   "metadata": {},
   "outputs": [
    {
     "data": {
      "text/plain": [
       "4"
      ]
     },
     "execution_count": 66,
     "metadata": {},
     "output_type": "execute_result"
    }
   ],
   "source": [
    "import numpy as np\n",
    "np.argmax(y_train[3])"
   ]
  },
  {
   "cell_type": "code",
   "execution_count": null,
   "metadata": {},
   "outputs": [],
   "source": []
  },
  {
   "cell_type": "code",
   "execution_count": null,
   "metadata": {},
   "outputs": [],
   "source": []
  },
  {
   "cell_type": "code",
   "execution_count": null,
   "metadata": {},
   "outputs": [],
   "source": []
  },
  {
   "cell_type": "code",
   "execution_count": 310,
   "metadata": {},
   "outputs": [
    {
     "data": {
      "text/plain": [
       "array([[ 5,  0],\n",
       "       [30,  5],\n",
       "       [ 5,  5],\n",
       "       [15,  5],\n",
       "       [15, 45],\n",
       "       [25,  5],\n",
       "       [35, 45],\n",
       "       [ 0, 45],\n",
       "       [ 5, 30],\n",
       "       [20, 30]])"
      ]
     },
     "execution_count": 310,
     "metadata": {},
     "output_type": "execute_result"
    }
   ],
   "source": [
    "np.random.randint(10, size=(10, 2))*5"
   ]
  },
  {
   "cell_type": "code",
   "execution_count": 309,
   "metadata": {},
   "outputs": [
    {
     "data": {
      "text/plain": [
       "array([[[0., 0., 0., 0., 1., 0., 0., 0., 0., 0.],\n",
       "        [0., 0., 0., 0., 1., 0., 0., 0., 0., 0.],\n",
       "        [1., 0., 0., 0., 0., 0., 0., 0., 0., 0.]],\n",
       "\n",
       "       [[0., 0., 0., 1., 0., 0., 0., 0., 0., 0.],\n",
       "        [0., 1., 0., 0., 0., 0., 0., 0., 0., 0.],\n",
       "        [1., 0., 0., 0., 0., 0., 0., 0., 0., 0.]],\n",
       "\n",
       "       [[1., 0., 0., 0., 0., 0., 0., 0., 0., 0.],\n",
       "        [1., 0., 0., 0., 0., 0., 0., 0., 0., 0.],\n",
       "        [0., 0., 1., 0., 0., 0., 0., 0., 0., 0.]],\n",
       "\n",
       "       [[0., 0., 0., 1., 0., 0., 0., 0., 0., 0.],\n",
       "        [0., 0., 0., 1., 0., 0., 0., 0., 0., 0.],\n",
       "        [0., 1., 0., 0., 0., 0., 0., 0., 0., 0.]],\n",
       "\n",
       "       [[0., 0., 0., 1., 0., 0., 0., 0., 0., 0.],\n",
       "        [1., 0., 0., 0., 0., 0., 0., 0., 0., 0.],\n",
       "        [0., 0., 0., 0., 1., 0., 0., 0., 0., 0.]],\n",
       "\n",
       "       [[0., 0., 0., 0., 1., 0., 0., 0., 0., 0.],\n",
       "        [0., 0., 0., 1., 0., 0., 0., 0., 0., 0.],\n",
       "        [0., 0., 1., 0., 0., 0., 0., 0., 0., 0.]],\n",
       "\n",
       "       [[0., 0., 1., 0., 0., 0., 0., 0., 0., 0.],\n",
       "        [0., 0., 0., 1., 0., 0., 0., 0., 0., 0.],\n",
       "        [1., 0., 0., 0., 0., 0., 0., 0., 0., 0.]],\n",
       "\n",
       "       [[0., 1., 0., 0., 0., 0., 0., 0., 0., 0.],\n",
       "        [0., 0., 0., 1., 0., 0., 0., 0., 0., 0.],\n",
       "        [1., 0., 0., 0., 0., 0., 0., 0., 0., 0.]],\n",
       "\n",
       "       [[0., 0., 0., 1., 0., 0., 0., 0., 0., 0.],\n",
       "        [0., 1., 0., 0., 0., 0., 0., 0., 0., 0.],\n",
       "        [1., 0., 0., 0., 0., 0., 0., 0., 0., 0.]],\n",
       "\n",
       "       [[0., 0., 0., 1., 0., 0., 0., 0., 0., 0.],\n",
       "        [1., 0., 0., 0., 0., 0., 0., 0., 0., 0.],\n",
       "        [0., 1., 0., 0., 0., 0., 0., 0., 0., 0.]]], dtype=float32)"
      ]
     },
     "execution_count": 309,
     "metadata": {},
     "output_type": "execute_result"
    }
   ],
   "source": [
    "y_train = keras.utils.to_categorical(lol, num_classes=10)\n",
    "y_train"
   ]
  },
  {
   "cell_type": "code",
   "execution_count": 307,
   "metadata": {},
   "outputs": [
    {
     "data": {
      "text/plain": [
       "(300, 1)"
      ]
     },
     "execution_count": 307,
     "metadata": {},
     "output_type": "execute_result"
    }
   ],
   "source": [
    "y_train.reshape(-1,1).shape"
   ]
  },
  {
   "cell_type": "code",
   "execution_count": null,
   "metadata": {},
   "outputs": [],
   "source": []
  },
  {
   "cell_type": "code",
   "execution_count": 575,
   "metadata": {},
   "outputs": [
    {
     "data": {
      "text/plain": [
       "array([[172, 190,  66],\n",
       "       [  4, 188, 166],\n",
       "       [156, 112,  42],\n",
       "       [ 96, 178, 130],\n",
       "       [  0,  32,  98],\n",
       "       [ 22,  30, 146],\n",
       "       [114, 184,  92],\n",
       "       [ 48, 180, 128],\n",
       "       [174,  60, 102],\n",
       "       [140, 198, 138]])"
      ]
     },
     "execution_count": 575,
     "metadata": {},
     "output_type": "execute_result"
    }
   ],
   "source": [
    "lol = np.random.randint(100, size=(10, 3))*2\n",
    "\n",
    "lol"
   ]
  },
  {
   "cell_type": "code",
   "execution_count": 179,
   "metadata": {},
   "outputs": [
    {
     "data": {
      "text/plain": [
       "array([[1, 0],\n",
       "       [2, 2],\n",
       "       [0, 4],\n",
       "       [2, 2],\n",
       "       [0, 1],\n",
       "       [0, 2],\n",
       "       [2, 1],\n",
       "       [2, 3],\n",
       "       [0, 4],\n",
       "       [1, 3]])"
      ]
     },
     "execution_count": 179,
     "metadata": {},
     "output_type": "execute_result"
    }
   ],
   "source": [
    "np.random.randint(5, size=(10, 2))"
   ]
  },
  {
   "cell_type": "code",
   "execution_count": 178,
   "metadata": {},
   "outputs": [
    {
     "data": {
      "text/plain": [
       "array([[0.94514874, 0.24968624],\n",
       "       [0.27389186, 0.24517419],\n",
       "       [0.23078986, 0.95295065],\n",
       "       [0.89149046, 0.80691251],\n",
       "       [0.33444986, 0.58823608],\n",
       "       [0.19342345, 0.61050008],\n",
       "       [0.15138137, 0.86399851],\n",
       "       [0.16032578, 0.87533366],\n",
       "       [0.85219085, 0.1515932 ],\n",
       "       [0.61211151, 0.08827328]])"
      ]
     },
     "execution_count": 178,
     "metadata": {},
     "output_type": "execute_result"
    }
   ],
   "source": [
    "np.random.random((10, 2))"
   ]
  },
  {
   "cell_type": "code",
   "execution_count": 68,
   "metadata": {},
   "outputs": [],
   "source": [
    "lol= y_train.reshape(-1,1)"
   ]
  },
  {
   "cell_type": "code",
   "execution_count": 75,
   "metadata": {},
   "outputs": [
    {
     "data": {
      "text/plain": [
       "(10000, 1)"
      ]
     },
     "execution_count": 75,
     "metadata": {},
     "output_type": "execute_result"
    }
   ],
   "source": [
    "lol.shape"
   ]
  },
  {
   "cell_type": "code",
   "execution_count": 72,
   "metadata": {},
   "outputs": [
    {
     "data": {
      "text/plain": [
       "array([[0.],\n",
       "       [0.],\n",
       "       [0.],\n",
       "       ...,\n",
       "       [0.],\n",
       "       [0.],\n",
       "       [1.]], dtype=float32)"
      ]
     },
     "execution_count": 72,
     "metadata": {},
     "output_type": "execute_result"
    }
   ],
   "source": [
    "lol"
   ]
  },
  {
   "cell_type": "code",
   "execution_count": 80,
   "metadata": {},
   "outputs": [],
   "source": [
    "x_train = np.random.random((2, 2))"
   ]
  },
  {
   "cell_type": "code",
   "execution_count": 81,
   "metadata": {},
   "outputs": [
    {
     "data": {
      "text/plain": [
       "array([[0.20668437, 0.37950902],\n",
       "       [0.77299447, 0.03085404]])"
      ]
     },
     "execution_count": 81,
     "metadata": {},
     "output_type": "execute_result"
    }
   ],
   "source": [
    "x_train"
   ]
  },
  {
   "cell_type": "code",
   "execution_count": 79,
   "metadata": {},
   "outputs": [
    {
     "data": {
      "text/plain": [
       "array([[0.60678734, 0.80058908]])"
      ]
     },
     "execution_count": 79,
     "metadata": {},
     "output_type": "execute_result"
    }
   ],
   "source": [
    "x_train"
   ]
  },
  {
   "cell_type": "code",
   "execution_count": null,
   "metadata": {},
   "outputs": [],
   "source": []
  },
  {
   "cell_type": "code",
   "execution_count": null,
   "metadata": {},
   "outputs": [],
   "source": []
  },
  {
   "cell_type": "code",
   "execution_count": null,
   "metadata": {},
   "outputs": [],
   "source": []
  },
  {
   "cell_type": "code",
   "execution_count": null,
   "metadata": {},
   "outputs": [],
   "source": []
  },
  {
   "cell_type": "code",
   "execution_count": null,
   "metadata": {},
   "outputs": [],
   "source": []
  },
  {
   "cell_type": "code",
   "execution_count": null,
   "metadata": {},
   "outputs": [],
   "source": []
  },
  {
   "cell_type": "code",
   "execution_count": null,
   "metadata": {},
   "outputs": [],
   "source": []
  },
  {
   "cell_type": "code",
   "execution_count": null,
   "metadata": {},
   "outputs": [],
   "source": []
  },
  {
   "cell_type": "code",
   "execution_count": 933,
   "metadata": {},
   "outputs": [],
   "source": [
    "import keras\n",
    "import tensorflow as tf\n",
    "from keras.optimizers import SGD\n"
   ]
  },
  {
   "cell_type": "code",
   "execution_count": 932,
   "metadata": {},
   "outputs": [],
   "source": [
    "model = Sequential()\n"
   ]
  },
  {
   "cell_type": "code",
   "execution_count": 934,
   "metadata": {},
   "outputs": [],
   "source": [
    "\n",
    "# Dense(64) is a fully-connected layer with 64 hidden units.\n",
    "# in the first layer, you must specify the expected input data shape:\n",
    "# here, 20-dimensional vectors.\n",
    "model.add(Dense(16, activation='relu', input_dim=20))\n",
    "model.add(Dropout(0.5))\n",
    "model.add(Dense(32, activation='relu'))\n",
    "model.add(Dropout(0.5))\n",
    "model.add(Dense(10, activation='softmax'))\n",
    "\n"
   ]
  },
  {
   "cell_type": "code",
   "execution_count": 935,
   "metadata": {},
   "outputs": [],
   "source": [
    "sgd = SGD(lr=0.01, decay=1e-6, momentum=0.9, nesterov=True)\n",
    "model.compile(loss='categorical_crossentropy',\n",
    "              optimizer=sgd,\n",
    "              metrics=['accuracy'])\n"
   ]
  },
  {
   "cell_type": "code",
   "execution_count": 936,
   "metadata": {},
   "outputs": [
    {
     "name": "stdout",
     "output_type": "stream",
     "text": [
      "_________________________________________________________________\n",
      "Layer (type)                 Output Shape              Param #   \n",
      "=================================================================\n",
      "dense_20 (Dense)             (None, 16)                336       \n",
      "_________________________________________________________________\n",
      "dropout_13 (Dropout)         (None, 16)                0         \n",
      "_________________________________________________________________\n",
      "dense_21 (Dense)             (None, 32)                544       \n",
      "_________________________________________________________________\n",
      "dropout_14 (Dropout)         (None, 32)                0         \n",
      "_________________________________________________________________\n",
      "dense_22 (Dense)             (None, 10)                330       \n",
      "=================================================================\n",
      "Total params: 1,210\n",
      "Trainable params: 1,210\n",
      "Non-trainable params: 0\n",
      "_________________________________________________________________\n"
     ]
    }
   ],
   "source": [
    "model.summary()"
   ]
  },
  {
   "cell_type": "code",
   "execution_count": 37,
   "metadata": {},
   "outputs": [
    {
     "name": "stdout",
     "output_type": "stream",
     "text": [
      "\r",
      "100/100 [==============================] - 0s 20us/step\n"
     ]
    }
   ],
   "source": [
    "score = model.evaluate(x_test, y_test, batch_size=128)"
   ]
  },
  {
   "cell_type": "code",
   "execution_count": 38,
   "metadata": {},
   "outputs": [
    {
     "data": {
      "text/plain": [
       "[2.305629014968872, 0.14000000059604645]"
      ]
     },
     "execution_count": 38,
     "metadata": {},
     "output_type": "execute_result"
    }
   ],
   "source": [
    "score"
   ]
  },
  {
   "cell_type": "code",
   "execution_count": 53,
   "metadata": {
    "scrolled": true
   },
   "outputs": [
    {
     "data": {
      "text/plain": [
       "array([[0., 0., 0., 0., 0., 0., 0., 0., 1., 0.],\n",
       "       [0., 0., 0., 0., 1., 0., 0., 0., 0., 0.],\n",
       "       [0., 0., 0., 0., 0., 1., 0., 0., 0., 0.],\n",
       "       [0., 0., 0., 0., 0., 0., 0., 0., 1., 0.],\n",
       "       [0., 1., 0., 0., 0., 0., 0., 0., 0., 0.],\n",
       "       [1., 0., 0., 0., 0., 0., 0., 0., 0., 0.],\n",
       "       [0., 0., 0., 1., 0., 0., 0., 0., 0., 0.],\n",
       "       [1., 0., 0., 0., 0., 0., 0., 0., 0., 0.],\n",
       "       [0., 0., 0., 1., 0., 0., 0., 0., 0., 0.],\n",
       "       [0., 0., 0., 0., 0., 1., 0., 0., 0., 0.],\n",
       "       [0., 0., 0., 1., 0., 0., 0., 0., 0., 0.],\n",
       "       [0., 1., 0., 0., 0., 0., 0., 0., 0., 0.],\n",
       "       [0., 0., 0., 1., 0., 0., 0., 0., 0., 0.],\n",
       "       [1., 0., 0., 0., 0., 0., 0., 0., 0., 0.],\n",
       "       [0., 0., 0., 0., 0., 1., 0., 0., 0., 0.],\n",
       "       [0., 0., 0., 1., 0., 0., 0., 0., 0., 0.],\n",
       "       [0., 0., 0., 0., 0., 0., 0., 1., 0., 0.],\n",
       "       [0., 0., 0., 0., 0., 0., 0., 0., 1., 0.],\n",
       "       [0., 0., 0., 0., 0., 0., 0., 1., 0., 0.],\n",
       "       [0., 0., 0., 1., 0., 0., 0., 0., 0., 0.],\n",
       "       [0., 0., 1., 0., 0., 0., 0., 0., 0., 0.],\n",
       "       [0., 0., 1., 0., 0., 0., 0., 0., 0., 0.],\n",
       "       [0., 0., 0., 0., 0., 0., 1., 0., 0., 0.],\n",
       "       [0., 0., 0., 0., 0., 0., 0., 0., 0., 1.],\n",
       "       [0., 0., 0., 0., 0., 0., 0., 1., 0., 0.],\n",
       "       [0., 0., 0., 0., 1., 0., 0., 0., 0., 0.],\n",
       "       [0., 0., 0., 0., 0., 0., 1., 0., 0., 0.],\n",
       "       [0., 0., 0., 1., 0., 0., 0., 0., 0., 0.],\n",
       "       [0., 0., 1., 0., 0., 0., 0., 0., 0., 0.],\n",
       "       [0., 0., 1., 0., 0., 0., 0., 0., 0., 0.],\n",
       "       [0., 0., 0., 0., 0., 0., 0., 1., 0., 0.],\n",
       "       [0., 0., 0., 0., 0., 0., 0., 1., 0., 0.],\n",
       "       [0., 0., 0., 0., 1., 0., 0., 0., 0., 0.],\n",
       "       [0., 0., 0., 1., 0., 0., 0., 0., 0., 0.],\n",
       "       [1., 0., 0., 0., 0., 0., 0., 0., 0., 0.],\n",
       "       [1., 0., 0., 0., 0., 0., 0., 0., 0., 0.],\n",
       "       [1., 0., 0., 0., 0., 0., 0., 0., 0., 0.],\n",
       "       [0., 0., 0., 0., 0., 1., 0., 0., 0., 0.],\n",
       "       [0., 0., 0., 0., 0., 0., 0., 0., 1., 0.],\n",
       "       [0., 0., 0., 0., 0., 0., 0., 0., 1., 0.],\n",
       "       [0., 0., 0., 0., 0., 0., 0., 1., 0., 0.],\n",
       "       [1., 0., 0., 0., 0., 0., 0., 0., 0., 0.],\n",
       "       [0., 0., 1., 0., 0., 0., 0., 0., 0., 0.],\n",
       "       [0., 0., 0., 0., 0., 0., 0., 0., 1., 0.],\n",
       "       [0., 0., 0., 1., 0., 0., 0., 0., 0., 0.],\n",
       "       [0., 0., 0., 1., 0., 0., 0., 0., 0., 0.],\n",
       "       [0., 0., 0., 0., 0., 0., 0., 0., 0., 1.],\n",
       "       [0., 0., 0., 0., 1., 0., 0., 0., 0., 0.],\n",
       "       [0., 0., 0., 0., 0., 0., 0., 0., 0., 1.],\n",
       "       [0., 1., 0., 0., 0., 0., 0., 0., 0., 0.],\n",
       "       [0., 0., 0., 0., 0., 0., 0., 0., 1., 0.],\n",
       "       [0., 0., 1., 0., 0., 0., 0., 0., 0., 0.],\n",
       "       [0., 0., 0., 0., 0., 0., 1., 0., 0., 0.],\n",
       "       [0., 0., 0., 1., 0., 0., 0., 0., 0., 0.],\n",
       "       [0., 0., 0., 0., 0., 1., 0., 0., 0., 0.],\n",
       "       [0., 0., 0., 0., 0., 0., 1., 0., 0., 0.],\n",
       "       [0., 0., 0., 0., 0., 0., 0., 0., 1., 0.],\n",
       "       [0., 0., 0., 0., 0., 0., 0., 0., 1., 0.],\n",
       "       [0., 0., 0., 0., 0., 0., 1., 0., 0., 0.],\n",
       "       [0., 1., 0., 0., 0., 0., 0., 0., 0., 0.],\n",
       "       [0., 0., 0., 0., 1., 0., 0., 0., 0., 0.],\n",
       "       [0., 0., 0., 0., 0., 1., 0., 0., 0., 0.],\n",
       "       [0., 0., 0., 0., 1., 0., 0., 0., 0., 0.],\n",
       "       [0., 0., 0., 0., 0., 0., 0., 0., 0., 1.],\n",
       "       [1., 0., 0., 0., 0., 0., 0., 0., 0., 0.],\n",
       "       [1., 0., 0., 0., 0., 0., 0., 0., 0., 0.],\n",
       "       [0., 0., 0., 0., 0., 0., 0., 0., 0., 1.],\n",
       "       [0., 0., 0., 0., 1., 0., 0., 0., 0., 0.],\n",
       "       [0., 0., 0., 0., 0., 0., 0., 0., 0., 1.],\n",
       "       [1., 0., 0., 0., 0., 0., 0., 0., 0., 0.],\n",
       "       [0., 0., 0., 0., 0., 0., 0., 0., 0., 1.],\n",
       "       [0., 0., 0., 0., 0., 0., 0., 1., 0., 0.],\n",
       "       [0., 0., 0., 0., 0., 0., 0., 0., 1., 0.],\n",
       "       [0., 0., 0., 0., 0., 0., 0., 0., 1., 0.],\n",
       "       [1., 0., 0., 0., 0., 0., 0., 0., 0., 0.],\n",
       "       [0., 0., 0., 0., 0., 0., 1., 0., 0., 0.],\n",
       "       [0., 1., 0., 0., 0., 0., 0., 0., 0., 0.],\n",
       "       [1., 0., 0., 0., 0., 0., 0., 0., 0., 0.],\n",
       "       [0., 0., 0., 0., 0., 1., 0., 0., 0., 0.],\n",
       "       [0., 0., 0., 0., 0., 0., 0., 0., 0., 1.],\n",
       "       [0., 0., 0., 0., 0., 0., 0., 0., 0., 1.],\n",
       "       [0., 0., 0., 0., 0., 0., 0., 1., 0., 0.],\n",
       "       [0., 0., 0., 0., 1., 0., 0., 0., 0., 0.],\n",
       "       [0., 0., 0., 0., 1., 0., 0., 0., 0., 0.],\n",
       "       [0., 0., 0., 0., 0., 0., 0., 0., 1., 0.],\n",
       "       [0., 0., 0., 0., 0., 0., 0., 0., 1., 0.],\n",
       "       [0., 0., 0., 0., 0., 0., 0., 1., 0., 0.],\n",
       "       [0., 0., 0., 0., 0., 0., 0., 0., 1., 0.],\n",
       "       [0., 0., 0., 1., 0., 0., 0., 0., 0., 0.],\n",
       "       [0., 0., 0., 0., 1., 0., 0., 0., 0., 0.],\n",
       "       [0., 0., 0., 0., 0., 1., 0., 0., 0., 0.],\n",
       "       [0., 0., 1., 0., 0., 0., 0., 0., 0., 0.],\n",
       "       [0., 0., 0., 0., 1., 0., 0., 0., 0., 0.],\n",
       "       [0., 0., 0., 0., 1., 0., 0., 0., 0., 0.],\n",
       "       [0., 0., 0., 0., 0., 0., 0., 0., 1., 0.],\n",
       "       [0., 0., 0., 0., 0., 1., 0., 0., 0., 0.],\n",
       "       [0., 1., 0., 0., 0., 0., 0., 0., 0., 0.],\n",
       "       [0., 0., 1., 0., 0., 0., 0., 0., 0., 0.],\n",
       "       [0., 0., 0., 0., 0., 0., 0., 1., 0., 0.],\n",
       "       [0., 1., 0., 0., 0., 0., 0., 0., 0., 0.]], dtype=float32)"
      ]
     },
     "execution_count": 53,
     "metadata": {},
     "output_type": "execute_result"
    }
   ],
   "source": [
    "y_test"
   ]
  },
  {
   "cell_type": "code",
   "execution_count": null,
   "metadata": {},
   "outputs": [],
   "source": [
    "print(x_train.shape)\n",
    "print(y_train.shape)\n",
    "print(x_test.shape)\n",
    "print(y_test.shape)"
   ]
  },
  {
   "cell_type": "code",
   "execution_count": 972,
   "metadata": {},
   "outputs": [],
   "source": [
    "import tensorflow as tf\n",
    "model= tf.keras.models.Sequential()\n",
    "model.add(tf.keras.layers.Flatten())\n",
    "model.add(tf.keras.layers.Dense(128, activation = tf.nn.relu))\n",
    "model.add(tf.keras.layers.Dense(128, activation = tf.nn.relu))\n",
    "model.add(tf.keras.layers.Dense(10, activation = tf.nn.softmax))\n",
    "\n",
    "\n",
    "\n"
   ]
  },
  {
   "cell_type": "code",
   "execution_count": 975,
   "metadata": {},
   "outputs": [
    {
     "data": {
      "text/plain": [
       "numpy.ndarray"
      ]
     },
     "execution_count": 975,
     "metadata": {},
     "output_type": "execute_result"
    }
   ],
   "source": []
  },
  {
   "cell_type": "code",
   "execution_count": 976,
   "metadata": {},
   "outputs": [
    {
     "ename": "ValueError",
     "evalue": "('Error when checking model target: expected no data, but got:', array([[1., 0., 0., ..., 0., 0., 0.],\n       [0., 0., 0., ..., 0., 0., 1.],\n       [0., 0., 0., ..., 0., 0., 0.],\n       ...,\n       [0., 0., 0., ..., 0., 0., 0.],\n       [0., 0., 1., ..., 0., 0., 0.],\n       [0., 0., 1., ..., 0., 0., 0.]], dtype=float32))",
     "output_type": "error",
     "traceback": [
      "\u001b[1;31m---------------------------------------------------------------------------\u001b[0m",
      "\u001b[1;31mValueError\u001b[0m                                Traceback (most recent call last)",
      "\u001b[1;32m<ipython-input-976-b02016feefc6>\u001b[0m in \u001b[0;36m<module>\u001b[1;34m\u001b[0m\n\u001b[0;32m      1\u001b[0m model.compile(optimizer='adam',\n\u001b[0;32m      2\u001b[0m     loss='sparse_categorical_crossentropy',metrics = ['accuracy'])\n\u001b[1;32m----> 3\u001b[1;33m \u001b[0mmodel\u001b[0m\u001b[1;33m.\u001b[0m\u001b[0mfit\u001b[0m\u001b[1;33m(\u001b[0m\u001b[0mx_train\u001b[0m\u001b[1;33m,\u001b[0m \u001b[0my_train\u001b[0m\u001b[1;33m,\u001b[0m \u001b[0mepochs\u001b[0m\u001b[1;33m=\u001b[0m\u001b[1;36m100\u001b[0m\u001b[1;33m,\u001b[0m\u001b[0mbatch_size\u001b[0m\u001b[1;33m=\u001b[0m\u001b[1;36m15\u001b[0m\u001b[1;33m)\u001b[0m\u001b[1;33m\u001b[0m\u001b[1;33m\u001b[0m\u001b[0m\n\u001b[0m",
      "\u001b[1;32m~\\Anaconda3\\lib\\site-packages\\tensorflow\\python\\keras\\engine\\training.py\u001b[0m in \u001b[0;36mfit\u001b[1;34m(self, x, y, batch_size, epochs, verbose, callbacks, validation_split, validation_data, shuffle, class_weight, sample_weight, initial_epoch, steps_per_epoch, validation_steps, validation_freq, max_queue_size, workers, use_multiprocessing, **kwargs)\u001b[0m\n\u001b[0;32m    707\u001b[0m         \u001b[0msteps\u001b[0m\u001b[1;33m=\u001b[0m\u001b[0msteps_per_epoch\u001b[0m\u001b[1;33m,\u001b[0m\u001b[1;33m\u001b[0m\u001b[1;33m\u001b[0m\u001b[0m\n\u001b[0;32m    708\u001b[0m         \u001b[0mvalidation_split\u001b[0m\u001b[1;33m=\u001b[0m\u001b[0mvalidation_split\u001b[0m\u001b[1;33m,\u001b[0m\u001b[1;33m\u001b[0m\u001b[1;33m\u001b[0m\u001b[0m\n\u001b[1;32m--> 709\u001b[1;33m         shuffle=shuffle)\n\u001b[0m\u001b[0;32m    710\u001b[0m \u001b[1;33m\u001b[0m\u001b[0m\n\u001b[0;32m    711\u001b[0m     \u001b[1;31m# Prepare validation data.\u001b[0m\u001b[1;33m\u001b[0m\u001b[1;33m\u001b[0m\u001b[1;33m\u001b[0m\u001b[0m\n",
      "\u001b[1;32m~\\Anaconda3\\lib\\site-packages\\tensorflow\\python\\keras\\engine\\training.py\u001b[0m in \u001b[0;36m_standardize_user_data\u001b[1;34m(self, x, y, sample_weight, class_weight, batch_size, check_steps, steps_name, steps, validation_split, shuffle, extract_tensors_from_dataset)\u001b[0m\n\u001b[0;32m   2671\u001b[0m           \u001b[0mshapes\u001b[0m\u001b[1;33m=\u001b[0m\u001b[1;32mNone\u001b[0m\u001b[1;33m,\u001b[0m\u001b[1;33m\u001b[0m\u001b[1;33m\u001b[0m\u001b[0m\n\u001b[0;32m   2672\u001b[0m           \u001b[0mcheck_batch_axis\u001b[0m\u001b[1;33m=\u001b[0m\u001b[1;32mFalse\u001b[0m\u001b[1;33m,\u001b[0m  \u001b[1;31m# Don't enforce the batch size.\u001b[0m\u001b[1;33m\u001b[0m\u001b[1;33m\u001b[0m\u001b[0m\n\u001b[1;32m-> 2673\u001b[1;33m           exception_prefix='target')\n\u001b[0m\u001b[0;32m   2674\u001b[0m \u001b[1;33m\u001b[0m\u001b[0m\n\u001b[0;32m   2675\u001b[0m       \u001b[1;31m# Generate sample-wise weight values given the `sample_weight` and\u001b[0m\u001b[1;33m\u001b[0m\u001b[1;33m\u001b[0m\u001b[1;33m\u001b[0m\u001b[0m\n",
      "\u001b[1;32m~\\Anaconda3\\lib\\site-packages\\tensorflow\\python\\keras\\engine\\training_utils.py\u001b[0m in \u001b[0;36mstandardize_input_data\u001b[1;34m(data, names, shapes, check_batch_axis, exception_prefix)\u001b[0m\n\u001b[0;32m    303\u001b[0m       raise ValueError(\n\u001b[0;32m    304\u001b[0m           \u001b[1;34m'Error when checking model '\u001b[0m \u001b[1;33m+\u001b[0m \u001b[0mexception_prefix\u001b[0m \u001b[1;33m+\u001b[0m \u001b[1;34m': '\u001b[0m\u001b[1;33m\u001b[0m\u001b[1;33m\u001b[0m\u001b[0m\n\u001b[1;32m--> 305\u001b[1;33m           'expected no data, but got:', data)\n\u001b[0m\u001b[0;32m    306\u001b[0m     \u001b[1;32mreturn\u001b[0m \u001b[1;33m[\u001b[0m\u001b[1;33m]\u001b[0m\u001b[1;33m\u001b[0m\u001b[1;33m\u001b[0m\u001b[0m\n\u001b[0;32m    307\u001b[0m   \u001b[1;32mif\u001b[0m \u001b[0mdata\u001b[0m \u001b[1;32mis\u001b[0m \u001b[1;32mNone\u001b[0m\u001b[1;33m:\u001b[0m\u001b[1;33m\u001b[0m\u001b[1;33m\u001b[0m\u001b[0m\n",
      "\u001b[1;31mValueError\u001b[0m: ('Error when checking model target: expected no data, but got:', array([[1., 0., 0., ..., 0., 0., 0.],\n       [0., 0., 0., ..., 0., 0., 1.],\n       [0., 0., 0., ..., 0., 0., 0.],\n       ...,\n       [0., 0., 0., ..., 0., 0., 0.],\n       [0., 0., 1., ..., 0., 0., 0.],\n       [0., 0., 1., ..., 0., 0., 0.]], dtype=float32))"
     ]
    }
   ],
   "source": [
    "model.compile(optimizer='adam',\n",
    "    loss='sparse_categorical_crossentropy',metrics = ['accuracy'])\n",
    "model.fit(x_train, y_train, epochs=100,batch_size=15)\n"
   ]
  },
  {
   "cell_type": "code",
   "execution_count": null,
   "metadata": {},
   "outputs": [],
   "source": []
  },
  {
   "cell_type": "code",
   "execution_count": null,
   "metadata": {},
   "outputs": [],
   "source": []
  },
  {
   "cell_type": "code",
   "execution_count": null,
   "metadata": {},
   "outputs": [],
   "source": []
  },
  {
   "cell_type": "code",
   "execution_count": null,
   "metadata": {},
   "outputs": [],
   "source": []
  },
  {
   "cell_type": "code",
   "execution_count": 951,
   "metadata": {},
   "outputs": [
    {
     "name": "stdout",
     "output_type": "stream",
     "text": [
      "(3350, 1)\n",
      "(3350, 11)\n",
      "(1650, 1)\n",
      "(1650, 11)\n"
     ]
    }
   ],
   "source": [
    "print(x_train.shape)\n",
    "print(y_train.shape)\n",
    "print(x_test.shape)\n",
    "print(y_test.shape)"
   ]
  },
  {
   "cell_type": "code",
   "execution_count": 1003,
   "metadata": {},
   "outputs": [],
   "source": [
    "import keras \n",
    "\n",
    "import numpy as np\n",
    "\n",
    "\n",
    "from keras.models import Sequential\n",
    "\n",
    "model = Sequential()\n",
    "from keras.layers import Dense,Activation\n",
    "from keras.optimizers import SGD,Adam\n",
    "\n",
    "model.add(Dense(units=16, input_dim=1))\n",
    "model.add(Activation(activation='relu'))\n",
    "model.add(Dense(units=8))\n",
    "model.add(Activation(activation='relu'))\n",
    "model.add(Dense(units=18))\n",
    "model.add(Activation(activation='relu'))\n",
    "model.add(Dense(activation='softmax',units=11))"
   ]
  },
  {
   "cell_type": "code",
   "execution_count": 1004,
   "metadata": {},
   "outputs": [
    {
     "name": "stdout",
     "output_type": "stream",
     "text": [
      "_________________________________________________________________\n",
      "Layer (type)                 Output Shape              Param #   \n",
      "=================================================================\n",
      "dense_103 (Dense)            (None, 16)                32        \n",
      "_________________________________________________________________\n",
      "activation_62 (Activation)   (None, 16)                0         \n",
      "_________________________________________________________________\n",
      "dense_104 (Dense)            (None, 8)                 136       \n",
      "_________________________________________________________________\n",
      "activation_63 (Activation)   (None, 8)                 0         \n",
      "_________________________________________________________________\n",
      "dense_105 (Dense)            (None, 18)                162       \n",
      "_________________________________________________________________\n",
      "activation_64 (Activation)   (None, 18)                0         \n",
      "_________________________________________________________________\n",
      "dense_106 (Dense)            (None, 11)                209       \n",
      "=================================================================\n",
      "Total params: 539\n",
      "Trainable params: 539\n",
      "Non-trainable params: 0\n",
      "_________________________________________________________________\n"
     ]
    }
   ],
   "source": [
    "model.summary()"
   ]
  },
  {
   "cell_type": "code",
   "execution_count": 1005,
   "metadata": {},
   "outputs": [],
   "source": [
    "# compile model\n",
    "model.compile(loss='categorical_crossentropy', optimizer=Adam(),metrics=['accuracy'])"
   ]
  },
  {
   "cell_type": "code",
   "execution_count": 1006,
   "metadata": {},
   "outputs": [
    {
     "name": "stdout",
     "output_type": "stream",
     "text": [
      "Epoch 1/100\n",
      "3350/3350 [==============================] - 2s 484us/step - loss: 8.7613 - acc: 0.2251\n",
      "Epoch 2/100\n",
      "3350/3350 [==============================] - 0s 142us/step - loss: 4.4524 - acc: 0.2125\n",
      "Epoch 3/100\n",
      "3350/3350 [==============================] - 0s 137us/step - loss: 2.2340 - acc: 0.1949\n",
      "Epoch 4/100\n",
      "3350/3350 [==============================] - 0s 138us/step - loss: 2.0258 - acc: 0.2057\n",
      "Epoch 5/100\n",
      "3350/3350 [==============================] - 0s 137us/step - loss: 1.9811 - acc: 0.2104\n",
      "Epoch 6/100\n",
      "3350/3350 [==============================] - 0s 136us/step - loss: 1.9371 - acc: 0.2176\n",
      "Epoch 7/100\n",
      "3350/3350 [==============================] - 1s 153us/step - loss: 1.8794 - acc: 0.2134\n",
      "Epoch 8/100\n",
      "3350/3350 [==============================] - 1s 166us/step - loss: 1.9019 - acc: 0.2215\n",
      "Epoch 9/100\n",
      "3350/3350 [==============================] - 1s 169us/step - loss: 1.7884 - acc: 0.2296\n",
      "Epoch 10/100\n",
      "3350/3350 [==============================] - 0s 146us/step - loss: 1.7370 - acc: 0.2287\n",
      "Epoch 11/100\n",
      "3350/3350 [==============================] - 1s 171us/step - loss: 1.7284 - acc: 0.2245\n",
      "Epoch 12/100\n",
      "3350/3350 [==============================] - 1s 159us/step - loss: 1.7280 - acc: 0.2296\n",
      "Epoch 13/100\n",
      "3350/3350 [==============================] - 0s 146us/step - loss: 1.7270 - acc: 0.2325\n",
      "Epoch 14/100\n",
      "3350/3350 [==============================] - 1s 170us/step - loss: 1.7275 - acc: 0.2191\n",
      "Epoch 15/100\n",
      "3350/3350 [==============================] - 0s 141us/step - loss: 1.7350 - acc: 0.2269\n",
      "Epoch 16/100\n",
      "3350/3350 [==============================] - 1s 168us/step - loss: 1.7279 - acc: 0.2176\n",
      "Epoch 17/100\n",
      "3350/3350 [==============================] - 1s 175us/step - loss: 1.7264 - acc: 0.2355\n",
      "Epoch 18/100\n",
      "3350/3350 [==============================] - 1s 188us/step - loss: 1.7259 - acc: 0.2269\n",
      "Epoch 19/100\n",
      "3350/3350 [==============================] - 1s 166us/step - loss: 1.7257 - acc: 0.2340\n",
      "Epoch 20/100\n",
      "3350/3350 [==============================] - 1s 180us/step - loss: 1.7258 - acc: 0.2212\n",
      "Epoch 21/100\n",
      "3350/3350 [==============================] - 1s 150us/step - loss: 1.7256 - acc: 0.2206\n",
      "Epoch 22/100\n",
      "3350/3350 [==============================] - 1s 164us/step - loss: 1.7254 - acc: 0.2296\n",
      "Epoch 23/100\n",
      "3350/3350 [==============================] - 1s 166us/step - loss: 1.7256 - acc: 0.2278\n",
      "Epoch 24/100\n",
      "3350/3350 [==============================] - 0s 142us/step - loss: 1.7253 - acc: 0.2284\n",
      "Epoch 25/100\n",
      "3350/3350 [==============================] - 1s 180us/step - loss: 1.7250 - acc: 0.2382\n",
      "Epoch 26/100\n",
      "3350/3350 [==============================] - 1s 159us/step - loss: 1.7251 - acc: 0.2221\n",
      "Epoch 27/100\n",
      "3350/3350 [==============================] - 0s 145us/step - loss: 1.7247 - acc: 0.2296\n",
      "Epoch 28/100\n",
      "3350/3350 [==============================] - 0s 142us/step - loss: 1.7248 - acc: 0.2272\n",
      "Epoch 29/100\n",
      "3350/3350 [==============================] - 0s 145us/step - loss: 1.7249 - acc: 0.2376\n",
      "Epoch 30/100\n",
      "3350/3350 [==============================] - 0s 139us/step - loss: 1.7248 - acc: 0.2352\n",
      "Epoch 31/100\n",
      "3350/3350 [==============================] - 0s 135us/step - loss: 1.7250 - acc: 0.2301\n",
      "Epoch 32/100\n",
      "3350/3350 [==============================] - 0s 141us/step - loss: 1.7248 - acc: 0.2340\n",
      "Epoch 33/100\n",
      "3350/3350 [==============================] - 0s 140us/step - loss: 1.7247 - acc: 0.2269\n",
      "Epoch 34/100\n",
      "3350/3350 [==============================] - 0s 138us/step - loss: 1.7246 - acc: 0.2251\n",
      "Epoch 35/100\n",
      "3350/3350 [==============================] - 0s 137us/step - loss: 1.7246 - acc: 0.2287\n",
      "Epoch 36/100\n",
      "3350/3350 [==============================] - 0s 142us/step - loss: 1.7245 - acc: 0.2224\n",
      "Epoch 37/100\n",
      "3350/3350 [==============================] - 0s 137us/step - loss: 1.7247 - acc: 0.2307\n",
      "Epoch 38/100\n",
      "3350/3350 [==============================] - 0s 147us/step - loss: 1.7245 - acc: 0.2182\n",
      "Epoch 39/100\n",
      "3350/3350 [==============================] - 0s 141us/step - loss: 1.7245 - acc: 0.2307\n",
      "Epoch 40/100\n",
      "3350/3350 [==============================] - 0s 138us/step - loss: 1.7246 - acc: 0.2284\n",
      "Epoch 41/100\n",
      "3350/3350 [==============================] - 0s 141us/step - loss: 1.7243 - acc: 0.2310\n",
      "Epoch 42/100\n",
      "3350/3350 [==============================] - 0s 148us/step - loss: 1.7244 - acc: 0.2209\n",
      "Epoch 43/100\n",
      "3350/3350 [==============================] - 0s 148us/step - loss: 1.7415 - acc: 0.2331\n",
      "Epoch 44/100\n",
      "3350/3350 [==============================] - 1s 154us/step - loss: 1.7244 - acc: 0.2272\n",
      "Epoch 45/100\n",
      "3350/3350 [==============================] - 0s 137us/step - loss: 1.7243 - acc: 0.2307\n",
      "Epoch 46/100\n",
      "3350/3350 [==============================] - 0s 148us/step - loss: 1.7243 - acc: 0.2287\n",
      "Epoch 47/100\n",
      "3350/3350 [==============================] - 0s 145us/step - loss: 1.7244 - acc: 0.2322\n",
      "Epoch 48/100\n",
      "3350/3350 [==============================] - 0s 147us/step - loss: 1.7247 - acc: 0.2278\n",
      "Epoch 49/100\n",
      "3350/3350 [==============================] - 1s 158us/step - loss: 1.7244 - acc: 0.2319\n",
      "Epoch 50/100\n",
      "3350/3350 [==============================] - 0s 143us/step - loss: 1.7242 - acc: 0.2313\n",
      "Epoch 51/100\n",
      "3350/3350 [==============================] - 0s 140us/step - loss: 1.7244 - acc: 0.2239\n",
      "Epoch 52/100\n",
      "3350/3350 [==============================] - 0s 142us/step - loss: 1.7241 - acc: 0.2346\n",
      "Epoch 53/100\n",
      "3350/3350 [==============================] - 0s 141us/step - loss: 1.7243 - acc: 0.2310\n",
      "Epoch 54/100\n",
      "3350/3350 [==============================] - 0s 136us/step - loss: 1.7243 - acc: 0.2313\n",
      "Epoch 55/100\n",
      "3350/3350 [==============================] - 0s 142us/step - loss: 1.7240 - acc: 0.2278\n",
      "Epoch 56/100\n",
      "3350/3350 [==============================] - 0s 146us/step - loss: 1.7245 - acc: 0.2251\n",
      "Epoch 57/100\n",
      "3350/3350 [==============================] - 1s 151us/step - loss: 1.7244 - acc: 0.2313\n",
      "Epoch 58/100\n",
      "3350/3350 [==============================] - 0s 139us/step - loss: 1.7242 - acc: 0.2296\n",
      "Epoch 59/100\n",
      "3350/3350 [==============================] - 0s 144us/step - loss: 1.7241 - acc: 0.2269\n",
      "Epoch 60/100\n",
      "3350/3350 [==============================] - 0s 148us/step - loss: 1.7241 - acc: 0.2334\n",
      "Epoch 61/100\n",
      "3350/3350 [==============================] - 0s 142us/step - loss: 1.7242 - acc: 0.2313\n",
      "Epoch 62/100\n",
      "3350/3350 [==============================] - 0s 145us/step - loss: 1.7241 - acc: 0.2251\n",
      "Epoch 63/100\n",
      "3350/3350 [==============================] - 1s 155us/step - loss: 1.7240 - acc: 0.2242\n",
      "Epoch 64/100\n",
      "3350/3350 [==============================] - 0s 143us/step - loss: 1.7240 - acc: 0.2299\n",
      "Epoch 65/100\n",
      "3350/3350 [==============================] - 0s 142us/step - loss: 1.7240 - acc: 0.2304\n",
      "Epoch 66/100\n",
      "3350/3350 [==============================] - 0s 142us/step - loss: 1.7241 - acc: 0.2275\n",
      "Epoch 67/100\n",
      "3350/3350 [==============================] - 0s 143us/step - loss: 1.7239 - acc: 0.2307\n",
      "Epoch 68/100\n",
      "3350/3350 [==============================] - 0s 149us/step - loss: 1.7240 - acc: 0.2301\n",
      "Epoch 69/100\n",
      "3350/3350 [==============================] - 1s 150us/step - loss: 1.7240 - acc: 0.2266\n",
      "Epoch 70/100\n",
      "3350/3350 [==============================] - 1s 165us/step - loss: 1.7240 - acc: 0.2254\n",
      "Epoch 71/100\n",
      "3350/3350 [==============================] - 1s 152us/step - loss: 1.7240 - acc: 0.2307\n",
      "Epoch 72/100\n",
      "3350/3350 [==============================] - 0s 142us/step - loss: 1.7240 - acc: 0.2284\n",
      "Epoch 73/100\n",
      "3350/3350 [==============================] - 0s 141us/step - loss: 1.7237 - acc: 0.2257\n",
      "Epoch 74/100\n",
      "3350/3350 [==============================] - 0s 146us/step - loss: 1.7241 - acc: 0.2236\n",
      "Epoch 75/100\n",
      "3350/3350 [==============================] - 0s 149us/step - loss: 1.7239 - acc: 0.2272\n",
      "Epoch 76/100\n",
      "3350/3350 [==============================] - 1s 155us/step - loss: 1.7242 - acc: 0.2373\n",
      "Epoch 77/100\n",
      "3350/3350 [==============================] - 0s 135us/step - loss: 1.7241 - acc: 0.2269\n",
      "Epoch 78/100\n",
      "3350/3350 [==============================] - 0s 147us/step - loss: 1.7242 - acc: 0.2319\n",
      "Epoch 79/100\n",
      "3350/3350 [==============================] - 0s 149us/step - loss: 1.7237 - acc: 0.2364\n",
      "Epoch 80/100\n",
      "3350/3350 [==============================] - 1s 153us/step - loss: 1.7238 - acc: 0.2275\n",
      "Epoch 81/100\n",
      "3350/3350 [==============================] - 0s 142us/step - loss: 1.7237 - acc: 0.2328\n",
      "Epoch 82/100\n",
      "3350/3350 [==============================] - 0s 137us/step - loss: 1.7241 - acc: 0.2233\n",
      "Epoch 83/100\n",
      "3350/3350 [==============================] - 0s 130us/step - loss: 1.7237 - acc: 0.2263\n",
      "Epoch 84/100\n",
      "3350/3350 [==============================] - 0s 132us/step - loss: 1.7239 - acc: 0.2358\n",
      "Epoch 85/100\n",
      "3350/3350 [==============================] - 0s 135us/step - loss: 1.7241 - acc: 0.2260\n",
      "Epoch 86/100\n",
      "3350/3350 [==============================] - 0s 128us/step - loss: 1.7235 - acc: 0.2287\n",
      "Epoch 87/100\n",
      "3350/3350 [==============================] - 0s 134us/step - loss: 1.7239 - acc: 0.2251\n",
      "Epoch 88/100\n",
      "3350/3350 [==============================] - 0s 137us/step - loss: 1.7236 - acc: 0.2304\n",
      "Epoch 89/100\n",
      "3350/3350 [==============================] - 0s 132us/step - loss: 1.7240 - acc: 0.2313\n",
      "Epoch 90/100\n",
      "3350/3350 [==============================] - 0s 130us/step - loss: 1.7239 - acc: 0.2328\n",
      "Epoch 91/100\n",
      "3350/3350 [==============================] - 0s 132us/step - loss: 1.7237 - acc: 0.2263\n",
      "Epoch 92/100\n",
      "3350/3350 [==============================] - 0s 133us/step - loss: 1.7238 - acc: 0.2343\n",
      "Epoch 93/100\n",
      "3350/3350 [==============================] - 0s 135us/step - loss: 1.7238 - acc: 0.2352\n",
      "Epoch 94/100\n",
      "3350/3350 [==============================] - 0s 134us/step - loss: 1.7242 - acc: 0.2275\n",
      "Epoch 95/100\n",
      "3350/3350 [==============================] - 0s 132us/step - loss: 1.7236 - acc: 0.2310\n",
      "Epoch 96/100\n",
      "3350/3350 [==============================] - 0s 137us/step - loss: 1.7239 - acc: 0.2272\n",
      "Epoch 97/100\n",
      "3350/3350 [==============================] - 0s 132us/step - loss: 1.7237 - acc: 0.2313\n",
      "Epoch 98/100\n",
      "3350/3350 [==============================] - 0s 134us/step - loss: 1.7236 - acc: 0.2319\n",
      "Epoch 99/100\n",
      "3350/3350 [==============================] - 0s 132us/step - loss: 1.7235 - acc: 0.2287\n",
      "Epoch 100/100\n",
      "3350/3350 [==============================] - 0s 138us/step - loss: 1.7236 - acc: 0.2310\n"
     ]
    },
    {
     "data": {
      "text/plain": [
       "<keras.callbacks.History at 0x285ec72dda0>"
      ]
     },
     "execution_count": 1006,
     "metadata": {},
     "output_type": "execute_result"
    }
   ],
   "source": [
    "model.fit(x_train, y_train, epochs=100,batch_size=10 )"
   ]
  },
  {
   "cell_type": "code",
   "execution_count": null,
   "metadata": {},
   "outputs": [],
   "source": []
  },
  {
   "cell_type": "code",
   "execution_count": null,
   "metadata": {},
   "outputs": [],
   "source": []
  },
  {
   "cell_type": "code",
   "execution_count": null,
   "metadata": {},
   "outputs": [],
   "source": []
  },
  {
   "cell_type": "code",
   "execution_count": null,
   "metadata": {},
   "outputs": [],
   "source": []
  },
  {
   "cell_type": "code",
   "execution_count": null,
   "metadata": {},
   "outputs": [],
   "source": []
  },
  {
   "cell_type": "code",
   "execution_count": null,
   "metadata": {},
   "outputs": [],
   "source": []
  },
  {
   "cell_type": "code",
   "execution_count": null,
   "metadata": {},
   "outputs": [],
   "source": []
  },
  {
   "cell_type": "code",
   "execution_count": null,
   "metadata": {},
   "outputs": [],
   "source": [
    "model.fit(x_train,y_train,epochs=3)"
   ]
  }
 ],
 "metadata": {
  "kernelspec": {
   "display_name": "Python 3",
   "language": "python",
   "name": "python3"
  },
  "language_info": {
   "codemirror_mode": {
    "name": "ipython",
    "version": 3
   },
   "file_extension": ".py",
   "mimetype": "text/x-python",
   "name": "python",
   "nbconvert_exporter": "python",
   "pygments_lexer": "ipython3",
   "version": "3.7.0"
  }
 },
 "nbformat": 4,
 "nbformat_minor": 2
}
