{
 "cells": [
  {
   "cell_type": "code",
   "execution_count": 1,
   "metadata": {
    "scrolled": true
   },
   "outputs": [
    {
     "data": {
      "text/plain": [
       "'RAmesh'"
      ]
     },
     "execution_count": 1,
     "metadata": {},
     "output_type": "execute_result"
    }
   ],
   "source": [
    "\"RAmesh\""
   ]
  },
  {
   "cell_type": "code",
   "execution_count": 2,
   "metadata": {},
   "outputs": [
    {
     "name": "stderr",
     "output_type": "stream",
     "text": [
      "Using TensorFlow backend.\n"
     ]
    }
   ],
   "source": [
    "  \n",
    "import numpy as np\n",
    "from keras.models import Sequential\n",
    "from keras.layers import Dense\n",
    "from keras.layers import Dropout\n",
    "from keras.layers import LSTM\n",
    "from keras.utils import np_utils"
   ]
  },
  {
   "cell_type": "code",
   "execution_count": 6,
   "metadata": {
    "scrolled": true
   },
   "outputs": [
    {
     "data": {
      "text/plain": [
       "\"her father loved me, oft invited me;\\nstill questioned me the story of my life\\nfrom year to year -- the battles, sieges, fortunes\\nthat i have passed.\\ni ran it through, even from my boyish days\\nto th' very moment that he bade me tell it.\\nwherein i spoke of most disastrous chances,\\nof moving accidents by flood and field;\\nof hairbreadth scapes i' the' imminent deadly breach;\\nof being taken by the insolent foe\\nand sold to slavery; of my redemption thence\\nand portance in my travels' history;\\nwherein of anters vast and deserts idle,\\nrough quarries, rocks, and hills whose heads touch heaven,\\nit was my hint to speak -- such was the process;\\nand of the cannibals that each other eat,\\nthe anthropophagi, and men whose heads\\ndo grow beneath their shoulders. this to hear\\nwould desdemona seriously incline;\\nbut still the house affairs would draw her thence;\\nwhich ever she could with haste dispatch,\\nshe'd come again, and with a greedy ear\\ndevour up my discourse. which i observing,\\ntook once a pliant hour, and found good means\\nto draw from her a prayer of earnest heart\\nthat i would all my pilgrimage dilate,\\nwhereof by parcels she had something heard,\\nbut not intentively. i did consent,\\nand often did beguile her of her tears\\nwhen i did speak of some distressful stroke\\nthat my youth suffered. my story being done,\\nshe gave me for my pains a world of sighs.\\nshe swore, i' faith, 'twas strange, 'twas passing strange;\\n'twas pitiful, 'twas wondrous pitiful.\\nshe wished she had not heard it; yet she wished\\nthat heaven had made her such a man. she thanked me;\\nand bade me, if i had a friend that loved her,\\ni should but teach him how to tell my story,\\nand that would woo her. upon this hint i spake.\\nshe loved me for the dangers i had passed,\\nand i loved her that she did pity them.\\nthis only is the witchcraft i have used.\\nhere comes the lady. let her witness it.\""
      ]
     },
     "execution_count": 6,
     "metadata": {},
     "output_type": "execute_result"
    }
   ],
   "source": [
    "data = open(\"Othello.txt\").read().lower()\n",
    "data"
   ]
  },
  {
   "cell_type": "code",
   "execution_count": 17,
   "metadata": {},
   "outputs": [
    {
     "data": {
      "text/plain": [
       "1860"
      ]
     },
     "execution_count": 17,
     "metadata": {},
     "output_type": "execute_result"
    }
   ],
   "source": [
    "len(data)"
   ]
  },
  {
   "cell_type": "code",
   "execution_count": 7,
   "metadata": {},
   "outputs": [
    {
     "data": {
      "text/plain": [
       "['\\n',\n",
       " ' ',\n",
       " \"'\",\n",
       " ',',\n",
       " '-',\n",
       " '.',\n",
       " ';',\n",
       " 'a',\n",
       " 'b',\n",
       " 'c',\n",
       " 'd',\n",
       " 'e',\n",
       " 'f',\n",
       " 'g',\n",
       " 'h',\n",
       " 'i',\n",
       " 'k',\n",
       " 'l',\n",
       " 'm',\n",
       " 'n',\n",
       " 'o',\n",
       " 'p',\n",
       " 'q',\n",
       " 'r',\n",
       " 's',\n",
       " 't',\n",
       " 'u',\n",
       " 'v',\n",
       " 'w',\n",
       " 'y']"
      ]
     },
     "execution_count": 7,
     "metadata": {},
     "output_type": "execute_result"
    }
   ],
   "source": [
    "chars = sorted(list(set(data)))\n",
    "chars"
   ]
  },
  {
   "cell_type": "code",
   "execution_count": 9,
   "metadata": {},
   "outputs": [
    {
     "data": {
      "text/plain": [
       "1860"
      ]
     },
     "execution_count": 9,
     "metadata": {},
     "output_type": "execute_result"
    }
   ],
   "source": [
    "totalChars = len(data)\n",
    "totalChars"
   ]
  },
  {
   "cell_type": "code",
   "execution_count": 10,
   "metadata": {},
   "outputs": [
    {
     "data": {
      "text/plain": [
       "30"
      ]
     },
     "execution_count": 10,
     "metadata": {},
     "output_type": "execute_result"
    }
   ],
   "source": [
    "numberOfUniqueChars = len(chars)\n",
    "numberOfUniqueChars"
   ]
  },
  {
   "cell_type": "code",
   "execution_count": 11,
   "metadata": {},
   "outputs": [
    {
     "data": {
      "text/plain": [
       "{'\\n': 0,\n",
       " ' ': 1,\n",
       " \"'\": 2,\n",
       " ',': 3,\n",
       " '-': 4,\n",
       " '.': 5,\n",
       " ';': 6,\n",
       " 'a': 7,\n",
       " 'b': 8,\n",
       " 'c': 9,\n",
       " 'd': 10,\n",
       " 'e': 11,\n",
       " 'f': 12,\n",
       " 'g': 13,\n",
       " 'h': 14,\n",
       " 'i': 15,\n",
       " 'k': 16,\n",
       " 'l': 17,\n",
       " 'm': 18,\n",
       " 'n': 19,\n",
       " 'o': 20,\n",
       " 'p': 21,\n",
       " 'q': 22,\n",
       " 'r': 23,\n",
       " 's': 24,\n",
       " 't': 25,\n",
       " 'u': 26,\n",
       " 'v': 27,\n",
       " 'w': 28,\n",
       " 'y': 29}"
      ]
     },
     "execution_count": 11,
     "metadata": {},
     "output_type": "execute_result"
    }
   ],
   "source": [
    "CharsForids = {char:Id for Id, char in enumerate(chars)}\n",
    "CharsForids"
   ]
  },
  {
   "cell_type": "code",
   "execution_count": 12,
   "metadata": {},
   "outputs": [
    {
     "data": {
      "text/plain": [
       "{0: '\\n',\n",
       " 1: ' ',\n",
       " 2: \"'\",\n",
       " 3: ',',\n",
       " 4: '-',\n",
       " 5: '.',\n",
       " 6: ';',\n",
       " 7: 'a',\n",
       " 8: 'b',\n",
       " 9: 'c',\n",
       " 10: 'd',\n",
       " 11: 'e',\n",
       " 12: 'f',\n",
       " 13: 'g',\n",
       " 14: 'h',\n",
       " 15: 'i',\n",
       " 16: 'k',\n",
       " 17: 'l',\n",
       " 18: 'm',\n",
       " 19: 'n',\n",
       " 20: 'o',\n",
       " 21: 'p',\n",
       " 22: 'q',\n",
       " 23: 'r',\n",
       " 24: 's',\n",
       " 25: 't',\n",
       " 26: 'u',\n",
       " 27: 'v',\n",
       " 28: 'w',\n",
       " 29: 'y'}"
      ]
     },
     "execution_count": 12,
     "metadata": {},
     "output_type": "execute_result"
    }
   ],
   "source": [
    "idsForChars = {Id:char for Id, char in enumerate(chars)}\n",
    "idsForChars"
   ]
  },
  {
   "cell_type": "code",
   "execution_count": 14,
   "metadata": {},
   "outputs": [
    {
     "data": {
      "text/plain": [
       "100"
      ]
     },
     "execution_count": 14,
     "metadata": {},
     "output_type": "execute_result"
    }
   ],
   "source": [
    "numberOfCharsToLearn = 100\n",
    "numberOfCharsToLearn"
   ]
  },
  {
   "cell_type": "code",
   "execution_count": 15,
   "metadata": {},
   "outputs": [
    {
     "data": {
      "text/plain": [
       "1760"
      ]
     },
     "execution_count": 15,
     "metadata": {},
     "output_type": "execute_result"
    }
   ],
   "source": [
    "counter = totalChars - numberOfCharsToLearn\n",
    "counter"
   ]
  },
  {
   "cell_type": "code",
   "execution_count": null,
   "metadata": {},
   "outputs": [],
   "source": [
    "for i in data[1:1+100]:\n",
    "    print(i)"
   ]
  },
  {
   "cell_type": "code",
   "execution_count": 40,
   "metadata": {},
   "outputs": [
    {
     "name": "stdout",
     "output_type": "stream",
     "text": [
      "[14, 11, 1, 8, 7, 25, 25, 17, 11, 24, 3, 1, 24, 15, 11, 13, 11, 24, 3, 1, 12, 20, 23, 25, 26, 19, 11, 24, 0, 25, 14, 7, 25, 1, 15, 1, 14, 7, 27, 11, 1, 21, 7, 24, 24, 11, 10, 5, 0, 15, 1, 23, 7, 19, 1, 15, 25, 1, 25, 14, 23, 20, 26, 13, 14, 3, 1, 11, 27, 11, 19, 1, 12, 23, 20, 18, 1, 18, 29, 1, 8, 20, 29, 15, 24, 14, 1, 10, 7, 29, 24, 0, 25, 20, 1, 25, 14, 2, 1, 27, 11, 23, 29, 1, 18, 20, 18, 11, 19, 25, 1, 25, 14, 7, 25, 1, 14, 11, 1, 8, 7, 10, 11, 1, 18, 11, 1, 25, 11, 17, 17, 1, 15, 25, 5, 0, 28, 14, 11, 23, 11, 15, 19, 1, 15, 1, 24, 21, 20, 16, 11, 1, 20, 12, 1, 18, 20, 24, 25, 1, 10, 15, 24, 7, 24, 25, 23, 20, 26, 24, 1, 9, 14, 7, 19, 9, 11, 24, 3, 0, 20, 12, 1, 18, 20, 27, 15, 19, 13, 1, 7, 9, 9, 15, 10, 11, 19, 25, 24, 1, 8, 29, 1, 12, 17, 20, 20, 10, 1, 7, 19, 10, 1, 12, 15, 11, 17, 10, 6, 0, 20, 12, 1, 14, 7, 15, 23, 8, 23, 11, 7, 10, 25, 14, 1, 24, 9, 7, 21, 11, 24, 1, 15, 2, 1, 25, 14, 11, 2, 1, 15, 18, 18, 15, 19, 11, 19, 25, 1, 10, 11, 7, 10, 17, 29, 1, 8, 23, 11, 7, 9, 14, 6, 0, 20, 12, 1, 8, 11, 15, 19, 13, 1, 25, 7, 16, 11, 19, 1, 8, 29, 1, 25, 14, 11, 1, 15, 19, 24, 20, 17, 11, 19, 25, 1, 12, 20, 11, 0, 7, 19, 10, 1, 24, 20, 17, 10, 1, 25, 20, 1, 24, 17, 7, 27, 11, 23, 29, 6, 1, 20, 12, 1, 18, 29, 1, 23, 11, 10, 11, 18, 21, 25, 15, 20, 19, 1, 25, 14, 11, 19, 9, 11, 0, 7, 19, 10, 1, 21, 20, 23, 25, 7, 19, 9, 11, 1, 15, 19, 1, 18, 29, 1, 25, 23, 7, 27, 11, 17, 24, 2, 1, 14, 15, 24, 25, 20, 23, 29, 6, 0, 28, 14, 11, 23, 11, 15, 19, 1, 20, 12, 1, 7, 19, 25, 11, 23, 24, 1, 27, 7, 24, 25, 1, 7, 19, 10, 1, 10, 11, 24, 11, 23, 25, 24, 1, 15, 10, 17, 11, 3, 0, 23, 20, 26, 13, 14, 1, 22, 26, 7, 23, 23, 15, 11, 24, 3, 1, 23, 20, 9, 16, 24, 3, 1, 7, 19, 10, 1, 14, 15, 17, 17, 24, 1, 28, 14, 20, 24, 11, 1, 14, 11, 7, 10, 24, 1, 25, 20, 26, 9, 14, 1, 14, 11, 7, 27, 11, 19, 3, 0, 15, 25, 1, 28, 7, 24, 1, 18, 29, 1, 14, 15, 19, 25, 1, 25, 20, 1, 24, 21, 11, 7, 16, 1, 4, 4, 1, 24, 26, 9, 14, 1, 28, 7, 24, 1, 25, 14, 11, 1, 21, 23, 20, 9, 11, 24, 24, 6, 0, 7, 19, 10, 1, 20, 12, 1, 25, 14, 11, 1, 9, 7, 19, 19, 15, 8, 7, 17, 24, 1, 25, 14, 7, 25, 1, 11, 7, 9, 14, 1, 20, 25, 14, 11, 23, 1, 11, 7, 25, 3, 0, 25, 14, 11, 1, 7, 19, 25, 14, 23, 20, 21, 20, 21, 14, 7, 13, 15, 3, 1, 7, 19, 10, 1, 18, 11, 19, 1, 28, 14, 20, 24, 11, 1, 14, 11, 7, 10, 24, 0, 10, 20, 1, 13, 23, 20, 28, 1, 8, 11, 19, 11, 7, 25, 14, 1, 25, 14, 11, 15, 23, 1, 24, 14, 20, 26, 17, 10, 11, 23, 24, 5, 1, 25, 14, 15, 24, 1, 25, 20, 1, 14, 11, 7, 23, 0, 28, 20, 26, 17, 10, 1, 10, 11, 24, 10, 11, 18, 20, 19, 7, 1, 24, 11, 23, 15, 20, 26, 24, 17, 29, 1, 15, 19, 9, 17, 15, 19, 11, 6, 0, 8, 26, 25, 1, 24, 25, 15, 17, 17, 1, 25, 14, 11, 1, 14, 20, 26, 24, 11, 1, 7, 12, 12, 7, 15, 23, 24, 1, 28, 20, 26, 17, 10, 1, 10, 23, 7, 28, 1, 14, 11, 23, 1, 25, 14, 11, 19, 9, 11, 6, 0, 28, 14, 15, 9, 14, 1, 11, 27, 11, 23, 1, 24, 14, 11, 1, 9, 20, 26, 17, 10, 1, 28, 15, 25, 14, 1, 14, 7, 24, 25, 11, 1, 10, 15, 24, 21, 7, 25, 9, 14, 3, 0, 24, 14, 11, 2, 10, 1, 9, 20, 18, 11, 1, 7, 13, 7, 15, 19, 3, 1, 7, 19, 10, 1, 28, 15, 25, 14, 1, 7, 1, 13, 23, 11, 11, 10, 29, 1, 11, 7, 23, 0, 10, 11, 27, 20, 26, 23, 1, 26, 21, 1, 18, 29, 1, 10, 15, 24, 9, 20, 26, 23, 24, 11, 5, 1, 28, 14, 15, 9, 14, 1, 15, 1, 20, 8, 24, 11, 23, 27, 15, 19, 13, 3, 0, 25, 20, 20, 16, 1, 20, 19, 9, 11, 1, 7, 1, 21, 17, 15, 7, 19, 25, 1, 14, 20, 26, 23, 3, 1, 7, 19, 10, 1, 12, 20, 26, 19, 10, 1, 13, 20, 20, 10, 1, 18, 11, 7, 19, 24, 0, 25, 20, 1, 10, 23, 7, 28, 1, 12, 23, 20, 18, 1, 14, 11, 23, 1, 7, 1, 21, 23, 7, 29, 11, 23, 1, 20, 12, 1, 11, 7, 23, 19, 11, 24, 25, 1, 14, 11, 7, 23, 25, 0, 25, 14, 7, 25, 1, 15, 1, 28, 20, 26, 17, 10, 1, 7, 17, 17, 1, 18, 29, 1, 21, 15, 17, 13, 23, 15, 18, 7, 13, 11, 1, 10, 15, 17, 7, 25, 11, 3, 0, 28, 14, 11, 23, 11, 20, 12, 1, 8, 29, 1, 21, 7, 23, 9, 11, 17, 24, 1, 24, 14, 11, 1, 14, 7, 10, 1, 24, 20, 18, 11, 25, 14, 15, 19, 13, 1, 14, 11, 7, 23, 10, 3, 0, 8, 26, 25, 1, 19, 20, 25, 1, 15, 19, 25, 11, 19, 25, 15, 27, 11, 17, 29, 5, 1, 15, 1, 10, 15, 10, 1, 9, 20, 19, 24, 11, 19, 25, 3, 0, 7, 19, 10, 1, 20, 12, 25, 11, 19, 1, 10, 15, 10, 1, 8, 11, 13, 26, 15, 17, 11, 1, 14, 11, 23, 1, 20, 12, 1, 14, 11, 23, 1, 25, 11, 7, 23, 24, 0, 28, 14, 11, 19, 1, 15, 1, 10, 15, 10, 1, 24, 21, 11, 7, 16, 1, 20, 12, 1, 24, 20, 18, 11, 1, 10, 15, 24, 25, 23, 11, 24, 24, 12, 26, 17, 1, 24, 25, 23, 20, 16, 11, 0, 25, 14, 7, 25, 1, 18, 29, 1, 29, 20, 26, 25, 14, 1, 24, 26, 12, 12, 11, 23, 11, 10, 5, 1, 18, 29, 1, 24, 25, 20, 23, 29, 1, 8, 11, 15, 19, 13, 1, 10, 20, 19, 11, 3, 0, 24, 14, 11, 1, 13, 7, 27, 11, 1, 18, 11, 1, 12, 20, 23, 1, 18, 29, 1, 21, 7, 15, 19, 24, 1, 7, 1, 28, 20, 23, 17, 10, 1, 20, 12, 1, 24, 15, 13, 14, 24, 5, 0, 24, 14, 11, 1, 24, 28, 20, 23, 11, 3, 1, 15, 2, 1, 12, 7, 15, 25, 14, 3, 1, 2, 25, 28, 7, 24, 1, 24, 25, 23, 7, 19, 13, 11, 3, 1, 2, 25, 28, 7, 24, 1, 21, 7, 24, 24, 15, 19, 13, 1, 24, 25, 23, 7, 19, 13, 11, 6, 0, 2, 25, 28, 7, 24, 1, 21, 15, 25, 15, 12, 26, 17, 3, 1, 2, 25, 28, 7, 24, 1, 28, 20, 19, 10, 23, 20, 26, 24, 1, 21, 15, 25, 15, 12, 26, 17, 5, 0, 24, 14, 11, 1, 28, 15, 24, 14, 11, 10, 1, 24, 14, 11, 1, 14, 7, 10, 1, 19, 20, 25, 1, 14, 11, 7, 23, 10, 1, 15, 25, 6, 1, 29, 11, 25, 1, 24, 14, 11, 1, 28, 15, 24, 14, 11, 10, 0, 25, 14, 7, 25, 1, 14, 11, 7, 27, 11, 19, 1, 14, 7, 10, 1, 18, 7, 10, 11, 1, 14, 11, 23, 1, 24, 26, 9, 14, 1, 7, 1, 18, 7, 19, 5, 1, 24, 14, 11, 1, 25, 14, 7, 19, 16, 11, 10, 1, 18, 11, 6, 0, 7, 19, 10, 1, 8, 7, 10, 11, 1, 18, 11, 3, 1, 15, 12, 1, 15, 1, 14, 7, 10, 1, 7, 1, 12, 23, 15, 11, 19, 10, 1, 25, 14, 7, 25, 1, 17, 20, 27, 11, 10, 1, 14, 11, 23, 3, 0, 15, 1, 24, 14, 20, 26, 17, 10, 1, 8, 26, 25, 1, 25, 11, 7, 9, 14, 1, 14, 15, 18, 1, 14, 20, 28, 1, 25, 20, 1, 25, 11, 17, 17, 1, 18, 29, 1, 24, 25, 20, 23, 29, 3, 0, 7, 19, 10, 1, 25, 14, 7, 25, 1, 28, 20, 26, 17, 10, 1, 28, 20, 20, 1, 14, 11, 23, 5, 1, 26, 21, 20, 19, 1, 25, 14, 15, 24, 1, 14, 15, 19, 25, 1, 15, 1, 24, 21, 7, 16, 11, 5, 0, 24, 14, 11, 1, 17, 20, 27, 11, 10, 1, 18, 11, 1, 12, 20, 23, 1, 25, 14, 11, 1, 10, 7, 19, 13, 11, 23, 24, 1, 15, 1, 14, 7, 10, 1, 21, 7, 24, 24, 11, 10, 3, 0, 7, 19, 10, 1, 15, 1, 17, 20, 27, 11, 10, 1, 14, 11, 23, 1, 25, 14, 7, 25, 1, 24, 14, 11, 1, 10, 15, 10, 1, 21, 15, 25, 29, 1, 25, 14, 11, 18, 5, 0, 25, 14, 15, 24, 1, 20, 19, 17, 29, 1, 15, 24, 1, 25, 14, 11, 1, 28, 15, 25, 9, 14, 9, 23, 7, 12, 25, 1, 15, 1, 14, 7, 27, 11, 1, 26, 24, 11, 10, 5, 0, 14, 11, 23, 11, 1, 9, 20, 18, 11, 24, 1, 25, 14, 11, 1, 17, 7, 10, 29, 5, 1, 17, 11, 25, 1, 14, 11, 23, 1, 28, 15, 25, 19, 11, 24, 24, 1, 15, 25, 5]\n",
      "[[0. 0. 0. ... 0. 0. 0.]\n",
      " [0. 0. 0. ... 0. 0. 0.]\n",
      " [0. 1. 0. ... 0. 0. 0.]\n",
      " ...\n",
      " [0. 0. 0. ... 0. 0. 0.]\n",
      " [0. 0. 0. ... 0. 0. 0.]\n",
      " [0. 0. 0. ... 0. 0. 0.]]\n"
     ]
    }
   ],
   "source": [
    "#Inpput data\n",
    "charX = []\n",
    "#output data\n",
    "y = []\n",
    "for i in range(0, counter, 1):\n",
    "    theInputChars = data[i:i+numberOfCharsToLearn]\n",
    "    theOutputChars = data[i + numberOfCharsToLearn]\n",
    "    charX.append([CharsForids[char] for char in theInputChars])\n",
    "    y.append(CharsForids[theOutputChars])\n",
    "\n",
    "X = np.reshape(charX, (len(charX), numberOfCharsToLearn, 1))\n",
    "\n",
    "\n",
    "X = X/float(numberOfUniqueChars)\n",
    "print(y)\n",
    "\n",
    "y = np_utils.to_categorical(y)\n",
    "print(y)\n",
    "\n"
   ]
  },
  {
   "cell_type": "code",
   "execution_count": 34,
   "metadata": {
    "scrolled": false
   },
   "outputs": [],
   "source": [
    "X = np.reshape(charX, (len(charX), numberOfCharsToLearn, 1))\n"
   ]
  },
  {
   "cell_type": "code",
   "execution_count": 36,
   "metadata": {},
   "outputs": [
    {
     "data": {
      "text/plain": [
       "(1760, 100, 1)"
      ]
     },
     "execution_count": 36,
     "metadata": {},
     "output_type": "execute_result"
    }
   ],
   "source": [
    "X.shape"
   ]
  },
  {
   "cell_type": "code",
   "execution_count": 37,
   "metadata": {},
   "outputs": [
    {
     "data": {
      "text/plain": [
       "array([[[14],\n",
       "        [11],\n",
       "        [23],\n",
       "        ...,\n",
       "        [ 4],\n",
       "        [ 1],\n",
       "        [25]],\n",
       "\n",
       "       [[11],\n",
       "        [23],\n",
       "        [ 1],\n",
       "        ...,\n",
       "        [ 1],\n",
       "        [25],\n",
       "        [14]],\n",
       "\n",
       "       [[23],\n",
       "        [ 1],\n",
       "        [12],\n",
       "        ...,\n",
       "        [25],\n",
       "        [14],\n",
       "        [11]],\n",
       "\n",
       "       ...,\n",
       "\n",
       "       [[ 7],\n",
       "        [25],\n",
       "        [ 1],\n",
       "        ...,\n",
       "        [24],\n",
       "        [24],\n",
       "        [ 1]],\n",
       "\n",
       "       [[25],\n",
       "        [ 1],\n",
       "        [24],\n",
       "        ...,\n",
       "        [24],\n",
       "        [ 1],\n",
       "        [15]],\n",
       "\n",
       "       [[ 1],\n",
       "        [24],\n",
       "        [14],\n",
       "        ...,\n",
       "        [ 1],\n",
       "        [15],\n",
       "        [25]]])"
      ]
     },
     "execution_count": 37,
     "metadata": {},
     "output_type": "execute_result"
    }
   ],
   "source": [
    "X"
   ]
  },
  {
   "cell_type": "code",
   "execution_count": 38,
   "metadata": {},
   "outputs": [
    {
     "data": {
      "text/plain": [
       "array([[[0.46666667],\n",
       "        [0.36666667],\n",
       "        [0.76666667],\n",
       "        ...,\n",
       "        [0.13333333],\n",
       "        [0.03333333],\n",
       "        [0.83333333]],\n",
       "\n",
       "       [[0.36666667],\n",
       "        [0.76666667],\n",
       "        [0.03333333],\n",
       "        ...,\n",
       "        [0.03333333],\n",
       "        [0.83333333],\n",
       "        [0.46666667]],\n",
       "\n",
       "       [[0.76666667],\n",
       "        [0.03333333],\n",
       "        [0.4       ],\n",
       "        ...,\n",
       "        [0.83333333],\n",
       "        [0.46666667],\n",
       "        [0.36666667]],\n",
       "\n",
       "       ...,\n",
       "\n",
       "       [[0.23333333],\n",
       "        [0.83333333],\n",
       "        [0.03333333],\n",
       "        ...,\n",
       "        [0.8       ],\n",
       "        [0.8       ],\n",
       "        [0.03333333]],\n",
       "\n",
       "       [[0.83333333],\n",
       "        [0.03333333],\n",
       "        [0.8       ],\n",
       "        ...,\n",
       "        [0.8       ],\n",
       "        [0.03333333],\n",
       "        [0.5       ]],\n",
       "\n",
       "       [[0.03333333],\n",
       "        [0.8       ],\n",
       "        [0.46666667],\n",
       "        ...,\n",
       "        [0.03333333],\n",
       "        [0.5       ],\n",
       "        [0.83333333]]])"
      ]
     },
     "execution_count": 38,
     "metadata": {},
     "output_type": "execute_result"
    }
   ],
   "source": [
    "X = X/float(numberOfUniqueChars)\n",
    "X"
   ]
  },
  {
   "cell_type": "code",
   "execution_count": 39,
   "metadata": {},
   "outputs": [
    {
     "data": {
      "text/plain": [
       "array([[0., 0., 0., ..., 0., 0., 0.],\n",
       "       [0., 0., 0., ..., 0., 0., 0.],\n",
       "       [0., 1., 0., ..., 0., 0., 0.],\n",
       "       ...,\n",
       "       [0., 0., 0., ..., 0., 0., 0.],\n",
       "       [0., 0., 0., ..., 0., 0., 0.],\n",
       "       [0., 0., 0., ..., 0., 0., 0.]], dtype=float32)"
      ]
     },
     "execution_count": 39,
     "metadata": {},
     "output_type": "execute_result"
    }
   ],
   "source": [
    "y"
   ]
  },
  {
   "cell_type": "code",
   "execution_count": 41,
   "metadata": {},
   "outputs": [],
   "source": [
    "model = Sequential()\n",
    "#Since we know the shape of our Data we can input the timestep and feature data\n",
    "#The number of timestep sequence are dealt with in the fit function\n",
    "model.add(LSTM(256, input_shape=(X.shape[1], X.shape[2])))\n",
    "model.add(Dropout(0.2))\n",
    "#number of features on the output\n",
    "model.add(Dense(y.shape[1], activation='softmax'))\n",
    "\n"
   ]
  },
  {
   "cell_type": "code",
   "execution_count": 42,
   "metadata": {},
   "outputs": [],
   "source": [
    "model.compile(loss='categorical_crossentropy', optimizer='adam')\n"
   ]
  },
  {
   "cell_type": "code",
   "execution_count": 43,
   "metadata": {},
   "outputs": [
    {
     "name": "stdout",
     "output_type": "stream",
     "text": [
      "Epoch 1/5\n",
      "1760/1760 [==============================] - 10s 5ms/step - loss: 3.1818\n",
      "Epoch 2/5\n",
      "1760/1760 [==============================] - 7s 4ms/step - loss: 3.0167\n",
      "Epoch 3/5\n",
      "1760/1760 [==============================] - 7s 4ms/step - loss: 3.0031\n",
      "Epoch 4/5\n",
      "1760/1760 [==============================] - 7s 4ms/step - loss: 3.0074\n",
      "Epoch 5/5\n",
      "1760/1760 [==============================] - 10s 6ms/step - loss: 2.9919\n"
     ]
    },
    {
     "data": {
      "text/plain": [
       "<keras.callbacks.callbacks.History at 0x1d13f84e4e0>"
      ]
     },
     "execution_count": 43,
     "metadata": {},
     "output_type": "execute_result"
    }
   ],
   "source": [
    "model.fit(X, y, epochs=5, batch_size=128)\n"
   ]
  },
  {
   "cell_type": "code",
   "execution_count": null,
   "metadata": {},
   "outputs": [],
   "source": [
    "model.save_weights(\"Othello.hdf5\")\n",
    "#model.load_weights(\"Othello.hdf5\")"
   ]
  },
  {
   "cell_type": "code",
   "execution_count": 44,
   "metadata": {},
   "outputs": [],
   "source": [
    "randomVal = np.random.randint(0, len(charX)-1)\n"
   ]
  },
  {
   "cell_type": "code",
   "execution_count": 45,
   "metadata": {},
   "outputs": [
    {
     "data": {
      "text/plain": [
       "1364"
      ]
     },
     "execution_count": 45,
     "metadata": {},
     "output_type": "execute_result"
    }
   ],
   "source": [
    "randomVal"
   ]
  },
  {
   "cell_type": "code",
   "execution_count": 46,
   "metadata": {},
   "outputs": [
    {
     "data": {
      "text/plain": [
       "[23,\n",
       " 11,\n",
       " 3,\n",
       " 1,\n",
       " 15,\n",
       " 2,\n",
       " 1,\n",
       " 12,\n",
       " 7,\n",
       " 15,\n",
       " 25,\n",
       " 14,\n",
       " 3,\n",
       " 1,\n",
       " 2,\n",
       " 25,\n",
       " 28,\n",
       " 7,\n",
       " 24,\n",
       " 1,\n",
       " 24,\n",
       " 25,\n",
       " 23,\n",
       " 7,\n",
       " 19,\n",
       " 13,\n",
       " 11,\n",
       " 3,\n",
       " 1,\n",
       " 2,\n",
       " 25,\n",
       " 28,\n",
       " 7,\n",
       " 24,\n",
       " 1,\n",
       " 21,\n",
       " 7,\n",
       " 24,\n",
       " 24,\n",
       " 15,\n",
       " 19,\n",
       " 13,\n",
       " 1,\n",
       " 24,\n",
       " 25,\n",
       " 23,\n",
       " 7,\n",
       " 19,\n",
       " 13,\n",
       " 11,\n",
       " 6,\n",
       " 0,\n",
       " 2,\n",
       " 25,\n",
       " 28,\n",
       " 7,\n",
       " 24,\n",
       " 1,\n",
       " 21,\n",
       " 15,\n",
       " 25,\n",
       " 15,\n",
       " 12,\n",
       " 26,\n",
       " 17,\n",
       " 3,\n",
       " 1,\n",
       " 2,\n",
       " 25,\n",
       " 28,\n",
       " 7,\n",
       " 24,\n",
       " 1,\n",
       " 28,\n",
       " 20,\n",
       " 19,\n",
       " 10,\n",
       " 23,\n",
       " 20,\n",
       " 26,\n",
       " 24,\n",
       " 1,\n",
       " 21,\n",
       " 15,\n",
       " 25,\n",
       " 15,\n",
       " 12,\n",
       " 26,\n",
       " 17,\n",
       " 5,\n",
       " 0,\n",
       " 24,\n",
       " 14,\n",
       " 11,\n",
       " 1,\n",
       " 28,\n",
       " 15,\n",
       " 24,\n",
       " 14,\n",
       " 11]"
      ]
     },
     "execution_count": 46,
     "metadata": {},
     "output_type": "execute_result"
    }
   ],
   "source": [
    "randomStart = charX[randomVal]\n",
    "randomStart"
   ]
  },
  {
   "cell_type": "code",
   "execution_count": 49,
   "metadata": {},
   "outputs": [],
   "source": [
    "for i in range(500):\n",
    "    x = np.reshape(randomStart, (1, len(randomStart), 1))\n",
    "    x = x/float(numberOfUniqueChars)\n",
    "    pred = model.predict(x)\n",
    "    index = np.argmax(pred)\n",
    "    randomStart.append(index)\n",
    "    randomStart = randomStart[1: len(randomStart)]\n"
   ]
  },
  {
   "cell_type": "code",
   "execution_count": 50,
   "metadata": {},
   "outputs": [
    {
     "name": "stdout",
     "output_type": "stream",
     "text": [
      "                                                                                                    \n"
     ]
    }
   ],
   "source": [
    "print(\"\".join([idsForChars[value] for value in randomStart]))"
   ]
  },
  {
   "cell_type": "code",
   "execution_count": null,
   "metadata": {},
   "outputs": [],
   "source": []
  },
  {
   "cell_type": "code",
   "execution_count": null,
   "metadata": {},
   "outputs": [],
   "source": []
  },
  {
   "cell_type": "code",
   "execution_count": null,
   "metadata": {},
   "outputs": [],
   "source": []
  },
  {
   "cell_type": "code",
   "execution_count": null,
   "metadata": {},
   "outputs": [],
   "source": []
  },
  {
   "cell_type": "code",
   "execution_count": null,
   "metadata": {},
   "outputs": [],
   "source": []
  },
  {
   "cell_type": "code",
   "execution_count": null,
   "metadata": {},
   "outputs": [],
   "source": []
  },
  {
   "cell_type": "code",
   "execution_count": null,
   "metadata": {},
   "outputs": [],
   "source": []
  }
 ],
 "metadata": {
  "kernelspec": {
   "display_name": "Python 3",
   "language": "python",
   "name": "python3"
  },
  "language_info": {
   "codemirror_mode": {
    "name": "ipython",
    "version": 3
   },
   "file_extension": ".py",
   "mimetype": "text/x-python",
   "name": "python",
   "nbconvert_exporter": "python",
   "pygments_lexer": "ipython3",
   "version": "3.7.0"
  }
 },
 "nbformat": 4,
 "nbformat_minor": 2
}
