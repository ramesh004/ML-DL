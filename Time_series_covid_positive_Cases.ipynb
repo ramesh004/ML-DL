{
  "nbformat": 4,
  "nbformat_minor": 0,
  "metadata": {
    "colab": {
      "name": "Time_series.ipynb",
      "provenance": []
    },
    "kernelspec": {
      "name": "python3",
      "display_name": "Python 3"
    }
  },
  "cells": [
    {
      "cell_type": "code",
      "metadata": {
        "id": "lpw40Ef2fm7S",
        "colab_type": "code",
        "colab": {
          "base_uri": "https://localhost:8080/",
          "height": 1000
        },
        "outputId": "67b75932-efee-493e-efff-804fe36eed71"
      },
      "source": [
        "!pip install auto_ts\n"
      ],
      "execution_count": 1,
      "outputs": [
        {
          "output_type": "stream",
          "text": [
            "Collecting auto_ts\n",
            "\u001b[?25l  Downloading https://files.pythonhosted.org/packages/5a/bc/2aefba191eec366ff52bd6ac4b1787d81be3a163dc244d046a81f965875f/auto_ts-0.0.20-py3-none-any.whl (50kB)\n",
            "\r\u001b[K     |██████▌                         | 10kB 21.8MB/s eta 0:00:01\r\u001b[K     |█████████████                   | 20kB 3.4MB/s eta 0:00:01\r\u001b[K     |███████████████████▋            | 30kB 4.4MB/s eta 0:00:01\r\u001b[K     |██████████████████████████▏     | 40kB 5.2MB/s eta 0:00:01\r\u001b[K     |████████████████████████████████| 51kB 3.1MB/s \n",
            "\u001b[?25hRequirement already satisfied: scikit-learn in /usr/local/lib/python3.6/dist-packages (from auto_ts) (0.22.2.post1)\n",
            "Requirement already satisfied: matplotlib in /usr/local/lib/python3.6/dist-packages (from auto_ts) (3.2.2)\n",
            "Requirement already satisfied: seaborn in /usr/local/lib/python3.6/dist-packages (from auto_ts) (0.10.1)\n",
            "Collecting pyflux\n",
            "\u001b[?25l  Downloading https://files.pythonhosted.org/packages/37/e2/ac8ea14d34556e83a9fe9e23ba7b02ca14951849b9637c238ca83d04ac3c/pyflux-0.4.15.tar.gz (1.3MB)\n",
            "\u001b[K     |████████████████████████████████| 1.3MB 7.0MB/s \n",
            "\u001b[?25hRequirement already satisfied: pandas in /usr/local/lib/python3.6/dist-packages (from auto_ts) (1.0.5)\n",
            "Requirement already satisfied: fbprophet in /usr/local/lib/python3.6/dist-packages (from auto_ts) (0.6)\n",
            "Requirement already satisfied: ipython in /usr/local/lib/python3.6/dist-packages (from auto_ts) (5.5.0)\n",
            "Requirement already satisfied: statsmodels in /usr/local/lib/python3.6/dist-packages (from auto_ts) (0.10.2)\n",
            "Requirement already satisfied: jupyter in /usr/local/lib/python3.6/dist-packages (from auto_ts) (1.0.0)\n",
            "Requirement already satisfied: joblib>=0.11 in /usr/local/lib/python3.6/dist-packages (from scikit-learn->auto_ts) (0.15.1)\n",
            "Requirement already satisfied: scipy>=0.17.0 in /usr/local/lib/python3.6/dist-packages (from scikit-learn->auto_ts) (1.4.1)\n",
            "Requirement already satisfied: numpy>=1.11.0 in /usr/local/lib/python3.6/dist-packages (from scikit-learn->auto_ts) (1.18.5)\n",
            "Requirement already satisfied: pyparsing!=2.0.4,!=2.1.2,!=2.1.6,>=2.0.1 in /usr/local/lib/python3.6/dist-packages (from matplotlib->auto_ts) (2.4.7)\n",
            "Requirement already satisfied: cycler>=0.10 in /usr/local/lib/python3.6/dist-packages (from matplotlib->auto_ts) (0.10.0)\n",
            "Requirement already satisfied: python-dateutil>=2.1 in /usr/local/lib/python3.6/dist-packages (from matplotlib->auto_ts) (2.8.1)\n",
            "Requirement already satisfied: kiwisolver>=1.0.1 in /usr/local/lib/python3.6/dist-packages (from matplotlib->auto_ts) (1.2.0)\n",
            "Collecting numdifftools\n",
            "\u001b[?25l  Downloading https://files.pythonhosted.org/packages/ab/c0/b0d967160ecc8db52ae34e063937d85e8d386f140ad4826aae2086245a5e/numdifftools-0.9.39-py2.py3-none-any.whl (953kB)\n",
            "\u001b[K     |████████████████████████████████| 962kB 29.9MB/s \n",
            "\u001b[?25hRequirement already satisfied: patsy in /usr/local/lib/python3.6/dist-packages (from pyflux->auto_ts) (0.5.1)\n",
            "Requirement already satisfied: pytz>=2017.2 in /usr/local/lib/python3.6/dist-packages (from pandas->auto_ts) (2018.9)\n",
            "Requirement already satisfied: Cython>=0.22 in /usr/local/lib/python3.6/dist-packages (from fbprophet->auto_ts) (0.29.20)\n",
            "Requirement already satisfied: cmdstanpy==0.4 in /usr/local/lib/python3.6/dist-packages (from fbprophet->auto_ts) (0.4.0)\n",
            "Requirement already satisfied: pystan>=2.14 in /usr/local/lib/python3.6/dist-packages (from fbprophet->auto_ts) (2.19.1.1)\n",
            "Requirement already satisfied: LunarCalendar>=0.0.9 in /usr/local/lib/python3.6/dist-packages (from fbprophet->auto_ts) (0.0.9)\n",
            "Requirement already satisfied: convertdate>=2.1.2 in /usr/local/lib/python3.6/dist-packages (from fbprophet->auto_ts) (2.2.1)\n",
            "Requirement already satisfied: holidays>=0.9.5 in /usr/local/lib/python3.6/dist-packages (from fbprophet->auto_ts) (0.9.12)\n",
            "Requirement already satisfied: setuptools-git>=1.2 in /usr/local/lib/python3.6/dist-packages (from fbprophet->auto_ts) (1.2)\n",
            "Requirement already satisfied: prompt-toolkit<2.0.0,>=1.0.4 in /usr/local/lib/python3.6/dist-packages (from ipython->auto_ts) (1.0.18)\n",
            "Requirement already satisfied: pygments in /usr/local/lib/python3.6/dist-packages (from ipython->auto_ts) (2.1.3)\n",
            "Requirement already satisfied: decorator in /usr/local/lib/python3.6/dist-packages (from ipython->auto_ts) (4.4.2)\n",
            "Requirement already satisfied: simplegeneric>0.8 in /usr/local/lib/python3.6/dist-packages (from ipython->auto_ts) (0.8.1)\n",
            "Requirement already satisfied: traitlets>=4.2 in /usr/local/lib/python3.6/dist-packages (from ipython->auto_ts) (4.3.3)\n",
            "Requirement already satisfied: pexpect; sys_platform != \"win32\" in /usr/local/lib/python3.6/dist-packages (from ipython->auto_ts) (4.8.0)\n",
            "Requirement already satisfied: setuptools>=18.5 in /usr/local/lib/python3.6/dist-packages (from ipython->auto_ts) (47.3.1)\n",
            "Requirement already satisfied: pickleshare in /usr/local/lib/python3.6/dist-packages (from ipython->auto_ts) (0.7.5)\n",
            "Requirement already satisfied: qtconsole in /usr/local/lib/python3.6/dist-packages (from jupyter->auto_ts) (4.7.5)\n",
            "Requirement already satisfied: ipykernel in /usr/local/lib/python3.6/dist-packages (from jupyter->auto_ts) (4.10.1)\n",
            "Requirement already satisfied: jupyter-console in /usr/local/lib/python3.6/dist-packages (from jupyter->auto_ts) (5.2.0)\n",
            "Requirement already satisfied: nbconvert in /usr/local/lib/python3.6/dist-packages (from jupyter->auto_ts) (5.6.1)\n",
            "Requirement already satisfied: notebook in /usr/local/lib/python3.6/dist-packages (from jupyter->auto_ts) (5.2.2)\n",
            "Requirement already satisfied: ipywidgets in /usr/local/lib/python3.6/dist-packages (from jupyter->auto_ts) (7.5.1)\n",
            "Requirement already satisfied: six in /usr/local/lib/python3.6/dist-packages (from cycler>=0.10->matplotlib->auto_ts) (1.12.0)\n",
            "Requirement already satisfied: ephem>=3.7.5.3 in /usr/local/lib/python3.6/dist-packages (from LunarCalendar>=0.0.9->fbprophet->auto_ts) (3.7.7.1)\n",
            "Requirement already satisfied: pymeeus<=1,>=0.3.6 in /usr/local/lib/python3.6/dist-packages (from convertdate>=2.1.2->fbprophet->auto_ts) (0.3.7)\n",
            "Requirement already satisfied: wcwidth in /usr/local/lib/python3.6/dist-packages (from prompt-toolkit<2.0.0,>=1.0.4->ipython->auto_ts) (0.2.5)\n",
            "Requirement already satisfied: ipython-genutils in /usr/local/lib/python3.6/dist-packages (from traitlets>=4.2->ipython->auto_ts) (0.2.0)\n",
            "Requirement already satisfied: ptyprocess>=0.5 in /usr/local/lib/python3.6/dist-packages (from pexpect; sys_platform != \"win32\"->ipython->auto_ts) (0.6.0)\n",
            "Requirement already satisfied: pyzmq>=17.1 in /usr/local/lib/python3.6/dist-packages (from qtconsole->jupyter->auto_ts) (19.0.1)\n",
            "Requirement already satisfied: qtpy in /usr/local/lib/python3.6/dist-packages (from qtconsole->jupyter->auto_ts) (1.9.0)\n",
            "Requirement already satisfied: jupyter-core in /usr/local/lib/python3.6/dist-packages (from qtconsole->jupyter->auto_ts) (4.6.3)\n",
            "Requirement already satisfied: jupyter-client>=4.1 in /usr/local/lib/python3.6/dist-packages (from qtconsole->jupyter->auto_ts) (5.3.4)\n",
            "Requirement already satisfied: tornado>=4.0 in /usr/local/lib/python3.6/dist-packages (from ipykernel->jupyter->auto_ts) (4.5.3)\n",
            "Requirement already satisfied: nbformat>=4.4 in /usr/local/lib/python3.6/dist-packages (from nbconvert->jupyter->auto_ts) (5.0.7)\n",
            "Requirement already satisfied: bleach in /usr/local/lib/python3.6/dist-packages (from nbconvert->jupyter->auto_ts) (3.1.5)\n",
            "Requirement already satisfied: defusedxml in /usr/local/lib/python3.6/dist-packages (from nbconvert->jupyter->auto_ts) (0.6.0)\n",
            "Requirement already satisfied: testpath in /usr/local/lib/python3.6/dist-packages (from nbconvert->jupyter->auto_ts) (0.4.4)\n",
            "Requirement already satisfied: mistune<2,>=0.8.1 in /usr/local/lib/python3.6/dist-packages (from nbconvert->jupyter->auto_ts) (0.8.4)\n",
            "Requirement already satisfied: entrypoints>=0.2.2 in /usr/local/lib/python3.6/dist-packages (from nbconvert->jupyter->auto_ts) (0.3)\n",
            "Requirement already satisfied: jinja2>=2.4 in /usr/local/lib/python3.6/dist-packages (from nbconvert->jupyter->auto_ts) (2.11.2)\n",
            "Requirement already satisfied: pandocfilters>=1.4.1 in /usr/local/lib/python3.6/dist-packages (from nbconvert->jupyter->auto_ts) (1.4.2)\n",
            "Requirement already satisfied: terminado>=0.3.3; sys_platform != \"win32\" in /usr/local/lib/python3.6/dist-packages (from notebook->jupyter->auto_ts) (0.8.3)\n",
            "Requirement already satisfied: widgetsnbextension~=3.5.0 in /usr/local/lib/python3.6/dist-packages (from ipywidgets->jupyter->auto_ts) (3.5.1)\n",
            "Requirement already satisfied: jsonschema!=2.5.0,>=2.4 in /usr/local/lib/python3.6/dist-packages (from nbformat>=4.4->nbconvert->jupyter->auto_ts) (2.6.0)\n",
            "Requirement already satisfied: packaging in /usr/local/lib/python3.6/dist-packages (from bleach->nbconvert->jupyter->auto_ts) (20.4)\n",
            "Requirement already satisfied: webencodings in /usr/local/lib/python3.6/dist-packages (from bleach->nbconvert->jupyter->auto_ts) (0.5.1)\n",
            "Requirement already satisfied: MarkupSafe>=0.23 in /usr/local/lib/python3.6/dist-packages (from jinja2>=2.4->nbconvert->jupyter->auto_ts) (1.1.1)\n",
            "Building wheels for collected packages: pyflux\n",
            "  Building wheel for pyflux (setup.py) ... \u001b[?25l\u001b[?25hdone\n",
            "  Created wheel for pyflux: filename=pyflux-0.4.15-cp36-cp36m-linux_x86_64.whl size=4656583 sha256=4d8005207c837f057f8c8e2c625d006d296fe5ae6dccad890827ca575aae6f3d\n",
            "  Stored in directory: /root/.cache/pip/wheels/36/24/09/d18fa4f926cc90598d23ebd09fb4b0fd7b3dd1d2f506b952de\n",
            "Successfully built pyflux\n",
            "Installing collected packages: numdifftools, pyflux, auto-ts\n",
            "Successfully installed auto-ts-0.0.20 numdifftools-0.9.39 pyflux-0.4.15\n"
          ],
          "name": "stdout"
        }
      ]
    },
    {
      "cell_type": "code",
      "metadata": {
        "id": "X0g-nFLKfvYq",
        "colab_type": "code",
        "colab": {
          "base_uri": "https://localhost:8080/",
          "height": 167
        },
        "outputId": "38f57f29-5c2e-43b6-f770-3abb7fdf0024"
      },
      "source": [
        "import matplotlib as mpl\n",
        "import matplotlib.pyplot as plt\n",
        "from datetime import datetime\n",
        "import auto_ts as AT\n",
        "\n",
        "import pandas as pd\n",
        "\n",
        "mpl.rcParams['figure.figsize'] = (8, 6)\n",
        "mpl.rcParams['axes.grid'] = False"
      ],
      "execution_count": 2,
      "outputs": [
        {
          "output_type": "stream",
          "text": [
            "Running Auto Timeseries version: 0.0.20...Call by using:\n",
            "        auto_ts.Auto_Timeseries(traindata, ts_column,\n",
            "                            target, sep,  score_type='rmse', forecast_period=5,\n",
            "                            time_interval='Month', non_seasonal_pdq=None, seasonality=False,\n",
            "                            seasonal_period=12, seasonal_PDQ=None, model_type='stats',\n",
            "                            verbose=1)\n",
            "    To run three models from Stats, ML and FB Prophet, set model_type='best'\n",
            "To remove previous versions, perform 'pip uninstall auto_ts'\n",
            "To get the latest version, perform \"pip install auto_ts --no-cache-dir --ignore-installed\"\n"
          ],
          "name": "stdout"
        }
      ]
    },
    {
      "cell_type": "code",
      "metadata": {
        "id": "YceyHe2jfvVy",
        "colab_type": "code",
        "colab": {}
      },
      "source": [
        "\n",
        "def parse(x):\n",
        "\treturn datetime.strptime(x, '%m/%d/%Y')"
      ],
      "execution_count": null,
      "outputs": []
    },
    {
      "cell_type": "code",
      "metadata": {
        "id": "xh3qDw08fvS0",
        "colab_type": "code",
        "colab": {}
      },
      "source": [
        "df = pd.read_csv('/content/StatewiseTestingDetails.csv', parse_dates = ['Date'])\n"
      ],
      "execution_count": 56,
      "outputs": []
    },
    {
      "cell_type": "code",
      "metadata": {
        "id": "-nM-SnfzkoKS",
        "colab_type": "code",
        "colab": {
          "base_uri": "https://localhost:8080/",
          "height": 407
        },
        "outputId": "10ebefe5-2d48-41ab-cdae-e1251bfdb48f"
      },
      "source": [
        "df"
      ],
      "execution_count": 37,
      "outputs": [
        {
          "output_type": "execute_result",
          "data": {
            "text/html": [
              "<div>\n",
              "<style scoped>\n",
              "    .dataframe tbody tr th:only-of-type {\n",
              "        vertical-align: middle;\n",
              "    }\n",
              "\n",
              "    .dataframe tbody tr th {\n",
              "        vertical-align: top;\n",
              "    }\n",
              "\n",
              "    .dataframe thead th {\n",
              "        text-align: right;\n",
              "    }\n",
              "</style>\n",
              "<table border=\"1\" class=\"dataframe\">\n",
              "  <thead>\n",
              "    <tr style=\"text-align: right;\">\n",
              "      <th></th>\n",
              "      <th>Date</th>\n",
              "      <th>State</th>\n",
              "      <th>TotalSamples</th>\n",
              "      <th>Negative</th>\n",
              "      <th>Positive</th>\n",
              "    </tr>\n",
              "  </thead>\n",
              "  <tbody>\n",
              "    <tr>\n",
              "      <th>0</th>\n",
              "      <td>2020-04-17</td>\n",
              "      <td>Andaman and Nicobar Islands</td>\n",
              "      <td>1403.0</td>\n",
              "      <td>1210</td>\n",
              "      <td>12.0</td>\n",
              "    </tr>\n",
              "    <tr>\n",
              "      <th>1</th>\n",
              "      <td>2020-04-24</td>\n",
              "      <td>Andaman and Nicobar Islands</td>\n",
              "      <td>2679.0</td>\n",
              "      <td>NaN</td>\n",
              "      <td>27.0</td>\n",
              "    </tr>\n",
              "    <tr>\n",
              "      <th>2</th>\n",
              "      <td>2020-04-27</td>\n",
              "      <td>Andaman and Nicobar Islands</td>\n",
              "      <td>2848.0</td>\n",
              "      <td>NaN</td>\n",
              "      <td>33.0</td>\n",
              "    </tr>\n",
              "    <tr>\n",
              "      <th>3</th>\n",
              "      <td>2020-05-01</td>\n",
              "      <td>Andaman and Nicobar Islands</td>\n",
              "      <td>3754.0</td>\n",
              "      <td>NaN</td>\n",
              "      <td>33.0</td>\n",
              "    </tr>\n",
              "    <tr>\n",
              "      <th>4</th>\n",
              "      <td>2020-05-16</td>\n",
              "      <td>Andaman and Nicobar Islands</td>\n",
              "      <td>6677.0</td>\n",
              "      <td>NaN</td>\n",
              "      <td>33.0</td>\n",
              "    </tr>\n",
              "    <tr>\n",
              "      <th>...</th>\n",
              "      <td>...</td>\n",
              "      <td>...</td>\n",
              "      <td>...</td>\n",
              "      <td>...</td>\n",
              "      <td>...</td>\n",
              "    </tr>\n",
              "    <tr>\n",
              "      <th>2431</th>\n",
              "      <td>2020-06-21</td>\n",
              "      <td>West Bengal</td>\n",
              "      <td>401491.0</td>\n",
              "      <td>NaN</td>\n",
              "      <td>13945.0</td>\n",
              "    </tr>\n",
              "    <tr>\n",
              "      <th>2432</th>\n",
              "      <td>2020-06-22</td>\n",
              "      <td>West Bengal</td>\n",
              "      <td>410854.0</td>\n",
              "      <td>NaN</td>\n",
              "      <td>14358.0</td>\n",
              "    </tr>\n",
              "    <tr>\n",
              "      <th>2433</th>\n",
              "      <td>2020-06-23</td>\n",
              "      <td>West Bengal</td>\n",
              "      <td>420277.0</td>\n",
              "      <td>NaN</td>\n",
              "      <td>14728.0</td>\n",
              "    </tr>\n",
              "    <tr>\n",
              "      <th>2434</th>\n",
              "      <td>2020-06-24</td>\n",
              "      <td>West Bengal</td>\n",
              "      <td>429766.0</td>\n",
              "      <td>NaN</td>\n",
              "      <td>15173.0</td>\n",
              "    </tr>\n",
              "    <tr>\n",
              "      <th>2435</th>\n",
              "      <td>2020-06-25</td>\n",
              "      <td>West Bengal</td>\n",
              "      <td>439258.0</td>\n",
              "      <td>NaN</td>\n",
              "      <td>15648.0</td>\n",
              "    </tr>\n",
              "  </tbody>\n",
              "</table>\n",
              "<p>2428 rows × 5 columns</p>\n",
              "</div>"
            ],
            "text/plain": [
              "           Date                        State  TotalSamples Negative  Positive\n",
              "0    2020-04-17  Andaman and Nicobar Islands        1403.0     1210      12.0\n",
              "1    2020-04-24  Andaman and Nicobar Islands        2679.0      NaN      27.0\n",
              "2    2020-04-27  Andaman and Nicobar Islands        2848.0      NaN      33.0\n",
              "3    2020-05-01  Andaman and Nicobar Islands        3754.0      NaN      33.0\n",
              "4    2020-05-16  Andaman and Nicobar Islands        6677.0      NaN      33.0\n",
              "...         ...                          ...           ...      ...       ...\n",
              "2431 2020-06-21                  West Bengal      401491.0      NaN   13945.0\n",
              "2432 2020-06-22                  West Bengal      410854.0      NaN   14358.0\n",
              "2433 2020-06-23                  West Bengal      420277.0      NaN   14728.0\n",
              "2434 2020-06-24                  West Bengal      429766.0      NaN   15173.0\n",
              "2435 2020-06-25                  West Bengal      439258.0      NaN   15648.0\n",
              "\n",
              "[2428 rows x 5 columns]"
            ]
          },
          "metadata": {
            "tags": []
          },
          "execution_count": 37
        }
      ]
    },
    {
      "cell_type": "code",
      "metadata": {
        "id": "bbfPwSUufvQO",
        "colab_type": "code",
        "colab": {
          "base_uri": "https://localhost:8080/",
          "height": 217
        },
        "outputId": "cc34d2af-f74f-40e9-c932-f2a27135f80e"
      },
      "source": [
        "df.info()"
      ],
      "execution_count": 7,
      "outputs": [
        {
          "output_type": "stream",
          "text": [
            "<class 'pandas.core.frame.DataFrame'>\n",
            "RangeIndex: 2436 entries, 0 to 2435\n",
            "Data columns (total 5 columns):\n",
            " #   Column        Non-Null Count  Dtype         \n",
            "---  ------        --------------  -----         \n",
            " 0   Date          2436 non-null   datetime64[ns]\n",
            " 1   State         2436 non-null   object        \n",
            " 2   TotalSamples  2436 non-null   float64       \n",
            " 3   Negative      1774 non-null   object        \n",
            " 4   Positive      2428 non-null   float64       \n",
            "dtypes: datetime64[ns](1), float64(2), object(2)\n",
            "memory usage: 95.3+ KB\n"
          ],
          "name": "stdout"
        }
      ]
    },
    {
      "cell_type": "code",
      "metadata": {
        "id": "IHSh2OnHfvNd",
        "colab_type": "code",
        "colab": {
          "base_uri": "https://localhost:8080/",
          "height": 407
        },
        "outputId": "80d01e89-6f59-4773-90e1-d6d971fa2fd4"
      },
      "source": [
        ""
      ],
      "execution_count": 8,
      "outputs": [
        {
          "output_type": "execute_result",
          "data": {
            "text/html": [
              "<div>\n",
              "<style scoped>\n",
              "    .dataframe tbody tr th:only-of-type {\n",
              "        vertical-align: middle;\n",
              "    }\n",
              "\n",
              "    .dataframe tbody tr th {\n",
              "        vertical-align: top;\n",
              "    }\n",
              "\n",
              "    .dataframe thead th {\n",
              "        text-align: right;\n",
              "    }\n",
              "</style>\n",
              "<table border=\"1\" class=\"dataframe\">\n",
              "  <thead>\n",
              "    <tr style=\"text-align: right;\">\n",
              "      <th></th>\n",
              "      <th>Date</th>\n",
              "      <th>State</th>\n",
              "      <th>TotalSamples</th>\n",
              "      <th>Negative</th>\n",
              "      <th>Positive</th>\n",
              "    </tr>\n",
              "  </thead>\n",
              "  <tbody>\n",
              "    <tr>\n",
              "      <th>0</th>\n",
              "      <td>2020-04-17</td>\n",
              "      <td>Andaman and Nicobar Islands</td>\n",
              "      <td>1403.0</td>\n",
              "      <td>1210</td>\n",
              "      <td>12.0</td>\n",
              "    </tr>\n",
              "    <tr>\n",
              "      <th>1</th>\n",
              "      <td>2020-04-24</td>\n",
              "      <td>Andaman and Nicobar Islands</td>\n",
              "      <td>2679.0</td>\n",
              "      <td>NaN</td>\n",
              "      <td>27.0</td>\n",
              "    </tr>\n",
              "    <tr>\n",
              "      <th>2</th>\n",
              "      <td>2020-04-27</td>\n",
              "      <td>Andaman and Nicobar Islands</td>\n",
              "      <td>2848.0</td>\n",
              "      <td>NaN</td>\n",
              "      <td>33.0</td>\n",
              "    </tr>\n",
              "    <tr>\n",
              "      <th>3</th>\n",
              "      <td>2020-05-01</td>\n",
              "      <td>Andaman and Nicobar Islands</td>\n",
              "      <td>3754.0</td>\n",
              "      <td>NaN</td>\n",
              "      <td>33.0</td>\n",
              "    </tr>\n",
              "    <tr>\n",
              "      <th>4</th>\n",
              "      <td>2020-05-16</td>\n",
              "      <td>Andaman and Nicobar Islands</td>\n",
              "      <td>6677.0</td>\n",
              "      <td>NaN</td>\n",
              "      <td>33.0</td>\n",
              "    </tr>\n",
              "    <tr>\n",
              "      <th>...</th>\n",
              "      <td>...</td>\n",
              "      <td>...</td>\n",
              "      <td>...</td>\n",
              "      <td>...</td>\n",
              "      <td>...</td>\n",
              "    </tr>\n",
              "    <tr>\n",
              "      <th>2431</th>\n",
              "      <td>2020-06-21</td>\n",
              "      <td>West Bengal</td>\n",
              "      <td>401491.0</td>\n",
              "      <td>NaN</td>\n",
              "      <td>13945.0</td>\n",
              "    </tr>\n",
              "    <tr>\n",
              "      <th>2432</th>\n",
              "      <td>2020-06-22</td>\n",
              "      <td>West Bengal</td>\n",
              "      <td>410854.0</td>\n",
              "      <td>NaN</td>\n",
              "      <td>14358.0</td>\n",
              "    </tr>\n",
              "    <tr>\n",
              "      <th>2433</th>\n",
              "      <td>2020-06-23</td>\n",
              "      <td>West Bengal</td>\n",
              "      <td>420277.0</td>\n",
              "      <td>NaN</td>\n",
              "      <td>14728.0</td>\n",
              "    </tr>\n",
              "    <tr>\n",
              "      <th>2434</th>\n",
              "      <td>2020-06-24</td>\n",
              "      <td>West Bengal</td>\n",
              "      <td>429766.0</td>\n",
              "      <td>NaN</td>\n",
              "      <td>15173.0</td>\n",
              "    </tr>\n",
              "    <tr>\n",
              "      <th>2435</th>\n",
              "      <td>2020-06-25</td>\n",
              "      <td>West Bengal</td>\n",
              "      <td>439258.0</td>\n",
              "      <td>NaN</td>\n",
              "      <td>15648.0</td>\n",
              "    </tr>\n",
              "  </tbody>\n",
              "</table>\n",
              "<p>2436 rows × 5 columns</p>\n",
              "</div>"
            ],
            "text/plain": [
              "           Date                        State  TotalSamples Negative  Positive\n",
              "0    2020-04-17  Andaman and Nicobar Islands        1403.0     1210      12.0\n",
              "1    2020-04-24  Andaman and Nicobar Islands        2679.0      NaN      27.0\n",
              "2    2020-04-27  Andaman and Nicobar Islands        2848.0      NaN      33.0\n",
              "3    2020-05-01  Andaman and Nicobar Islands        3754.0      NaN      33.0\n",
              "4    2020-05-16  Andaman and Nicobar Islands        6677.0      NaN      33.0\n",
              "...         ...                          ...           ...      ...       ...\n",
              "2431 2020-06-21                  West Bengal      401491.0      NaN   13945.0\n",
              "2432 2020-06-22                  West Bengal      410854.0      NaN   14358.0\n",
              "2433 2020-06-23                  West Bengal      420277.0      NaN   14728.0\n",
              "2434 2020-06-24                  West Bengal      429766.0      NaN   15173.0\n",
              "2435 2020-06-25                  West Bengal      439258.0      NaN   15648.0\n",
              "\n",
              "[2436 rows x 5 columns]"
            ]
          },
          "metadata": {
            "tags": []
          },
          "execution_count": 8
        }
      ]
    },
    {
      "cell_type": "code",
      "metadata": {
        "id": "nqG8SXlyfvK-",
        "colab_type": "code",
        "colab": {
          "base_uri": "https://localhost:8080/",
          "height": 350
        },
        "outputId": "ba71818f-6672-4d3c-926e-370e9f497c00"
      },
      "source": [
        "\n",
        "print (\"Rows     : \" ,df.shape[0])\n",
        "print (\"Columns  : \" ,df.shape[1])\n",
        "print (\"\\nFeatures : \\n\" ,df.columns.tolist())\n",
        "print (\"\\nMissing values :  \", df.isnull().any())\n",
        "print (\"\\nUnique values :  \\n\",df.nunique())"
      ],
      "execution_count": 9,
      "outputs": [
        {
          "output_type": "stream",
          "text": [
            "Rows     :  2436\n",
            "Columns  :  5\n",
            "\n",
            "Features : \n",
            " ['Date', 'State', 'TotalSamples', 'Negative', 'Positive']\n",
            "\n",
            "Missing values :   Date            False\n",
            "State           False\n",
            "TotalSamples    False\n",
            "Negative         True\n",
            "Positive         True\n",
            "dtype: bool\n",
            "\n",
            "Unique values :  \n",
            " Date              86\n",
            "State             35\n",
            "TotalSamples    2342\n",
            "Negative        1734\n",
            "Positive        1484\n",
            "dtype: int64\n"
          ],
          "name": "stdout"
        }
      ]
    },
    {
      "cell_type": "code",
      "metadata": {
        "id": "AXPgSGYHfvIh",
        "colab_type": "code",
        "colab": {
          "base_uri": "https://localhost:8080/",
          "height": 117
        },
        "outputId": "c97bbe0c-3b97-4639-d572-73318fb1481b"
      },
      "source": [
        ""
      ],
      "execution_count": 11,
      "outputs": [
        {
          "output_type": "execute_result",
          "data": {
            "text/plain": [
              "Date              0\n",
              "State             0\n",
              "TotalSamples      0\n",
              "Negative        662\n",
              "Positive          8\n",
              "dtype: int64"
            ]
          },
          "metadata": {
            "tags": []
          },
          "execution_count": 11
        }
      ]
    },
    {
      "cell_type": "code",
      "metadata": {
        "id": "pKcUE8JRfvEZ",
        "colab_type": "code",
        "colab": {}
      },
      "source": [
        "df = df[~df.Positive.isnull()]"
      ],
      "execution_count": 22,
      "outputs": []
    },
    {
      "cell_type": "code",
      "metadata": {
        "id": "lqA3rF1sfvB5",
        "colab_type": "code",
        "colab": {
          "base_uri": "https://localhost:8080/",
          "height": 117
        },
        "outputId": "5d30d99a-15d1-40d0-bb87-8e4a0a903ef4"
      },
      "source": [
        "df.isnull().sum()"
      ],
      "execution_count": 24,
      "outputs": [
        {
          "output_type": "execute_result",
          "data": {
            "text/plain": [
              "Date              0\n",
              "State             0\n",
              "TotalSamples      0\n",
              "Negative        655\n",
              "Positive          0\n",
              "dtype: int64"
            ]
          },
          "metadata": {
            "tags": []
          },
          "execution_count": 24
        }
      ]
    },
    {
      "cell_type": "code",
      "metadata": {
        "id": "gX2dND_Lfu_F",
        "colab_type": "code",
        "colab": {}
      },
      "source": [
        "df_with_index=df.set_index('Date')"
      ],
      "execution_count": 30,
      "outputs": []
    },
    {
      "cell_type": "code",
      "metadata": {
        "id": "GSr4qi9xk2RU",
        "colab_type": "code",
        "colab": {}
      },
      "source": [
        "tamil=df_with_index[df_with_index['State']=='Tamil Nadu']"
      ],
      "execution_count": 61,
      "outputs": []
    },
    {
      "cell_type": "code",
      "metadata": {
        "id": "Rw0S6ks_k2Ow",
        "colab_type": "code",
        "colab": {
          "base_uri": "https://localhost:8080/",
          "height": 437
        },
        "outputId": "6c414cc7-3750-4f41-bc0e-acb56e7b1bea"
      },
      "source": [
        "tamil"
      ],
      "execution_count": 42,
      "outputs": [
        {
          "output_type": "execute_result",
          "data": {
            "text/html": [
              "<div>\n",
              "<style scoped>\n",
              "    .dataframe tbody tr th:only-of-type {\n",
              "        vertical-align: middle;\n",
              "    }\n",
              "\n",
              "    .dataframe tbody tr th {\n",
              "        vertical-align: top;\n",
              "    }\n",
              "\n",
              "    .dataframe thead th {\n",
              "        text-align: right;\n",
              "    }\n",
              "</style>\n",
              "<table border=\"1\" class=\"dataframe\">\n",
              "  <thead>\n",
              "    <tr style=\"text-align: right;\">\n",
              "      <th></th>\n",
              "      <th>State</th>\n",
              "      <th>TotalSamples</th>\n",
              "      <th>Negative</th>\n",
              "      <th>Positive</th>\n",
              "    </tr>\n",
              "    <tr>\n",
              "      <th>Date</th>\n",
              "      <th></th>\n",
              "      <th></th>\n",
              "      <th></th>\n",
              "      <th></th>\n",
              "    </tr>\n",
              "  </thead>\n",
              "  <tbody>\n",
              "    <tr>\n",
              "      <th>2020-04-03</th>\n",
              "      <td>Tamil Nadu</td>\n",
              "      <td>3684.0</td>\n",
              "      <td>2789</td>\n",
              "      <td>411.0</td>\n",
              "    </tr>\n",
              "    <tr>\n",
              "      <th>2020-04-08</th>\n",
              "      <td>Tamil Nadu</td>\n",
              "      <td>5305.0</td>\n",
              "      <td>4414</td>\n",
              "      <td>690.0</td>\n",
              "    </tr>\n",
              "    <tr>\n",
              "      <th>2020-04-09</th>\n",
              "      <td>Tamil Nadu</td>\n",
              "      <td>7267.0</td>\n",
              "      <td>5824</td>\n",
              "      <td>834.0</td>\n",
              "    </tr>\n",
              "    <tr>\n",
              "      <th>2020-04-10</th>\n",
              "      <td>Tamil Nadu</td>\n",
              "      <td>8410.0</td>\n",
              "      <td>6838</td>\n",
              "      <td>911.0</td>\n",
              "    </tr>\n",
              "    <tr>\n",
              "      <th>2020-04-11</th>\n",
              "      <td>Tamil Nadu</td>\n",
              "      <td>9842.0</td>\n",
              "      <td>7779</td>\n",
              "      <td>969.0</td>\n",
              "    </tr>\n",
              "    <tr>\n",
              "      <th>...</th>\n",
              "      <td>...</td>\n",
              "      <td>...</td>\n",
              "      <td>...</td>\n",
              "      <td>...</td>\n",
              "    </tr>\n",
              "    <tr>\n",
              "      <th>2020-06-21</th>\n",
              "      <td>Tamil Nadu</td>\n",
              "      <td>892612.0</td>\n",
              "      <td>832720</td>\n",
              "      <td>59377.0</td>\n",
              "    </tr>\n",
              "    <tr>\n",
              "      <th>2020-06-22</th>\n",
              "      <td>Tamil Nadu</td>\n",
              "      <td>919204.0</td>\n",
              "      <td>856475</td>\n",
              "      <td>62087.0</td>\n",
              "    </tr>\n",
              "    <tr>\n",
              "      <th>2020-06-23</th>\n",
              "      <td>Tamil Nadu</td>\n",
              "      <td>944352.0</td>\n",
              "      <td>879176</td>\n",
              "      <td>64603.0</td>\n",
              "    </tr>\n",
              "    <tr>\n",
              "      <th>2020-06-24</th>\n",
              "      <td>Tamil Nadu</td>\n",
              "      <td>976431.0</td>\n",
              "      <td>908292</td>\n",
              "      <td>67468.0</td>\n",
              "    </tr>\n",
              "    <tr>\n",
              "      <th>2020-06-25</th>\n",
              "      <td>Tamil Nadu</td>\n",
              "      <td>1008974.0</td>\n",
              "      <td>937412</td>\n",
              "      <td>70977.0</td>\n",
              "    </tr>\n",
              "  </tbody>\n",
              "</table>\n",
              "<p>80 rows × 4 columns</p>\n",
              "</div>"
            ],
            "text/plain": [
              "                 State  TotalSamples Negative  Positive\n",
              "Date                                                   \n",
              "2020-04-03  Tamil Nadu        3684.0     2789     411.0\n",
              "2020-04-08  Tamil Nadu        5305.0     4414     690.0\n",
              "2020-04-09  Tamil Nadu        7267.0     5824     834.0\n",
              "2020-04-10  Tamil Nadu        8410.0     6838     911.0\n",
              "2020-04-11  Tamil Nadu        9842.0     7779     969.0\n",
              "...                ...           ...      ...       ...\n",
              "2020-06-21  Tamil Nadu      892612.0   832720   59377.0\n",
              "2020-06-22  Tamil Nadu      919204.0   856475   62087.0\n",
              "2020-06-23  Tamil Nadu      944352.0   879176   64603.0\n",
              "2020-06-24  Tamil Nadu      976431.0   908292   67468.0\n",
              "2020-06-25  Tamil Nadu     1008974.0   937412   70977.0\n",
              "\n",
              "[80 rows x 4 columns]"
            ]
          },
          "metadata": {
            "tags": []
          },
          "execution_count": 42
        }
      ]
    },
    {
      "cell_type": "code",
      "metadata": {
        "id": "e2QiEoh2fu8g",
        "colab_type": "code",
        "colab": {
          "base_uri": "https://localhost:8080/",
          "height": 408
        },
        "outputId": "bfc22510-43ce-478e-da9b-4d83950ec49a"
      },
      "source": [
        "tamil['Positive'].plot(grid=True)"
      ],
      "execution_count": 43,
      "outputs": [
        {
          "output_type": "execute_result",
          "data": {
            "text/plain": [
              "<matplotlib.axes._subplots.AxesSubplot at 0x7f2646bcd4a8>"
            ]
          },
          "metadata": {
            "tags": []
          },
          "execution_count": 43
        },
        {
          "output_type": "display_data",
          "data": {
            "image/png": "[encoded data removed]",
            "text/plain": [
              "<Figure size 576x432 with 1 Axes>"
            ]
          },
          "metadata": {
            "tags": []
          }
        }
      ]
    },
    {
      "cell_type": "code",
      "metadata": {
        "id": "lnKGMk2-fu6D",
        "colab_type": "code",
        "colab": {
          "base_uri": "https://localhost:8080/",
          "height": 133
        },
        "outputId": "207864e3-bc60-4cf2-ef9d-7559999ba6ab"
      },
      "source": [
        "\n",
        "ec_data = tamil['Positive']\n",
        "ec_data.head()"
      ],
      "execution_count": 47,
      "outputs": [
        {
          "output_type": "execute_result",
          "data": {
            "text/plain": [
              "Date\n",
              "2020-04-03    411.0\n",
              "2020-04-08    690.0\n",
              "2020-04-09    834.0\n",
              "2020-04-10    911.0\n",
              "2020-04-11    969.0\n",
              "Name: Positive, dtype: float64"
            ]
          },
          "metadata": {
            "tags": []
          },
          "execution_count": 47
        }
      ]
    },
    {
      "cell_type": "code",
      "metadata": {
        "id": "eSd9gB_4fu3R",
        "colab_type": "code",
        "colab": {
          "base_uri": "https://localhost:8080/",
          "height": 517
        },
        "outputId": "a544ba54-75dc-4735-dbfb-1f76e9e3447b"
      },
      "source": [
        "ec_data.plot.bar()"
      ],
      "execution_count": 48,
      "outputs": [
        {
          "output_type": "execute_result",
          "data": {
            "text/plain": [
              "<matplotlib.axes._subplots.AxesSubplot at 0x7f2646c1f550>"
            ]
          },
          "metadata": {
            "tags": []
          },
          "execution_count": 48
        },
        {
          "output_type": "display_data",
          "data": {
            "image/png": "[encoded data removed]",
            "text/plain": [
              "<Figure size 576x432 with 1 Axes>"
            ]
          },
          "metadata": {
            "tags": []
          }
        }
      ]
    },
    {
      "cell_type": "code",
      "metadata": {
        "id": "S7VXofJOfu0r",
        "colab_type": "code",
        "colab": {
          "base_uri": "https://localhost:8080/",
          "height": 150
        },
        "outputId": "fd880ae1-f15e-4f4a-f2d2-a64bb1ba482e"
      },
      "source": [
        "\n",
        "train = ec_data[:50]\n",
        "test = ec_data[50:]\n",
        "print(train.shape, test.shape)\n",
        "train.head()"
      ],
      "execution_count": 51,
      "outputs": [
        {
          "output_type": "stream",
          "text": [
            "(50,) (30,)\n"
          ],
          "name": "stdout"
        },
        {
          "output_type": "execute_result",
          "data": {
            "text/plain": [
              "Date\n",
              "2020-04-03    411.0\n",
              "2020-04-08    690.0\n",
              "2020-04-09    834.0\n",
              "2020-04-10    911.0\n",
              "2020-04-11    969.0\n",
              "Name: Positive, dtype: float64"
            ]
          },
          "metadata": {
            "tags": []
          },
          "execution_count": 51
        }
      ]
    },
    {
      "cell_type": "code",
      "metadata": {
        "id": "vfo3if9cmqBY",
        "colab_type": "code",
        "colab": {}
      },
      "source": [
        "tamil=df[df['State']=='Tamil Nadu']"
      ],
      "execution_count": 63,
      "outputs": []
    },
    {
      "cell_type": "code",
      "metadata": {
        "id": "gYvfiirQlxPK",
        "colab_type": "code",
        "colab": {}
      },
      "source": [
        "ts_column = 'Date'\n",
        "sep = ','\n",
        "target = 'Positive'"
      ],
      "execution_count": 64,
      "outputs": []
    },
    {
      "cell_type": "code",
      "metadata": {
        "id": "duEUY9oDmLVg",
        "colab_type": "code",
        "colab": {
          "base_uri": "https://localhost:8080/",
          "height": 437
        },
        "outputId": "d3ce4b49-df25-4fc8-a28a-7745686b726d"
      },
      "source": [
        "tamil"
      ],
      "execution_count": 55,
      "outputs": [
        {
          "output_type": "execute_result",
          "data": {
            "text/html": [
              "<div>\n",
              "<style scoped>\n",
              "    .dataframe tbody tr th:only-of-type {\n",
              "        vertical-align: middle;\n",
              "    }\n",
              "\n",
              "    .dataframe tbody tr th {\n",
              "        vertical-align: top;\n",
              "    }\n",
              "\n",
              "    .dataframe thead th {\n",
              "        text-align: right;\n",
              "    }\n",
              "</style>\n",
              "<table border=\"1\" class=\"dataframe\">\n",
              "  <thead>\n",
              "    <tr style=\"text-align: right;\">\n",
              "      <th></th>\n",
              "      <th>State</th>\n",
              "      <th>TotalSamples</th>\n",
              "      <th>Negative</th>\n",
              "      <th>Positive</th>\n",
              "    </tr>\n",
              "    <tr>\n",
              "      <th>Date</th>\n",
              "      <th></th>\n",
              "      <th></th>\n",
              "      <th></th>\n",
              "      <th></th>\n",
              "    </tr>\n",
              "  </thead>\n",
              "  <tbody>\n",
              "    <tr>\n",
              "      <th>2020-04-03</th>\n",
              "      <td>Tamil Nadu</td>\n",
              "      <td>3684.0</td>\n",
              "      <td>2789</td>\n",
              "      <td>411.0</td>\n",
              "    </tr>\n",
              "    <tr>\n",
              "      <th>2020-04-08</th>\n",
              "      <td>Tamil Nadu</td>\n",
              "      <td>5305.0</td>\n",
              "      <td>4414</td>\n",
              "      <td>690.0</td>\n",
              "    </tr>\n",
              "    <tr>\n",
              "      <th>2020-04-09</th>\n",
              "      <td>Tamil Nadu</td>\n",
              "      <td>7267.0</td>\n",
              "      <td>5824</td>\n",
              "      <td>834.0</td>\n",
              "    </tr>\n",
              "    <tr>\n",
              "      <th>2020-04-10</th>\n",
              "      <td>Tamil Nadu</td>\n",
              "      <td>8410.0</td>\n",
              "      <td>6838</td>\n",
              "      <td>911.0</td>\n",
              "    </tr>\n",
              "    <tr>\n",
              "      <th>2020-04-11</th>\n",
              "      <td>Tamil Nadu</td>\n",
              "      <td>9842.0</td>\n",
              "      <td>7779</td>\n",
              "      <td>969.0</td>\n",
              "    </tr>\n",
              "    <tr>\n",
              "      <th>...</th>\n",
              "      <td>...</td>\n",
              "      <td>...</td>\n",
              "      <td>...</td>\n",
              "      <td>...</td>\n",
              "    </tr>\n",
              "    <tr>\n",
              "      <th>2020-06-21</th>\n",
              "      <td>Tamil Nadu</td>\n",
              "      <td>892612.0</td>\n",
              "      <td>832720</td>\n",
              "      <td>59377.0</td>\n",
              "    </tr>\n",
              "    <tr>\n",
              "      <th>2020-06-22</th>\n",
              "      <td>Tamil Nadu</td>\n",
              "      <td>919204.0</td>\n",
              "      <td>856475</td>\n",
              "      <td>62087.0</td>\n",
              "    </tr>\n",
              "    <tr>\n",
              "      <th>2020-06-23</th>\n",
              "      <td>Tamil Nadu</td>\n",
              "      <td>944352.0</td>\n",
              "      <td>879176</td>\n",
              "      <td>64603.0</td>\n",
              "    </tr>\n",
              "    <tr>\n",
              "      <th>2020-06-24</th>\n",
              "      <td>Tamil Nadu</td>\n",
              "      <td>976431.0</td>\n",
              "      <td>908292</td>\n",
              "      <td>67468.0</td>\n",
              "    </tr>\n",
              "    <tr>\n",
              "      <th>2020-06-25</th>\n",
              "      <td>Tamil Nadu</td>\n",
              "      <td>1008974.0</td>\n",
              "      <td>937412</td>\n",
              "      <td>70977.0</td>\n",
              "    </tr>\n",
              "  </tbody>\n",
              "</table>\n",
              "<p>80 rows × 4 columns</p>\n",
              "</div>"
            ],
            "text/plain": [
              "                 State  TotalSamples Negative  Positive\n",
              "Date                                                   \n",
              "2020-04-03  Tamil Nadu        3684.0     2789     411.0\n",
              "2020-04-08  Tamil Nadu        5305.0     4414     690.0\n",
              "2020-04-09  Tamil Nadu        7267.0     5824     834.0\n",
              "2020-04-10  Tamil Nadu        8410.0     6838     911.0\n",
              "2020-04-11  Tamil Nadu        9842.0     7779     969.0\n",
              "...                ...           ...      ...       ...\n",
              "2020-06-21  Tamil Nadu      892612.0   832720   59377.0\n",
              "2020-06-22  Tamil Nadu      919204.0   856475   62087.0\n",
              "2020-06-23  Tamil Nadu      944352.0   879176   64603.0\n",
              "2020-06-24  Tamil Nadu      976431.0   908292   67468.0\n",
              "2020-06-25  Tamil Nadu     1008974.0   937412   70977.0\n",
              "\n",
              "[80 rows x 4 columns]"
            ]
          },
          "metadata": {
            "tags": []
          },
          "execution_count": 55
        }
      ]
    },
    {
      "cell_type": "code",
      "metadata": {
        "id": "Ski5ca9GfuyN",
        "colab_type": "code",
        "colab": {
          "base_uri": "https://localhost:8080/",
          "height": 1000
        },
        "outputId": "e9ba4a66-12b2-4b5a-f6f2-ffef1cb3f35e"
      },
      "source": [
        "ml_dict = AT.Auto_Timeseries(tamil, ts_column,\n",
        "                            target, sep,  score_type='rmse', forecast_period=6,\n",
        "                            time_interval='Months', non_seasonal_pdq=None, seasonality=False,\n",
        "                            seasonal_period=12,seasonal_PDQ=None, model_type='best',\n",
        "                            verbose=2)"
      ],
      "execution_count": 65,
      "outputs": [
        {
          "output_type": "stream",
          "text": [
            "Input is data frame. Performing Time Series Analysis\n",
            "    Dataframe loaded successfully. Shape of data set = (80, 4)\n",
            "    Target variable = Positive\n",
            "Time Interval is given as Months\n",
            "\u001b[1mWARNING: Running best models will take time... Be Patient...\u001b[0m\n",
            "\u001b[1m\n",
            "Running Facebook Prophet Model...\u001b[0m\n",
            "Preparing Time Series data for FB Prophet: sample row before\n",
            "             Positive       State  TotalSamples Negative\n",
            "Date                                                   \n",
            "2020-04-03     411.0  Tamil Nadu        3684.0     2789\n",
            "Time Series data: sample row after transformation\n",
            "           ds      y       State  TotalSamples Negative\n",
            "0 2020-04-03  411.0  Tamil Nadu        3684.0     2789\n",
            "    Fit-Predict data (shape=(80, 2)) with Confidence Interval = 0.95...\n",
            "Building Forecast dataframe. Forecast Period = 6\n"
          ],
          "name": "stdout"
        },
        {
          "output_type": "display_data",
          "data": {
            "image/png": "[encoded data removed]",
            "text/plain": [
              "<Figure size 1440x720 with 1 Axes>"
            ]
          },
          "metadata": {
            "tags": []
          }
        },
        {
          "output_type": "stream",
          "text": [
            "    RMSE = 2,328.45\n",
            "    Std Deviation of Originals = 19,718.37\n",
            "    Normalized RMSE = 12%\n",
            "\u001b[1m\n",
            "Running PyFlux Model...\u001b[0m\n",
            "Cycling through various (p,d,q) parameters\n",
            "\n",
            "Best Params Selected (based on rmse): (3, 1, 3)\n",
            "Dynamic 6-period Forecasts:\n",
            "    RMSE = 8,295.03\n",
            "    Std Deviation of Originals = 15,438.36\n",
            "    Normalized RMSE = 54%\n",
            "\u001b[1m\n",
            "Running Non Seasonal ARIMA Model...\u001b[0m\n",
            "\n",
            "Differencing = 0\n",
            " Iteration 0 completed...\n",
            "    Best AR order p = 1, MA order q = 0, Interim metric = 1300.025\n",
            "\n",
            "Differencing = 1\n",
            "    Best AR order p = 1, MA order q = 0, Interim metric = 929.736\n",
            "\n",
            "Best model is: Non Seasonal ARIMA(1,1,0), aic = 929.736\n",
            "####    Fitting best model for full data set now. Will take time... ######\n",
            "Static Forecasts:\n",
            "    ARIMA model error: predictions not available.\n",
            "\u001b[1m\n",
            "Running Seasonal SARIMAX Model...\u001b[0m\n",
            "Building a Non Seasonal Model...\n",
            "\n",
            "Finding best Non Seasonal Parameters:\n",
            "\n",
            "Differencing = 0\n",
            "    Iteration 0 completed...\n",
            "    Best AR order p = 2, MA order q = 3, Interim metric = 879.629\n",
            "\n",
            "Differencing = 1\n",
            "    D = 1 results in an empty ARMA set. Setting Seasonality to False since model might overfit\n",
            "\n",
            "Best model is: Non Seasonal SARIMAX(2,0,3), aic = 879.629\n",
            "\u001b[1mFitting best SARIMAX model for full data set\u001b[0m\n",
            "    Best aic metric = 879.6\n",
            "Dynamic 6-Period Forecast:\n",
            "    RMSE = nan\n",
            "    Std Deviation of Originals = 15,438.36\n",
            "    Normalized RMSE = nan%\n",
            "\u001b[1m\n",
            "Running VAR Model...\u001b[0m\n",
            "    Shifting 3 predictors by 1 to align prior predictor values with current target values...\n",
            "\n",
            "Additional Variable in VAR model = State\n",
            " Iteration 1 completed\n",
            " Iteration 3 completed\n",
            " Iteration 4 completed\n",
            " Iteration 5 completed\n",
            " Iteration 6 completed\n",
            " Iteration 7 completed\n",
            " Iteration 8 completed\n",
            " Iteration 9 completed\n",
            " Iteration 10 completed\n",
            " Iteration 11 completed\n",
            " Iteration 12 completed\n",
            " Iteration 13 completed\n",
            " Iteration 14 completed\n",
            " Iteration 15 completed\n",
            " Iteration 16 completed\n",
            " Iteration 17 completed\n",
            "    VAR model error: predictions not available.\n",
            "\u001b[1m\n",
            "Running Machine Learning Models...\u001b[0m\n",
            "    Shifting 3 predictors by lag=5 to align prior predictor with current target...\n",
            "Running multiple models...\n",
            "Model Results:\n",
            "    For ML model, evaluation score is not available.\n",
            "\u001b[1m\n",
            "Best Model is:\u001b[0m\n",
            "    FB_Prophet\n",
            "    Best Model Forecasts: [3.27853101e+02 7.77562958e+02 9.48221930e+02 7.98704089e+02\n",
            " 8.57072246e+02 9.48239984e+02 1.07133498e+03 1.12967367e+03\n",
            " 1.24841398e+03 1.41907296e+03 1.26955513e+03 1.32792330e+03\n",
            " 1.41909105e+03 1.54218607e+03 1.60056001e+03 1.71933557e+03\n",
            " 1.89043873e+03 1.74136509e+03 1.80017744e+03 1.89180974e+03\n",
            " 2.01536929e+03 2.07426216e+03 2.19355664e+03 2.36476979e+03\n",
            " 2.40836194e+03 2.65984009e+03 3.16550011e+03 3.70308739e+03\n",
            " 4.17591836e+03 4.82685522e+03 5.52971074e+03 5.91284414e+03\n",
            " 6.50386354e+03 7.12768251e+03 7.78344162e+03 8.37444443e+03\n",
            " 9.02584888e+03 9.72917199e+03 1.01123183e+04 1.07241937e+04\n",
            " 1.13688687e+04 1.20462582e+04 1.26588915e+04 1.33319264e+04\n",
            " 1.40576973e+04 1.44632914e+04 1.52773394e+04 1.61241870e+04\n",
            " 1.70029618e+04 1.78171317e+04 1.86917031e+04 1.96187650e+04\n",
            " 2.02256501e+04 2.10404212e+04 2.22076081e+04 2.34067222e+04\n",
            " 2.47101231e+04 2.60739257e+04 2.74896469e+04 2.86197006e+04\n",
            " 2.99576402e+04 3.13287114e+04 3.27317098e+04 3.40699519e+04\n",
            " 3.62729108e+04 3.85277884e+04 4.04624892e+04 4.26050760e+04\n",
            " 4.47804623e+04 4.69877759e+04 4.91303332e+04 5.13332921e+04\n",
            " 5.35881697e+04 5.55228705e+04 5.76654573e+04 5.98408436e+04\n",
            " 6.20481572e+04 6.41907146e+04 6.63936735e+04 6.86485511e+04\n",
            " 7.92510959e+04 1.45885159e+05 2.12651971e+05 2.77239012e+05\n",
            " 3.43812703e+05 4.08436928e+05]\n",
            "    Best Model Score: 2328.45\n"
          ],
          "name": "stdout"
        },
        {
          "output_type": "display_data",
          "data": {
            "image/png": "[encoded data removed]",
            "text/plain": [
              "<Figure size 648x432 with 2 Axes>"
            ]
          },
          "metadata": {
            "tags": []
          }
        }
      ]
    },
    {
      "cell_type": "code",
      "metadata": {
        "id": "J6CgYUgofuwS",
        "colab_type": "code",
        "colab": {}
      },
      "source": [
        ""
      ],
      "execution_count": 62,
      "outputs": []
    },
    {
      "cell_type": "code",
      "metadata": {
        "id": "btDWrQ6BfusR",
        "colab_type": "code",
        "colab": {}
      },
      "source": [
        ""
      ],
      "execution_count": null,
      "outputs": []
    }
  ]
}