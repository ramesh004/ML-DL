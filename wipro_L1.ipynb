{
 "cells": [
  {
   "cell_type": "code",
   "execution_count": 23,
   "metadata": {},
   "outputs": [],
   "source": [
    "#1 Python program Basics\n",
    "\n",
    "class Arithmetic:\n",
    "    def __init__(self,a,b):\n",
    "        self.a=a\n",
    "        self.b=b\n",
    "    def sum1(self):\n",
    "        return self.a+self.b\n",
    "    def subtract(self):\n",
    "        return self.a -self.b \n",
    "    def multiply(self):\n",
    "        return self.a* self.b\n",
    "    def div(self):\n",
    "        return self.a/self.b\n",
    "    \n",
    "    "
   ]
  },
  {
   "cell_type": "code",
   "execution_count": 27,
   "metadata": {},
   "outputs": [
    {
     "name": "stdout",
     "output_type": "stream",
     "text": [
      "12\n",
      "8\n",
      "20\n",
      "5.0\n"
     ]
    }
   ],
   "source": [
    "#solution\n",
    "obj = Arithmetic(10,2)\n",
    "\n",
    "print(obj.sum1())\n",
    "print(obj.subtract())\n",
    "print(obj.multiply())\n",
    "print(obj.div())\n"
   ]
  },
  {
   "cell_type": "code",
   "execution_count": 30,
   "metadata": {},
   "outputs": [],
   "source": [
    "#2 biggest of 3 numbers \n",
    "\n",
    "def biggest_of_three(a,b,c):\n",
    "    if (a>b and a>c):\n",
    "        print(\"a is greater \"+str(a))\n",
    "    elif(a<b and c<b):\n",
    "        print(\"b is greater \" +str(b))\n",
    "    else:\n",
    "        print(\"c is greater \" + str(c))\n",
    "\n"
   ]
  },
  {
   "cell_type": "code",
   "execution_count": 36,
   "metadata": {},
   "outputs": [
    {
     "name": "stdout",
     "output_type": "stream",
     "text": [
      "b is greater 200\n"
     ]
    }
   ],
   "source": [
    "biggest_of_three(100,200,3)"
   ]
  },
  {
   "cell_type": "code",
   "execution_count": 37,
   "metadata": {},
   "outputs": [],
   "source": [
    "#3 given number is odd or Even\n",
    "\n",
    "def odd_even(num):\n",
    "    if (num % 2==0):\n",
    "        print(\"number is even\")\n",
    "    else:\n",
    "        print(\"number is Odd\")"
   ]
  },
  {
   "cell_type": "code",
   "execution_count": 39,
   "metadata": {},
   "outputs": [
    {
     "name": "stdout",
     "output_type": "stream",
     "text": [
      "number is Odd\n"
     ]
    }
   ],
   "source": [
    "odd_even(5)"
   ]
  },
  {
   "cell_type": "code",
   "execution_count": 132,
   "metadata": {},
   "outputs": [
    {
     "name": "stdout",
     "output_type": "stream",
     "text": [
      "15 is not a prime number\n"
     ]
    }
   ],
   "source": [
    "#4 find the number is Prime or not\n",
    "\n",
    "num = 15  \n",
    "if num > 1: \n",
    "      \n",
    "   # Iterate from 2 to n / 2  \n",
    "   for i in range(2, num//2): \n",
    "         \n",
    "        if (num % i) == 0: \n",
    "           print(num, \"is not a prime number\") \n",
    "           break\n",
    "   else: \n",
    "       print(num, \"is a prime number\") \n",
    "  \n",
    "else: \n",
    "   print(num, \"is not a prime number\") "
   ]
  },
  {
   "cell_type": "code",
   "execution_count": null,
   "metadata": {},
   "outputs": [],
   "source": [
    "   import sys\n",
    "\n",
    "first_num = sys.argv[1]\n",
    "second_num = sys.argv[2]\n",
    "third_num = sys.argv[3]\n",
    "\n",
    "def biggest_of_three(a,b,c):\n",
    "    if (a>b and a>c):\n",
    "        print(\"a is greater \"+str(a))\n",
    "    elif(a<b and c<b):\n",
    "        print(\"b is greater \" +str(b))\n",
    "    else:\n",
    "        print(\"c is greater \" + str(c))\n",
    "\n",
    "biggest_of_three (first_num,second_num,third_num)    "
   ]
  },
  {
   "cell_type": "code",
   "execution_count": null,
   "metadata": {},
   "outputs": [],
   "source": [
    "#6 to read string and print each character separately\n",
    "\n",
    "string = input('type the string')\n",
    "\n",
    "#a\n",
    "each_char = list(string)\n",
    "\n",
    "#b\n",
    "slice__first_half=string[0:(len(string)/2)-1]\n",
    "slice__second_half = string[(len(string)/2)-1:(len(string))]\n",
    "\n",
    "#c\n",
    "string * 100\n",
    "\n",
    "#d\n",
    "slice__first_half + slice__second_half"
   ]
  },
  {
   "cell_type": "code",
   "execution_count": 141,
   "metadata": {},
   "outputs": [],
   "source": [
    "'''Create a list with at least 10 elements having integer values in it;\n",
    "       Print all elements\n",
    "       Perform slicing operations\n",
    "       Perform repetition with * operator\n",
    "       Perform concatenation with other list.\n",
    "'''          \n",
    "\n",
    "test_list = []\n",
    "slice1=[]\n",
    "for i in range(0,10):\n",
    "    test_list.append(i)\n",
    "\n",
    "test_list[:9]\n",
    "\n",
    "test_list * 100\n",
    "\n",
    "test_list.extend(test_list)"
   ]
  },
  {
   "cell_type": "code",
   "execution_count": 143,
   "metadata": {},
   "outputs": [],
   "source": [
    "#9 \n",
    "\n",
    "\n",
    "#1 Python program Basics\n",
    "\n",
    "class Arithmetic:\n",
    "    def __init__(self,a,b):\n",
    "        self.a=complex(a)\n",
    "        self.b=complex(b)\n",
    "    def sum1(self):\n",
    "        return self.a+self.b\n",
    "    def subtract(self):\n",
    "        return self.a -self.b \n",
    "    def multiply(self):\n",
    "        return self.a* self.b\n",
    "    def div(self):\n",
    "        return self.a/self.b\n",
    "    \n",
    "    \n"
   ]
  },
  {
   "cell_type": "code",
   "execution_count": 144,
   "metadata": {},
   "outputs": [
    {
     "name": "stdout",
     "output_type": "stream",
     "text": [
      "Value of c is 31\n",
      "Value of c is 52\n",
      "Value of c is 1092\n",
      "Value of c is 52.0\n",
      "Value of c is 2\n",
      "Value of c is 2097152\n",
      "Value of c is 99864\n"
     ]
    }
   ],
   "source": [
    "#10\n",
    "\n",
    "\n",
    "a = 21\n",
    "b = 10\n",
    "c = 0\n",
    "\n",
    "c = a + b\n",
    "print (\"Value of c is\", c)\n",
    "\n",
    "c += a\n",
    "print (\"Value of c is\", c)\n",
    "\n",
    "c *= a\n",
    "print (\"Value of c is\", c)\n",
    "\n",
    "c /= a \n",
    "print (\"Value of c is\", c)\n",
    "\n",
    "c  = 2\n",
    "c %= a\n",
    "print (\"Value of c is\", c)\n",
    "\n",
    "c **= a\n",
    "print (\"Value of c is\", c)\n",
    "\n",
    "c //= a\n",
    "print (\"Value of c is\", c)"
   ]
  },
  {
   "cell_type": "code",
   "execution_count": 145,
   "metadata": {},
   "outputs": [
    {
     "name": "stdout",
     "output_type": "stream",
     "text": [
      "a & b = 0\n",
      "a | b = 14\n",
      "~a = -11\n",
      "a ^ b = 14\n"
     ]
    }
   ],
   "source": [
    "#11\n",
    "a = 10\n",
    "b = 4\n",
    "    \n",
    "# Print bitwise AND operation    \n",
    "print(\"a & b =\", a & b)  \n",
    "    \n",
    "# Print bitwise OR operation  \n",
    "print(\"a | b =\", a | b)  \n",
    "    \n",
    "# Print bitwise NOT operation   \n",
    "print(\"~a =\", ~a)  \n",
    "    \n",
    "# print bitwise XOR operation   \n",
    "print(\"a ^ b =\", a ^ b)  \n",
    "   "
   ]
  },
  {
   "cell_type": "code",
   "execution_count": 169,
   "metadata": {},
   "outputs": [
    {
     "name": "stdout",
     "output_type": "stream",
     "text": [
      "[15, 16, 17, 18, 19]\n",
      "[10, 11, 12, 13, 14]\n",
      "[]\n"
     ]
    }
   ],
   "source": [
    "#12\n",
    "import math\n",
    "test_list = []\n",
    "slice1=[]\n",
    "for i in range(0,10):\n",
    "    test_list.append(i+10)\n",
    "test_list   \n",
    "\n",
    "def Average(lst): \n",
    "    return sum(lst) / len(lst) \n",
    "\n",
    "avg =Average(test_list)\n",
    "\n",
    "\n",
    "greater_than_avg=list(filter(lambda l : l >avg,test_list ))\n",
    "print(greater_than_avg)\n",
    "ls_than_avg=list(filter(lambda l : l <avg,test_list ))\n",
    "print(ls_than_avg)\n",
    "equal_to_avg=list(filter(lambda l : l ==avg,test_list ))\n",
    "print(equal_to_avg)"
   ]
  },
  {
   "cell_type": "code",
   "execution_count": 370,
   "metadata": {},
   "outputs": [
    {
     "name": "stdout",
     "output_type": "stream",
     "text": [
      "16\n",
      "17\n"
     ]
    }
   ],
   "source": [
    "#13\n",
    "'''Write a program to find the biggest of 4 numbers.\n",
    "   a) Read 4 numbers from user using Input statement.\n",
    "   b) extend the above program to find the biggest of 5 numbers.\n",
    "(PS: Use IF and IF & Else, If and ELIf, and Nested IF)\n",
    "'''\n",
    "num = [15, 4, 17, 18, 19,16]\n",
    "\n",
    "for i in range(0,len(num)):\n",
    "    min1 = i\n",
    "    for j in range(i+1,len(num)):\n",
    "        if(num[min1] > num[j] ):\n",
    "            min1 = j\n",
    "    num[min1],num[i]=num[i],num[min1]\n",
    "\n",
    "\n",
    "num.reverse()\n",
    "largest_of_four=num[4-1]\n",
    "print(largest_of_four)\n",
    "largest_of_three=num[3-1]\n",
    "print(largest_of_three)"
   ]
  },
  {
   "cell_type": "code",
   "execution_count": 366,
   "metadata": {},
   "outputs": [
    {
     "data": {
      "text/plain": [
       "[19, 18, 17, 16, 15, 4]"
      ]
     },
     "execution_count": 366,
     "metadata": {},
     "output_type": "execute_result"
    }
   ],
   "source": [
    "num"
   ]
  },
  {
   "cell_type": "code",
   "execution_count": null,
   "metadata": {},
   "outputs": [],
   "source": [
    "\n",
    "#14\n",
    "'''Python List functions and Methods\tWrite a program to create two list A & B such that List A contains Employee Id, List B contain Employee name (minimum 10 entries in each list) & perform following operation\n",
    "     a) Print all names on to screen\n",
    "     b) Read the index from the  user and print the corresponding name from both list.\n",
    "     c) Print the names from 4th position to 9th position\n",
    "     d) Print all names from 3rd position till end of the list\n",
    "     e) Repeat list elements by specified number of times (N- times, where N is entered by user)\n",
    "     f)  Concatenate two lists and print the output.\n",
    "     g) Print element of list A and B side by side.(i.e. List-A First element, List-B First element )\n",
    "'''\n",
    "\n",
    "import string \n",
    "ascii1=[]\n",
    "num=[]\n",
    "ascii1= list(string.ascii_lowercase[:10]) \n",
    "\n",
    "\n",
    "num= [i for i in range(0,10)]\n",
    "\n",
    "zipped =zip(ascii1,num)\n",
    "\n",
    "for i in zipped:\n",
    "    print(i[0],i[1])\n",
    "    \n",
    "ascii1.extend(num)    \n",
    "list(zipped)"
   ]
  },
  {
   "cell_type": "code",
   "execution_count": 432,
   "metadata": {},
   "outputs": [],
   "source": [
    "string = ['hi','how','are','you']"
   ]
  },
  {
   "cell_type": "code",
   "execution_count": 436,
   "metadata": {},
   "outputs": [
    {
     "name": "stdout",
     "output_type": "stream",
     "text": [
      "element are is presented in the list\n",
      "element are is presented in the list\n"
     ]
    }
   ],
   "source": [
    "'''Create a list of 5 names and check given name exist in the List.\n",
    "        a) Use membership operator (IN) to check the presence of an element.\n",
    "        b) Perform above task without using membership operator.\n",
    "        c) Print the elements of the list in reverse direction.\n",
    "'''\n",
    "\n",
    "\n",
    "for i in string:\n",
    "    if (i == 'are'):\n",
    "        print(\"element are is presented in the list\")\n",
    "        \n",
    "if ( 'are' in string ):\n",
    "    print(\"element are is presented in the list\")        "
   ]
  },
  {
   "cell_type": "code",
   "execution_count": 440,
   "metadata": {},
   "outputs": [
    {
     "name": "stdout",
     "output_type": "stream",
     "text": [
      "0 is not a prime number\n",
      "1 is not a prime number\n",
      "2 is a prime number\n",
      "3 is a prime number\n",
      "4 is a prime number\n",
      "5 is a prime number\n",
      "6 is not a prime number\n",
      "7 is a prime number\n",
      "8 is not a prime number\n",
      "9 is not a prime number\n",
      "10 is not a prime number\n",
      "11 is a prime number\n",
      "12 is not a prime number\n",
      "13 is a prime number\n",
      "14 is not a prime number\n",
      "15 is not a prime number\n",
      "16 is not a prime number\n",
      "17 is a prime number\n",
      "18 is not a prime number\n",
      "19 is a prime number\n",
      "20 is not a prime number\n",
      "21 is not a prime number\n",
      "22 is not a prime number\n",
      "23 is a prime number\n",
      "24 is not a prime number\n",
      "25 is not a prime number\n",
      "26 is not a prime number\n",
      "27 is not a prime number\n",
      "28 is not a prime number\n",
      "29 is a prime number\n",
      "30 is not a prime number\n",
      "31 is a prime number\n",
      "32 is not a prime number\n",
      "33 is not a prime number\n",
      "34 is not a prime number\n",
      "35 is not a prime number\n",
      "36 is not a prime number\n",
      "37 is a prime number\n",
      "38 is not a prime number\n",
      "39 is not a prime number\n",
      "40 is not a prime number\n",
      "41 is a prime number\n",
      "42 is not a prime number\n",
      "43 is a prime number\n",
      "44 is not a prime number\n",
      "45 is not a prime number\n",
      "46 is not a prime number\n",
      "47 is a prime number\n",
      "48 is not a prime number\n",
      "49 is not a prime number\n"
     ]
    }
   ],
   "source": [
    "#4 find the number is Prime or not\n",
    "\n",
    "for i in range(0,50):\n",
    "    num = i\n",
    "    if num > 1: \n",
    "          \n",
    "       # Iterate from 2 to n / 2  \n",
    "       for i in range(2, num//2): \n",
    "             \n",
    "            if (num % i) == 0: \n",
    "               print(num, \"is not a prime number\") \n",
    "               break\n",
    "       else: \n",
    "           print(num, \"is a prime number\") \n",
    "      \n",
    "    else: \n",
    "       print(num, \"is not a prime number\") "
   ]
  },
  {
   "cell_type": "code",
   "execution_count": 446,
   "metadata": {},
   "outputs": [
    {
     "name": "stdout",
     "output_type": "stream",
     "text": [
      "1\n",
      "8\n"
     ]
    }
   ],
   "source": [
    "'''Write program to find the biggest and Smallest of N numbers.\n",
    "      PS: Use the functions to find biggest and smallest numbers. \n",
    "'''\n",
    "\n",
    "class biggest_smallest:\n",
    "    def __init__(self,num):\n",
    "        self.num = num\n",
    "        self.sort = sorted(num)\n",
    "    def biggest(self):\n",
    "        return self.sort[-1]\n",
    "    def smallest(self):\n",
    "        return self.sort[0]    \n",
    "obj = biggest_smallest([1,8,5,6,5,6,4])\n",
    "print(obj.smallest())\n",
    "print(obj.biggest())"
   ]
  },
  {
   "cell_type": "code",
   "execution_count": 450,
   "metadata": {},
   "outputs": [
    {
     "name": "stdout",
     "output_type": "stream",
     "text": [
      "correct order0=====> reverese order100\n",
      "correct order1=====> reverese order99\n",
      "correct order2=====> reverese order98\n",
      "correct order3=====> reverese order97\n",
      "correct order4=====> reverese order96\n",
      "correct order5=====> reverese order95\n",
      "correct order6=====> reverese order94\n",
      "correct order7=====> reverese order93\n",
      "correct order8=====> reverese order92\n",
      "correct order9=====> reverese order91\n",
      "correct order10=====> reverese order90\n",
      "correct order11=====> reverese order89\n",
      "correct order12=====> reverese order88\n",
      "correct order13=====> reverese order87\n",
      "correct order14=====> reverese order86\n",
      "correct order15=====> reverese order85\n",
      "correct order16=====> reverese order84\n",
      "correct order17=====> reverese order83\n",
      "correct order18=====> reverese order82\n",
      "correct order19=====> reverese order81\n",
      "correct order20=====> reverese order80\n",
      "correct order21=====> reverese order79\n",
      "correct order22=====> reverese order78\n",
      "correct order23=====> reverese order77\n",
      "correct order24=====> reverese order76\n",
      "correct order25=====> reverese order75\n",
      "correct order26=====> reverese order74\n",
      "correct order27=====> reverese order73\n",
      "correct order28=====> reverese order72\n",
      "correct order29=====> reverese order71\n",
      "correct order30=====> reverese order70\n",
      "correct order31=====> reverese order69\n",
      "correct order32=====> reverese order68\n",
      "correct order33=====> reverese order67\n",
      "correct order34=====> reverese order66\n",
      "correct order35=====> reverese order65\n",
      "correct order36=====> reverese order64\n",
      "correct order37=====> reverese order63\n",
      "correct order38=====> reverese order62\n",
      "correct order39=====> reverese order61\n",
      "correct order40=====> reverese order60\n",
      "correct order41=====> reverese order59\n",
      "correct order42=====> reverese order58\n",
      "correct order43=====> reverese order57\n",
      "correct order44=====> reverese order56\n",
      "correct order45=====> reverese order55\n",
      "correct order46=====> reverese order54\n",
      "correct order47=====> reverese order53\n",
      "correct order48=====> reverese order52\n",
      "correct order49=====> reverese order51\n",
      "correct order50=====> reverese order50\n",
      "correct order51=====> reverese order49\n",
      "correct order52=====> reverese order48\n",
      "correct order53=====> reverese order47\n",
      "correct order54=====> reverese order46\n",
      "correct order55=====> reverese order45\n",
      "correct order56=====> reverese order44\n",
      "correct order57=====> reverese order43\n",
      "correct order58=====> reverese order42\n",
      "correct order59=====> reverese order41\n",
      "correct order60=====> reverese order40\n",
      "correct order61=====> reverese order39\n",
      "correct order62=====> reverese order38\n",
      "correct order63=====> reverese order37\n",
      "correct order64=====> reverese order36\n",
      "correct order65=====> reverese order35\n",
      "correct order66=====> reverese order34\n",
      "correct order67=====> reverese order33\n",
      "correct order68=====> reverese order32\n",
      "correct order69=====> reverese order31\n",
      "correct order70=====> reverese order30\n",
      "correct order71=====> reverese order29\n",
      "correct order72=====> reverese order28\n",
      "correct order73=====> reverese order27\n",
      "correct order74=====> reverese order26\n",
      "correct order75=====> reverese order25\n",
      "correct order76=====> reverese order24\n",
      "correct order77=====> reverese order23\n",
      "correct order78=====> reverese order22\n",
      "correct order79=====> reverese order21\n",
      "correct order80=====> reverese order20\n",
      "correct order81=====> reverese order19\n",
      "correct order82=====> reverese order18\n",
      "correct order83=====> reverese order17\n",
      "correct order84=====> reverese order16\n",
      "correct order85=====> reverese order15\n",
      "correct order86=====> reverese order14\n",
      "correct order87=====> reverese order13\n",
      "correct order88=====> reverese order12\n",
      "correct order89=====> reverese order11\n",
      "correct order90=====> reverese order10\n",
      "correct order91=====> reverese order9\n",
      "correct order92=====> reverese order8\n",
      "correct order93=====> reverese order7\n",
      "correct order94=====> reverese order6\n",
      "correct order95=====> reverese order5\n",
      "correct order96=====> reverese order4\n",
      "correct order97=====> reverese order3\n",
      "correct order98=====> reverese order2\n",
      "correct order99=====> reverese order1\n"
     ]
    }
   ],
   "source": [
    "for i in range(0,100):\n",
    "    print(\"correct order\"+ str(i)  + \"=====> reverese order\" + str(100-i))"
   ]
  },
  {
   "cell_type": "code",
   "execution_count": 451,
   "metadata": {},
   "outputs": [
    {
     "name": "stdout",
     "output_type": "stream",
     "text": [
      "H\n",
      "e\n",
      "l\n",
      "l\n",
      "o\n",
      " \n",
      "w\n",
      "o\n",
      "r\n",
      "l\n",
      "d\n"
     ]
    }
   ],
   "source": [
    "for i in list(\"Hello world\"):\n",
    "    print(i)"
   ]
  },
  {
   "cell_type": "code",
   "execution_count": 452,
   "metadata": {},
   "outputs": [
    {
     "name": "stdout",
     "output_type": "stream",
     "text": [
      "correct order0=====> reverese order100\n",
      "correct order1=====> reverese order99\n",
      "correct order2=====> reverese order98\n",
      "correct order3=====> reverese order97\n",
      "correct order4=====> reverese order96\n",
      "correct order5=====> reverese order95\n",
      "correct order6=====> reverese order94\n",
      "correct order7=====> reverese order93\n",
      "correct order8=====> reverese order92\n",
      "correct order9=====> reverese order91\n",
      "correct order10=====> reverese order90\n",
      "correct order11=====> reverese order89\n",
      "correct order12=====> reverese order88\n",
      "correct order13=====> reverese order87\n",
      "correct order14=====> reverese order86\n",
      "correct order15=====> reverese order85\n",
      "correct order16=====> reverese order84\n",
      "correct order17=====> reverese order83\n",
      "correct order18=====> reverese order82\n",
      "correct order19=====> reverese order81\n",
      "correct order20=====> reverese order80\n",
      "correct order21=====> reverese order79\n",
      "correct order22=====> reverese order78\n",
      "correct order23=====> reverese order77\n",
      "correct order24=====> reverese order76\n",
      "correct order25=====> reverese order75\n",
      "correct order26=====> reverese order74\n",
      "correct order27=====> reverese order73\n",
      "correct order28=====> reverese order72\n",
      "correct order29=====> reverese order71\n",
      "correct order30=====> reverese order70\n",
      "correct order31=====> reverese order69\n",
      "correct order32=====> reverese order68\n",
      "correct order33=====> reverese order67\n",
      "correct order34=====> reverese order66\n",
      "correct order35=====> reverese order65\n",
      "correct order36=====> reverese order64\n",
      "correct order37=====> reverese order63\n",
      "correct order38=====> reverese order62\n",
      "correct order39=====> reverese order61\n",
      "correct order40=====> reverese order60\n",
      "correct order41=====> reverese order59\n",
      "correct order42=====> reverese order58\n",
      "correct order43=====> reverese order57\n",
      "correct order44=====> reverese order56\n",
      "correct order45=====> reverese order55\n",
      "correct order46=====> reverese order54\n",
      "correct order47=====> reverese order53\n",
      "correct order48=====> reverese order52\n",
      "correct order49=====> reverese order51\n",
      "correct order50=====> reverese order50\n",
      "correct order51=====> reverese order49\n",
      "correct order52=====> reverese order48\n",
      "correct order53=====> reverese order47\n",
      "correct order54=====> reverese order46\n",
      "correct order55=====> reverese order45\n",
      "correct order56=====> reverese order44\n",
      "correct order57=====> reverese order43\n",
      "correct order58=====> reverese order42\n",
      "correct order59=====> reverese order41\n",
      "correct order60=====> reverese order40\n",
      "correct order61=====> reverese order39\n",
      "correct order62=====> reverese order38\n",
      "correct order63=====> reverese order37\n",
      "correct order64=====> reverese order36\n",
      "correct order65=====> reverese order35\n",
      "correct order66=====> reverese order34\n",
      "correct order67=====> reverese order33\n",
      "correct order68=====> reverese order32\n",
      "correct order69=====> reverese order31\n",
      "correct order70=====> reverese order30\n",
      "correct order71=====> reverese order29\n",
      "correct order72=====> reverese order28\n",
      "correct order73=====> reverese order27\n",
      "correct order74=====> reverese order26\n",
      "correct order75=====> reverese order25\n",
      "correct order76=====> reverese order24\n",
      "correct order77=====> reverese order23\n",
      "correct order78=====> reverese order22\n",
      "correct order79=====> reverese order21\n",
      "correct order80=====> reverese order20\n",
      "correct order81=====> reverese order19\n",
      "correct order82=====> reverese order18\n",
      "correct order83=====> reverese order17\n",
      "correct order84=====> reverese order16\n",
      "correct order85=====> reverese order15\n",
      "correct order86=====> reverese order14\n",
      "correct order87=====> reverese order13\n",
      "correct order88=====> reverese order12\n",
      "correct order89=====> reverese order11\n",
      "correct order90=====> reverese order10\n",
      "correct order91=====> reverese order9\n",
      "correct order92=====> reverese order8\n",
      "correct order93=====> reverese order7\n",
      "correct order94=====> reverese order6\n",
      "correct order95=====> reverese order5\n",
      "correct order96=====> reverese order4\n",
      "correct order97=====> reverese order3\n",
      "correct order98=====> reverese order2\n",
      "correct order99=====> reverese order1\n",
      "correct order100=====> reverese order0\n"
     ]
    }
   ],
   "source": [
    "n = 100\n",
    "i = 0\n",
    "while(i<=n):\n",
    "     print(\"correct order\"+ str(i)  + \"=====> reverese order\" + str(100-i))\n",
    "     i+=1"
   ]
  },
  {
   "cell_type": "code",
   "execution_count": null,
   "metadata": {},
   "outputs": [],
   "source": [
    "'''Using loop structures print even numbers between 1 to 100.  \n",
    "a) By using For loop, use continue/ break/ pass statement to skip odd numbers.\n",
    "    i) Break the loop if the value is 50\n",
    "    ii) Use continue for the values 10,20,30,40,50\n",
    "      b) By using while loop, use continue/ break/ pass statement to skip odd numbers.\n",
    "      i) Break the loop if the value is 90\n",
    "      ii) Use continue for the values 60,70,80,90\n",
    "'''"
   ]
  },
  {
   "cell_type": "code",
   "execution_count": 455,
   "metadata": {},
   "outputs": [
    {
     "name": "stdout",
     "output_type": "stream",
     "text": [
      "0\n",
      "2\n",
      "4\n",
      "6\n",
      "8\n",
      "12\n",
      "14\n",
      "16\n",
      "18\n",
      "22\n",
      "24\n",
      "26\n",
      "28\n",
      "32\n",
      "34\n",
      "36\n",
      "38\n",
      "42\n",
      "44\n",
      "46\n",
      "48\n"
     ]
    }
   ],
   "source": [
    "for i in range(0,100):\n",
    "    if (i ==50 or i ==90):\n",
    "        break\n",
    "    elif i in [10,20,30,40,50,60,70,80,90] :\n",
    "        continue\n",
    "    elif i % 2 ==0 :\n",
    "        print(i)\n",
    "        "
   ]
  },
  {
   "cell_type": "code",
   "execution_count": null,
   "metadata": {},
   "outputs": [],
   "source": [
    "'''Write a program to generate a Fibonacci series of numbers.\n",
    "Starting numbers are 0 and 1,  new number in the series is generated by adding previous two numbers in the series.\n",
    "Example : 0, 1, 1, 2, 3, 5, 8,13,21,.....\n",
    "   a) Number of elements printed in the series should be N numbers, Where N is any +ve integer.\n",
    "   b) Generate the series until the element in the series is less than Max number.\n",
    "'''"
   ]
  },
  {
   "cell_type": "code",
   "execution_count": 472,
   "metadata": {},
   "outputs": [],
   "source": [
    "def finonnacci(n):    \n",
    "    if n==1:\n",
    "        return 1\n",
    "    elif( n==0):\n",
    "        return 0\n",
    "    else:\n",
    "        return  finonnacci(n-1) + finonnacci(n-2)"
   ]
  },
  {
   "cell_type": "code",
   "execution_count": 471,
   "metadata": {},
   "outputs": [
    {
     "data": {
      "text/plain": [
       "610"
      ]
     },
     "execution_count": 471,
     "metadata": {},
     "output_type": "execute_result"
    }
   ],
   "source": [
    "finonnacci(15)"
   ]
  },
  {
   "cell_type": "code",
   "execution_count": null,
   "metadata": {},
   "outputs": [],
   "source": []
  },
  {
   "cell_type": "code",
   "execution_count": null,
   "metadata": {},
   "outputs": [],
   "source": []
  },
  {
   "cell_type": "code",
   "execution_count": null,
   "metadata": {},
   "outputs": [],
   "source": []
  },
  {
   "cell_type": "code",
   "execution_count": null,
   "metadata": {},
   "outputs": [],
   "source": []
  },
  {
   "cell_type": "code",
   "execution_count": null,
   "metadata": {},
   "outputs": [],
   "source": []
  },
  {
   "cell_type": "code",
   "execution_count": null,
   "metadata": {},
   "outputs": [],
   "source": []
  },
  {
   "cell_type": "code",
   "execution_count": null,
   "metadata": {},
   "outputs": [],
   "source": []
  },
  {
   "cell_type": "code",
   "execution_count": null,
   "metadata": {},
   "outputs": [],
   "source": []
  }
 ],
 "metadata": {
  "kernelspec": {
   "display_name": "Python 3",
   "language": "python",
   "name": "python3"
  },
  "language_info": {
   "codemirror_mode": {
    "name": "ipython",
    "version": 3
   },
   "file_extension": ".py",
   "mimetype": "text/x-python",
   "name": "python",
   "nbconvert_exporter": "python",
   "pygments_lexer": "ipython3",
   "version": "3.7.0"
  }
 },
 "nbformat": 4,
 "nbformat_minor": 2
}
