{
 "cells": [
  {
   "cell_type": "code",
   "execution_count": null,
   "metadata": {},
   "outputs": [],
   "source": [
    "#21\n",
    "'''Using the built-in functions on Numbers perform following operations\n",
    "a) Round of the given floating point number. Example:  n=0.543 then round it next decimal number, i.e n=1.0 Use round() function\n",
    "b) Find out the square root of a given number. (Use sqrt(x) function)\n",
    "c) Generate random number between 0, and 1 ( use  random() function)\n",
    "d) Generate random number between 10 and  500. (Use uniform() function)\n",
    "e) Explore all Math and Random module functions  on a given number/ List.\n",
    "'''"
   ]
  },
  {
   "cell_type": "code",
   "execution_count": 34,
   "metadata": {},
   "outputs": [
    {
     "data": {
      "text/plain": [
       "1"
      ]
     },
     "execution_count": 34,
     "metadata": {},
     "output_type": "execute_result"
    }
   ],
   "source": [
    "n=0.543\n",
    "round(n)"
   ]
  },
  {
   "cell_type": "code",
   "execution_count": 36,
   "metadata": {},
   "outputs": [
    {
     "data": {
      "text/plain": [
       "0.7368853370776216"
      ]
     },
     "execution_count": 36,
     "metadata": {},
     "output_type": "execute_result"
    }
   ],
   "source": [
    "import math \n",
    "\n",
    "math.sqrt(n)"
   ]
  },
  {
   "cell_type": "code",
   "execution_count": 58,
   "metadata": {},
   "outputs": [
    {
     "data": {
      "text/plain": [
       "0.8261027206200493"
      ]
     },
     "execution_count": 58,
     "metadata": {},
     "output_type": "execute_result"
    }
   ],
   "source": [
    "import random\n",
    "random.uniform(0, 1)\n"
   ]
  },
  {
   "cell_type": "code",
   "execution_count": 59,
   "metadata": {},
   "outputs": [
    {
     "data": {
      "text/plain": [
       "419.1288772951839"
      ]
     },
     "execution_count": 59,
     "metadata": {},
     "output_type": "execute_result"
    }
   ],
   "source": [
    "import random\n",
    "random.uniform(10, 500)"
   ]
  },
  {
   "cell_type": "code",
   "execution_count": 181,
   "metadata": {
    "scrolled": false
   },
   "outputs": [
    {
     "data": {
      "text/plain": [
       "['__doc__',\n",
       " '__loader__',\n",
       " '__name__',\n",
       " '__package__',\n",
       " '__spec__',\n",
       " 'acos',\n",
       " 'acosh',\n",
       " 'asin',\n",
       " 'asinh',\n",
       " 'atan',\n",
       " 'atan2',\n",
       " 'atanh',\n",
       " 'ceil',\n",
       " 'copysign',\n",
       " 'cos',\n",
       " 'cosh',\n",
       " 'degrees',\n",
       " 'e',\n",
       " 'erf',\n",
       " 'erfc',\n",
       " 'exp',\n",
       " 'expm1',\n",
       " 'fabs',\n",
       " 'factorial',\n",
       " 'floor',\n",
       " 'fmod',\n",
       " 'frexp',\n",
       " 'fsum',\n",
       " 'gamma',\n",
       " 'gcd',\n",
       " 'hypot',\n",
       " 'inf',\n",
       " 'isclose',\n",
       " 'isfinite',\n",
       " 'isinf',\n",
       " 'isnan',\n",
       " 'ldexp',\n",
       " 'lgamma',\n",
       " 'log',\n",
       " 'log10',\n",
       " 'log1p',\n",
       " 'log2',\n",
       " 'modf',\n",
       " 'nan',\n",
       " 'pi',\n",
       " 'pow',\n",
       " 'radians',\n",
       " 'remainder',\n",
       " 'sin',\n",
       " 'sinh',\n",
       " 'sqrt',\n",
       " 'tan',\n",
       " 'tanh',\n",
       " 'tau',\n",
       " 'trunc']"
      ]
     },
     "execution_count": 181,
     "metadata": {},
     "output_type": "execute_result"
    }
   ],
   "source": [
    "lis = dir(math)\n",
    "lis"
   ]
  },
  {
   "cell_type": "code",
   "execution_count": 192,
   "metadata": {},
   "outputs": [
    {
     "name": "stdout",
     "output_type": "stream",
     "text": [
      "type x1\n",
      "type y1\n"
     ]
    }
   ],
   "source": [
    "x = int(input ('type x'))\n",
    "y = int(input ('type y'))"
   ]
  },
  {
   "cell_type": "code",
   "execution_count": 196,
   "metadata": {
    "scrolled": true
   },
   "outputs": [
    {
     "name": "stdout",
     "output_type": "stream",
     "text": [
      "0.0\n",
      "1.5707963267948966\n",
      "0.7853981633974483\n",
      "0.7853981633974483\n",
      "0.5403023058681398\n",
      "0.8414709848078965\n",
      "1.5574077246549023\n",
      "57.29577951308232\n",
      "0.017453292519943295\n",
      "0.0\n",
      "0.8813735870195429\n",
      "1.5430806348152437\n",
      "1.1752011936438014\n",
      "0.7615941559557649\n",
      "0.8427007929497149\n",
      "0.1572992070502851\n",
      "1.0\n",
      "0.0\n",
      "3.141592653589793\n",
      "2.718281828459045\n",
      "6.283185307179586\n",
      "inf\n",
      "nan\n"
     ]
    }
   ],
   "source": [
    "#22\n",
    "'''Read the value x and y from the user and apply all trigonometric functions on these numbers. Note: \n",
    "Refer the tutorial Trigonometric operation table.'''\n",
    "\n",
    "\n",
    "print( math.acos(x))\n",
    "print( math.asin(x))\n",
    "\n",
    "\n",
    "print( math.atan(x))\n",
    "\n",
    "print( math.atan2(y, x))\n",
    "\n",
    "print( math.cos(x))\n",
    "\n",
    "\n",
    "print( math.sin(x))\n",
    "\n",
    "print( math.tan(x))\n",
    "\n",
    "\n",
    "print( math.degrees(x))\n",
    "\n",
    "\n",
    "print( math.radians(x))\n",
    "\n",
    "\n",
    "print( math.acosh(x))\n",
    "\n",
    "\n",
    "print( math.asinh(x))\n",
    "\n",
    "\n",
    "\n",
    "print( math.cosh(x))\n",
    "\n",
    "print( math.sinh(x))\n",
    "\n",
    "print( math.tanh(x))\n",
    "\n",
    "\n",
    "print( math.erf(x))\n",
    "\n",
    "print( math.erfc(x))\n",
    "\n",
    "\n",
    "print( math.gamma(x))\n",
    "\n",
    "\n",
    "print( math.lgamma(x))\n",
    "\n",
    "\n",
    "print( math.pi)\n",
    "\n",
    "print( math.e)\n",
    "\n",
    "print( math.tau)\n",
    "\n",
    "\n",
    "print( math.inf)\n",
    "\n",
    "print( math.nan)\n"
   ]
  },
  {
   "cell_type": "code",
   "execution_count": 198,
   "metadata": {},
   "outputs": [
    {
     "data": {
      "text/plain": [
       "69.11503837897544"
      ]
     },
     "execution_count": 198,
     "metadata": {},
     "output_type": "execute_result"
    }
   ],
   "source": [
    "#23\n",
    "\n",
    "'''Find the area of Circle given that radius of a circle. (Use pi value from Math module as mathematical constant)'''\n",
    "radius = 20\n",
    "math.pi*(radius^2)"
   ]
  },
  {
   "cell_type": "code",
   "execution_count": 201,
   "metadata": {},
   "outputs": [
    {
     "name": "stdout",
     "output_type": "stream",
     "text": [
      "The string without r / R is : \n",
      "I\n",
      "Love\tGeeksforgeeks\n",
      "\r\n",
      "The string after using r is : \n",
      "I\\nLove\\tGeeksforgeeks\n",
      "\r\n",
      "The string after using R is : \n",
      "I\\nLove\\tGeeksforgeeks\n"
     ]
    }
   ],
   "source": [
    "#24\n",
    "'''Special Characters: Write program to explore all Escape characters specified in Tutorial (Under String chapter)'''\n",
    "\n",
    "ch = \"I\\nLove\\tGeeksforgeeks\"\n",
    "  \n",
    "print (\"The string without r / R is : \") \n",
    "print (ch) \n",
    "  \n",
    "print (\"\\r\") \n",
    "  \n",
    "# using \"r\" to prevent resolution \n",
    "ch1 = r\"I\\nLove\\tGeeksforgeeks\"\n",
    "  \n",
    "print (\"The string after using r is : \") \n",
    "print (ch1) \n",
    "  \n",
    "print (\"\\r\") \n",
    "  \n",
    "# using \"R\" to prevent resolution \n",
    "ch2 = R\"I\\nLove\\tGeeksforgeeks\"\n",
    "  \n",
    "print (\"The string after using R is : \") \n",
    "print (ch2) "
   ]
  },
  {
   "cell_type": "code",
   "execution_count": 209,
   "metadata": {},
   "outputs": [
    {
     "name": "stdout",
     "output_type": "stream",
     "text": [
      "<class 'int'>\n",
      "<class 'str'>\n",
      "<class 'float'>\n",
      "<class 'float'>\n"
     ]
    }
   ],
   "source": [
    "#25\n",
    "'''Write a program to print the different data types (Numbers, strings characters) using the Format symbols (Refer to different format symbols specified in Tutorial)\n",
    "'''\n",
    "a = 1\n",
    "b = 'ada'\n",
    "c = float(1414)\n",
    "d=13.123\n",
    "\n",
    "print(type(a ))\n",
    "print(type(b ))\n",
    "print(type(c ))\n",
    "print(type(d ))\n",
    "\n"
   ]
  },
  {
   "cell_type": "code",
   "execution_count": null,
   "metadata": {},
   "outputs": [],
   "source": [
    "#26\n",
    "\n",
    "'''Receive the encoded string from your friend & decode it to check the original message. PS: You will receive Encoded string and the Algorithm used for encoding.'''"
   ]
  },
  {
   "cell_type": "code",
   "execution_count": 213,
   "metadata": {},
   "outputs": [
    {
     "name": "stdout",
     "output_type": "stream",
     "text": [
      "The string is: pythön!\n",
      "The encoded version is: b'pyth\\xc3\\xb6n!'\n",
      "pythön!\n"
     ]
    }
   ],
   "source": [
    "# unicode string\n",
    "string = 'pythön!'\n",
    "\n",
    "# print string\n",
    "print('The string is:', string)\n",
    "\n",
    "# default encoding to utf-8\n",
    "string_utf = string.encode()\n",
    "\n",
    "# print result\n",
    "print('The encoded version is:', string_utf)\n",
    "\n",
    "print(string_utf.decode())"
   ]
  },
  {
   "cell_type": "code",
   "execution_count": 235,
   "metadata": {},
   "outputs": [
    {
     "name": "stdout",
     "output_type": "stream",
     "text": [
      "it is the palindrome\n"
     ]
    }
   ],
   "source": [
    "#27\n",
    "\n",
    "'''Write a program to check given string is Palindrome or not.That is reverse the given string and check whether it is same as original string, if so then it is palindrome.\n",
    "Example: String = \"malayalam\"  reverse string = \"malayalam\" hence given string is palindrome. Use built functions to check given string is palindrome or not.\n",
    "'''\n",
    "\n",
    "string = 'malayalam'\n",
    "\n",
    "if (string[::-1]==string):\n",
    "    print('it is the palindrome')"
   ]
  },
  {
   "cell_type": "code",
   "execution_count": null,
   "metadata": {},
   "outputs": [],
   "source": [
    "#28\n",
    "'''Write a program to check how many ovals present in the given string. That is, count the number of \" a e i o u\" in the given string and print the numbers against each oval. Example:- \"This is Python\" Number of total ovals = 3, i = 2, o =1\n",
    "'''"
   ]
  },
  {
   "cell_type": "code",
   "execution_count": 244,
   "metadata": {},
   "outputs": [
    {
     "name": "stdout",
     "output_type": "stream",
     "text": [
      "4\n"
     ]
    }
   ],
   "source": [
    "vowels=list('aeiou')\n",
    "counter = 0\n",
    "for i in list(str1):\n",
    "    if (i in vowels):\n",
    "        counter+=1\n",
    "print(counter)        "
   ]
  },
  {
   "cell_type": "code",
   "execution_count": 256,
   "metadata": {},
   "outputs": [
    {
     "data": {
      "text/plain": [
       "[('a', 4)]"
      ]
     },
     "execution_count": 256,
     "metadata": {},
     "output_type": "execute_result"
    }
   ],
   "source": [
    "lis=[]\n",
    "for i in set(list(str1)):\n",
    "    if (i in vowels):\n",
    "        lis.append((i,list(str1).count('a')))\n",
    "lis"
   ]
  },
  {
   "cell_type": "code",
   "execution_count": null,
   "metadata": {},
   "outputs": [],
   "source": [
    "#29\n",
    "'''Apply all built in functions on Strings in your program. Note: There are 40 string functions. Use Tutorial for the help. Note: Each program should have 5 string built in functions(so write 8 programs to cover all string functions)'''"
   ]
  },
  {
   "cell_type": "code",
   "execution_count": 258,
   "metadata": {},
   "outputs": [
    {
     "data": {
      "text/plain": [
       "'malayalam'"
      ]
     },
     "execution_count": 258,
     "metadata": {},
     "output_type": "execute_result"
    }
   ],
   "source": [
    "string= 'malayalam'\n",
    "string"
   ]
  },
  {
   "cell_type": "code",
   "execution_count": 259,
   "metadata": {},
   "outputs": [
    {
     "data": {
      "text/plain": [
       "'malayalam'"
      ]
     },
     "execution_count": 259,
     "metadata": {},
     "output_type": "execute_result"
    }
   ],
   "source": [
    "string.lower()\n"
   ]
  },
  {
   "cell_type": "code",
   "execution_count": 260,
   "metadata": {},
   "outputs": [
    {
     "data": {
      "text/plain": [
       "'MALAYALAM'"
      ]
     },
     "execution_count": 260,
     "metadata": {},
     "output_type": "execute_result"
    }
   ],
   "source": [
    "string.upper()"
   ]
  },
  {
   "cell_type": "code",
   "execution_count": 261,
   "metadata": {},
   "outputs": [
    {
     "data": {
      "text/plain": [
       "True"
      ]
     },
     "execution_count": 261,
     "metadata": {},
     "output_type": "execute_result"
    }
   ],
   "source": [
    "string.isalpha()"
   ]
  },
  {
   "cell_type": "code",
   "execution_count": 262,
   "metadata": {},
   "outputs": [
    {
     "data": {
      "text/plain": [
       "True"
      ]
     },
     "execution_count": 262,
     "metadata": {},
     "output_type": "execute_result"
    }
   ],
   "source": [
    "string.isalnum()"
   ]
  },
  {
   "cell_type": "code",
   "execution_count": 264,
   "metadata": {},
   "outputs": [
    {
     "data": {
      "text/plain": [
       "False"
      ]
     },
     "execution_count": 264,
     "metadata": {},
     "output_type": "execute_result"
    }
   ],
   "source": [
    "string.isdecimal()"
   ]
  },
  {
   "cell_type": "code",
   "execution_count": 265,
   "metadata": {},
   "outputs": [
    {
     "data": {
      "text/plain": [
       "'Malayalam'"
      ]
     },
     "execution_count": 265,
     "metadata": {},
     "output_type": "execute_result"
    }
   ],
   "source": [
    "string.capitalize()"
   ]
  },
  {
   "cell_type": "code",
   "execution_count": 266,
   "metadata": {},
   "outputs": [
    {
     "data": {
      "text/plain": [
       "b'malayalam'"
      ]
     },
     "execution_count": 266,
     "metadata": {},
     "output_type": "execute_result"
    }
   ],
   "source": [
    "string.encode()"
   ]
  },
  {
   "cell_type": "code",
   "execution_count": 267,
   "metadata": {},
   "outputs": [
    {
     "data": {
      "text/plain": [
       "False"
      ]
     },
     "execution_count": 267,
     "metadata": {},
     "output_type": "execute_result"
    }
   ],
   "source": [
    "string.isdigit()"
   ]
  },
  {
   "cell_type": "code",
   "execution_count": 268,
   "metadata": {},
   "outputs": [
    {
     "data": {
      "text/plain": [
       "True"
      ]
     },
     "execution_count": 268,
     "metadata": {},
     "output_type": "execute_result"
    }
   ],
   "source": [
    "string.islower()"
   ]
  },
  {
   "cell_type": "code",
   "execution_count": 269,
   "metadata": {
    "scrolled": true
   },
   "outputs": [
    {
     "data": {
      "text/plain": [
       "False"
      ]
     },
     "execution_count": 269,
     "metadata": {},
     "output_type": "execute_result"
    }
   ],
   "source": [
    "string.isupper()"
   ]
  },
  {
   "cell_type": "code",
   "execution_count": null,
   "metadata": {},
   "outputs": [],
   "source": [
    "#30\n",
    "'''Write a program to Sort given N numbers (Use only loop structures and Conditions to sort the elements. Use Bubble sort / Selection sort technique to sort the elements of List) Note: Don't use built in functions to sort.'''"
   ]
  },
  {
   "cell_type": "code",
   "execution_count": 273,
   "metadata": {},
   "outputs": [
    {
     "data": {
      "text/plain": [
       "[1, 4, 5, 5, 5, 6, 7, 8, 9, 23]"
      ]
     },
     "execution_count": 273,
     "metadata": {},
     "output_type": "execute_result"
    }
   ],
   "source": [
    "lis = [4,5,5,8,1,6,23,7,9,5]\n",
    "\n",
    "for i in range(len(lis)):\n",
    "    min1 = i\n",
    "    for j in range(i+1,len(lis)):\n",
    "        if(lis[min1]>lis[j]):\n",
    "            min1 = j\n",
    "    lis[min1],lis[i]=lis[i],lis[min1]\n",
    "lis"
   ]
  },
  {
   "cell_type": "code",
   "execution_count": 274,
   "metadata": {},
   "outputs": [],
   "source": [
    "lis = [4,5,5,8,1,6,23,7,9,5]\n"
   ]
  },
  {
   "cell_type": "code",
   "execution_count": 277,
   "metadata": {},
   "outputs": [
    {
     "data": {
      "text/plain": [
       "6"
      ]
     },
     "execution_count": 277,
     "metadata": {},
     "output_type": "execute_result"
    }
   ],
   "source": [
    "(len(lis)//2)+1"
   ]
  },
  {
   "cell_type": "code",
   "execution_count": null,
   "metadata": {},
   "outputs": [],
   "source": []
  },
  {
   "cell_type": "code",
   "execution_count": 278,
   "metadata": {},
   "outputs": [],
   "source": [
    "def binarySearch(arr, l, r, x): \n",
    "  \n",
    "    while l <= r: \n",
    "  \n",
    "        mid = l + (r - l)//2; \n",
    "          \n",
    "        # Check if x is present at mid \n",
    "        if arr[mid] == x: \n",
    "            return mid \n",
    "  \n",
    "        # If x is greater, ignore left half \n",
    "        elif arr[mid] < x: \n",
    "            l = mid + 1\n",
    "  \n",
    "        # If x is smaller, ignore right half \n",
    "        else: \n",
    "            r = mid - 1\n",
    "      \n",
    "    # If we reach here, then the element was not present \n",
    "    return -1"
   ]
  },
  {
   "cell_type": "code",
   "execution_count": 281,
   "metadata": {},
   "outputs": [
    {
     "data": {
      "text/plain": [
       "8"
      ]
     },
     "execution_count": 281,
     "metadata": {},
     "output_type": "execute_result"
    }
   ],
   "source": [
    "binarySearch(lis,0,len(lis),9)"
   ]
  },
  {
   "cell_type": "code",
   "execution_count": null,
   "metadata": {},
   "outputs": [],
   "source": [
    "#32\n",
    "'''Write a program to perform following operations on List. Create three lists as List1, List2 and List3 having 5 city names each list.\n",
    "a. Find the length city of each list element and print city and length\n",
    "b. Find the maximum and minimum string length element of each list\n",
    "c. Compare each list and determine which city is biggest & smallest with length.\n",
    "d. Delete first and last element of each list and print list contents.\n",
    "'''"
   ]
  },
  {
   "cell_type": "code",
   "execution_count": 293,
   "metadata": {},
   "outputs": [],
   "source": [
    "list0=['chennai','mumbai','kolkatta','pune','banglore']"
   ]
  },
  {
   "cell_type": "code",
   "execution_count": 345,
   "metadata": {},
   "outputs": [],
   "source": [
    "list1=[]\n",
    "list2 =[]\n",
    "list3=[]\n",
    "for i in list0:\n",
    "    list1.append([i+str(1),str(len(i+str(1)))] )\n",
    "    list2.append((i+str(2),len(i+str(2))))\n",
    "    list3.append((i+str(3),len(i+str(3))))"
   ]
  },
  {
   "cell_type": "code",
   "execution_count": 310,
   "metadata": {},
   "outputs": [
    {
     "data": {
      "text/plain": [
       "[('chennai2', 8),\n",
       " ('mumbai2', 7),\n",
       " ('kolkatta2', 9),\n",
       " ('pune2', 5),\n",
       " ('banglore2', 9)]"
      ]
     },
     "execution_count": 310,
     "metadata": {},
     "output_type": "execute_result"
    }
   ],
   "source": [
    "list2"
   ]
  },
  {
   "cell_type": "code",
   "execution_count": 311,
   "metadata": {},
   "outputs": [
    {
     "data": {
      "text/plain": [
       "[('chennai3', 8),\n",
       " ('mumbai3', 7),\n",
       " ('kolkatta3', 9),\n",
       " ('pune3', 5),\n",
       " ('banglore3', 9)]"
      ]
     },
     "execution_count": 311,
     "metadata": {},
     "output_type": "execute_result"
    }
   ],
   "source": [
    "list3"
   ]
  },
  {
   "cell_type": "code",
   "execution_count": 338,
   "metadata": {},
   "outputs": [
    {
     "data": {
      "text/plain": [
       "[['chennai1', 8],\n",
       " ['mumbai1', 7],\n",
       " ['kolkatta1', 9],\n",
       " ['pune1', 5],\n",
       " ['banglore1', 9]]"
      ]
     },
     "execution_count": 338,
     "metadata": {},
     "output_type": "execute_result"
    }
   ],
   "source": [
    "list1"
   ]
  },
  {
   "cell_type": "code",
   "execution_count": 346,
   "metadata": {},
   "outputs": [
    {
     "data": {
      "text/plain": [
       "[['chennai1', '8'],\n",
       " ['mumbai1', '7'],\n",
       " ['kolkatta1', '9'],\n",
       " ['pune1', '5'],\n",
       " ['banglore1', '9']]"
      ]
     },
     "execution_count": 346,
     "metadata": {},
     "output_type": "execute_result"
    }
   ],
   "source": [
    "list1"
   ]
  },
  {
   "cell_type": "code",
   "execution_count": 348,
   "metadata": {},
   "outputs": [],
   "source": [
    "for i in range(len(list1)):\n",
    "    list1[i][0],list1[i][1]=list1[i][1],list1[i][0]"
   ]
  },
  {
   "cell_type": "code",
   "execution_count": 350,
   "metadata": {},
   "outputs": [],
   "source": [
    "list1.sort()"
   ]
  },
  {
   "cell_type": "code",
   "execution_count": 356,
   "metadata": {},
   "outputs": [
    {
     "data": {
      "text/plain": [
       "['5', 'pune1']"
      ]
     },
     "execution_count": 356,
     "metadata": {},
     "output_type": "execute_result"
    }
   ],
   "source": [
    "min_element=list1[0]\n",
    "min_element"
   ]
  },
  {
   "cell_type": "code",
   "execution_count": 355,
   "metadata": {},
   "outputs": [
    {
     "data": {
      "text/plain": [
       "['9', 'kolkatta1']"
      ]
     },
     "execution_count": 355,
     "metadata": {},
     "output_type": "execute_result"
    }
   ],
   "source": [
    "max_element=list1[-1]\n",
    "max_element"
   ]
  },
  {
   "cell_type": "code",
   "execution_count": 358,
   "metadata": {},
   "outputs": [],
   "source": [
    "list1.remove(['5', 'pune1'])"
   ]
  },
  {
   "cell_type": "code",
   "execution_count": 362,
   "metadata": {},
   "outputs": [],
   "source": [
    "list1.remove(['9', 'kolkatta1'])"
   ]
  },
  {
   "cell_type": "code",
   "execution_count": 363,
   "metadata": {},
   "outputs": [
    {
     "data": {
      "text/plain": [
       "[['7', 'mumbai1'], ['8', 'chennai1'], ['9', 'banglore1']]"
      ]
     },
     "execution_count": 363,
     "metadata": {},
     "output_type": "execute_result"
    }
   ],
   "source": [
    "list1"
   ]
  },
  {
   "cell_type": "code",
   "execution_count": 364,
   "metadata": {},
   "outputs": [
    {
     "data": {
      "text/plain": [
       "'Create a list with 7 elements and perform following operations. Let the list be initialized with List1 any 5 city names;\\na) Append a new city name to the List\\nb) Insert a city name at 4th index position\\nc) Sort the list and print all elements\\nd) Sort the elements of the list in descending order.\\ne) delete last three elements using pop operation\\n'"
      ]
     },
     "execution_count": 364,
     "metadata": {},
     "output_type": "execute_result"
    }
   ],
   "source": [
    "#33\n",
    "\n",
    "'''Create a list with 7 elements and perform following operations. Let the list be initialized with List1 any 5 city names;\n",
    "a) Append a new city name to the List\n",
    "b) Insert a city name at 4th index position\n",
    "c) Sort the list and print all elements\n",
    "d) Sort the elements of the list in descending order.\n",
    "e) delete last three elements using pop operation\n",
    "'''"
   ]
  },
  {
   "cell_type": "code",
   "execution_count": 622,
   "metadata": {},
   "outputs": [],
   "source": [
    "import datetime as dt\n",
    "datetime1 = dt.datetime.now()"
   ]
  },
  {
   "cell_type": "code",
   "execution_count": 659,
   "metadata": {},
   "outputs": [
    {
     "data": {
      "text/plain": [
       "3"
      ]
     },
     "execution_count": 659,
     "metadata": {},
     "output_type": "execute_result"
    }
   ],
   "source": [
    "datetime1 = dt.datetime.now()\n",
    "datetime1.second"
   ]
  },
  {
   "cell_type": "code",
   "execution_count": null,
   "metadata": {},
   "outputs": [],
   "source": [
    "while(datetime1.minute!=)\n",
    "datetime1.hour,datetime1.minute,datetime1.second"
   ]
  },
  {
   "cell_type": "code",
   "execution_count": null,
   "metadata": {
    "scrolled": true
   },
   "outputs": [],
   "source": [
    "\n",
    "    "
   ]
  },
  {
   "cell_type": "code",
   "execution_count": 784,
   "metadata": {},
   "outputs": [
    {
     "name": "stdout",
     "output_type": "stream",
     "text": [
      "14\n",
      "15\n",
      "16\n"
     ]
    }
   ],
   "source": [
    "#40\n",
    "import time\n",
    "\n",
    "counter =0\n",
    "while(True):\n",
    "    counter=counter+2\n",
    "    time.sleep(1)\n",
    "    datetime1 = dt.datetime.now()\n",
    "    print(datetime1.second)\n",
    "    if (counter >=5):        \n",
    "        break\n",
    "        print(\"Loop stopped\")"
   ]
  },
  {
   "cell_type": "code",
   "execution_count": 785,
   "metadata": {},
   "outputs": [
    {
     "data": {
      "text/plain": [
       "{'total': 17091694592,\n",
       " 'available': 11127681024,\n",
       " 'percent': 34.9,\n",
       " 'used': 5964013568,\n",
       " 'free': 11127681024}"
      ]
     },
     "execution_count": 785,
     "metadata": {},
     "output_type": "execute_result"
    }
   ],
   "source": [
    "#!/usr/bin/env python\n",
    "import psutil\n",
    "# gives a single float value\n",
    "psutil.cpu_percent()\n",
    "# gives an object with many fields\n",
    "psutil.virtual_memory()\n",
    "# you can convert that object to a dictionary \n",
    "dict(psutil.virtual_memory()._asdict())"
   ]
  },
  {
   "cell_type": "code",
   "execution_count": null,
   "metadata": {},
   "outputs": [],
   "source": []
  },
  {
   "cell_type": "code",
   "execution_count": 796,
   "metadata": {},
   "outputs": [
    {
     "name": "stdout",
     "output_type": "stream",
     "text": [
      "['7', 'mumbai1']\n",
      "['8', 'chennai1']\n",
      "['9', 'banglore1']\n",
      "0:00:00\n"
     ]
    }
   ],
   "source": [
    "import datetime as dt\n",
    "start=dt.datetime.now()\n",
    "for i in list1:\n",
    "    print(i)\n",
    "end=dt.datetime.now() \n",
    "print(end-start)"
   ]
  },
  {
   "cell_type": "code",
   "execution_count": null,
   "metadata": {},
   "outputs": [],
   "source": [
    "#39\n",
    "'''Using Time and Calendar module, Print current date and time. Print current month calendar.'''"
   ]
  },
  {
   "cell_type": "code",
   "execution_count": 837,
   "metadata": {},
   "outputs": [
    {
     "name": "stdout",
     "output_type": "stream",
     "text": [
      "16:42:40.915812\n",
      "4 42 40\n"
     ]
    }
   ],
   "source": [
    "import datetime as dt\n",
    "start=dt.datetime.now()\n",
    "print((start.time()))\n",
    "if (start.time().hour >= 13):\n",
    "    print(start.time().hour-12,start.time().minute,start.time().second)\n"
   ]
  },
  {
   "cell_type": "code",
   "execution_count": null,
   "metadata": {},
   "outputs": [],
   "source": [
    "#38\n",
    "'''dict1 ={'Name':'Ramakrishna','Age':25}\n",
    "dict2={'EmpId':1234,'Salary':5000}\n",
    "'''"
   ]
  },
  {
   "cell_type": "code",
   "execution_count": 848,
   "metadata": {},
   "outputs": [],
   "source": [
    "dict1={'Name':'Ramakrishna','Age':25}\n",
    "dict2={'EmpId':1234,'Salary':5000}\n"
   ]
  },
  {
   "cell_type": "code",
   "execution_count": 857,
   "metadata": {},
   "outputs": [],
   "source": [
    "dict3={**dict1, **dict2} "
   ]
  },
  {
   "cell_type": "code",
   "execution_count": 862,
   "metadata": {},
   "outputs": [],
   "source": [
    "dict3['Salary']=dict3['Salary']*(dict3['Salary']*0.1)"
   ]
  },
  {
   "cell_type": "code",
   "execution_count": 864,
   "metadata": {},
   "outputs": [],
   "source": [
    "dict3['Age']=26"
   ]
  },
  {
   "cell_type": "code",
   "execution_count": 865,
   "metadata": {},
   "outputs": [
    {
     "data": {
      "text/plain": [
       "{'Name': 'Ramakrishna', 'Age': 26, 'EmpId': 1234, 'Salary': 2500000.0}"
      ]
     },
     "execution_count": 865,
     "metadata": {},
     "output_type": "execute_result"
    }
   ],
   "source": [
    "dict3"
   ]
  },
  {
   "cell_type": "code",
   "execution_count": 866,
   "metadata": {},
   "outputs": [],
   "source": [
    "dict3[\"grade\"]=\"B1\""
   ]
  },
  {
   "cell_type": "code",
   "execution_count": 867,
   "metadata": {},
   "outputs": [
    {
     "data": {
      "text/plain": [
       "{'Name': 'Ramakrishna',\n",
       " 'Age': 26,\n",
       " 'EmpId': 1234,\n",
       " 'Salary': 2500000.0,\n",
       " 'grade': 'B1'}"
      ]
     },
     "execution_count": 867,
     "metadata": {},
     "output_type": "execute_result"
    }
   ],
   "source": [
    "dict3"
   ]
  },
  {
   "cell_type": "code",
   "execution_count": 871,
   "metadata": {},
   "outputs": [
    {
     "name": "stdout",
     "output_type": "stream",
     "text": [
      "Name Ramakrishna\n",
      "Age 26\n",
      "EmpId 1234\n",
      "Salary 2500000.0\n",
      "grade B1\n"
     ]
    }
   ],
   "source": [
    "for i in dict3.keys():\n",
    "    print(i,dict3[i])"
   ]
  },
  {
   "cell_type": "code",
   "execution_count": 872,
   "metadata": {},
   "outputs": [],
   "source": [
    "del dict3['Age']"
   ]
  },
  {
   "cell_type": "code",
   "execution_count": 873,
   "metadata": {},
   "outputs": [
    {
     "data": {
      "text/plain": [
       "{'Name': 'Ramakrishna', 'EmpId': 1234, 'Salary': 2500000.0, 'grade': 'B1'}"
      ]
     },
     "execution_count": 873,
     "metadata": {},
     "output_type": "execute_result"
    }
   ],
   "source": [
    "dict3"
   ]
  },
  {
   "cell_type": "code",
   "execution_count": 874,
   "metadata": {},
   "outputs": [
    {
     "data": {
      "text/plain": [
       "'Create 3 dictionaries (dict1, dict2, dict3) with 3 elements each. Perform following operations\\na) Compare dictionaries to determine the biggest.\\nb) Add new elements in to the dictionaries dict1, dict2\\nc) print the length of dict1, dict2, dict3.\\nd) Convert dict1, dict2, and dict3 dictionaries as string and concatenate all strings together.\\n'"
      ]
     },
     "execution_count": 874,
     "metadata": {},
     "output_type": "execute_result"
    }
   ],
   "source": [
    "'''Create 3 dictionaries (dict1, dict2, dict3) with 3 elements each. Perform following operations\n",
    "a) Compare dictionaries to determine the biggest.\n",
    "b) Add new elements in to the dictionaries dict1, dict2\n",
    "c) print the length of dict1, dict2, dict3.\n",
    "d) Convert dict1, dict2, and dict3 dictionaries as string and concatenate all strings together.\n",
    "'''"
   ]
  },
  {
   "cell_type": "code",
   "execution_count": 875,
   "metadata": {},
   "outputs": [],
   "source": [
    "dict1={'Name':'Ramakrishna','Age':25}\n",
    "dict2={'EmpId':1234,'Salary':5000}\n",
    "dict3={'Name': 'Ramakrishna', 'EmpId': 1234, 'Salary': 2500000.0, 'grade': 'B1'}"
   ]
  },
  {
   "cell_type": "code",
   "execution_count": 945,
   "metadata": {},
   "outputs": [],
   "source": [
    "c=''\n",
    "for i in dict3.values():\n",
    "    c=c+ str(i)"
   ]
  },
  {
   "cell_type": "code",
   "execution_count": 952,
   "metadata": {},
   "outputs": [
    {
     "data": {
      "text/plain": [
       "'Ramakrishna12342500000.0B1'"
      ]
     },
     "execution_count": 952,
     "metadata": {},
     "output_type": "execute_result"
    }
   ],
   "source": [
    "c"
   ]
  },
  {
   "cell_type": "code",
   "execution_count": 881,
   "metadata": {},
   "outputs": [],
   "source": [
    "comapre=(dict1,dict2,dict3)"
   ]
  },
  {
   "cell_type": "code",
   "execution_count": 913,
   "metadata": {},
   "outputs": [
    {
     "name": "stdout",
     "output_type": "stream",
     "text": [
      "{'Name': 'Ramakrishna', 'Age': 25}\n",
      "{'EmpId': 1234, 'Salary': 5000}\n",
      "{'Name': 'Ramakrishna', 'EmpId': 1234, 'Salary': 2500000.0, 'grade': 'B1'}\n"
     ]
    }
   ],
   "source": [
    "maximum=[['sdd',0]]\n",
    "for i in comapre:\n",
    "    print(i)\n",
    "    if(maximum[0][1]<=len(i)):\n",
    "        maximum=[]\n",
    "        maximum=[[i,len(i)]]"
   ]
  },
  {
   "cell_type": "code",
   "execution_count": 914,
   "metadata": {},
   "outputs": [
    {
     "data": {
      "text/plain": [
       "[[{'Name': 'Ramakrishna', 'EmpId': 1234, 'Salary': 2500000.0, 'grade': 'B1'},\n",
       "  4]]"
      ]
     },
     "execution_count": 914,
     "metadata": {},
     "output_type": "execute_result"
    }
   ],
   "source": [
    "maximum"
   ]
  },
  {
   "cell_type": "code",
   "execution_count": 908,
   "metadata": {},
   "outputs": [
    {
     "data": {
      "text/plain": [
       "({'Name': 'Ramakrishna', 'Age': 25},\n",
       " {'EmpId': 1234, 'Salary': 5000},\n",
       " {'Name': 'Ramakrishna', 'EmpId': 1234, 'Salary': 2500000.0, 'grade': 'B1'})"
      ]
     },
     "execution_count": 908,
     "metadata": {},
     "output_type": "execute_result"
    }
   ],
   "source": [
    "comapre"
   ]
  },
  {
   "cell_type": "code",
   "execution_count": null,
   "metadata": {},
   "outputs": [],
   "source": [
    "#36\n",
    "'''Create two tuples tup1 & tup2 and apply all built in functions on tuples. ( Refer Tutorial for the Built in functions list)'''"
   ]
  },
  {
   "cell_type": "code",
   "execution_count": 959,
   "metadata": {},
   "outputs": [
    {
     "data": {
      "text/plain": [
       "2"
      ]
     },
     "execution_count": 959,
     "metadata": {},
     "output_type": "execute_result"
    }
   ],
   "source": [
    "tup1 =(1,'Ramesh','Ramesh')\n",
    "tup2=(25,'kavi')\n",
    "tup1.count('Ramesh')"
   ]
  },
  {
   "cell_type": "code",
   "execution_count": 963,
   "metadata": {},
   "outputs": [
    {
     "data": {
      "text/plain": [
       "<function tuple.index(value, start=0, stop=9223372036854775807, /)>"
      ]
     },
     "execution_count": 963,
     "metadata": {},
     "output_type": "execute_result"
    }
   ],
   "source": [
    "tup1.index"
   ]
  },
  {
   "cell_type": "code",
   "execution_count": 964,
   "metadata": {},
   "outputs": [],
   "source": [
    "tup1 = (12, 34.56);\n",
    "tup2 = ('abc', 'xyz');"
   ]
  },
  {
   "cell_type": "code",
   "execution_count": 966,
   "metadata": {},
   "outputs": [
    {
     "data": {
      "text/plain": [
       "(12, 34.56, 'abc', 'xyz')"
      ]
     },
     "execution_count": 966,
     "metadata": {},
     "output_type": "execute_result"
    }
   ],
   "source": [
    "tup1+tup2"
   ]
  },
  {
   "cell_type": "code",
   "execution_count": 967,
   "metadata": {},
   "outputs": [
    {
     "data": {
      "text/plain": [
       "2"
      ]
     },
     "execution_count": 967,
     "metadata": {},
     "output_type": "execute_result"
    }
   ],
   "source": [
    "len(tup1)"
   ]
  },
  {
   "cell_type": "code",
   "execution_count": 968,
   "metadata": {},
   "outputs": [
    {
     "data": {
      "text/plain": [
       "34.56"
      ]
     },
     "execution_count": 968,
     "metadata": {},
     "output_type": "execute_result"
    }
   ],
   "source": [
    "max(tup1)"
   ]
  },
  {
   "cell_type": "code",
   "execution_count": 969,
   "metadata": {},
   "outputs": [
    {
     "data": {
      "text/plain": [
       "12"
      ]
     },
     "execution_count": 969,
     "metadata": {},
     "output_type": "execute_result"
    }
   ],
   "source": [
    "min(tup1)"
   ]
  },
  {
   "cell_type": "code",
   "execution_count": 971,
   "metadata": {},
   "outputs": [
    {
     "ename": "NameError",
     "evalue": "name 'count' is not defined",
     "output_type": "error",
     "traceback": [
      "\u001b[1;31m---------------------------------------------------------------------------\u001b[0m",
      "\u001b[1;31mNameError\u001b[0m                                 Traceback (most recent call last)",
      "\u001b[1;32m<ipython-input-971-8bebe4e1a29d>\u001b[0m in \u001b[0;36m<module>\u001b[1;34m\u001b[0m\n\u001b[1;32m----> 1\u001b[1;33m \u001b[0mcount\u001b[0m\u001b[1;33m(\u001b[0m\u001b[0mtup1\u001b[0m\u001b[1;33m)\u001b[0m\u001b[1;33m\u001b[0m\u001b[0m\n\u001b[0m",
      "\u001b[1;31mNameError\u001b[0m: name 'count' is not defined"
     ]
    }
   ],
   "source": [
    "del tup1"
   ]
  },
  {
   "cell_type": "code",
   "execution_count": 975,
   "metadata": {},
   "outputs": [
    {
     "ename": "NameError",
     "evalue": "name 'cmp' is not defined",
     "output_type": "error",
     "traceback": [
      "\u001b[1;31m---------------------------------------------------------------------------\u001b[0m",
      "\u001b[1;31mNameError\u001b[0m                                 Traceback (most recent call last)",
      "\u001b[1;32m<ipython-input-975-18dd286a6c11>\u001b[0m in \u001b[0;36m<module>\u001b[1;34m\u001b[0m\n\u001b[1;32m----> 1\u001b[1;33m \u001b[0mcmp\u001b[0m\u001b[1;33m(\u001b[0m\u001b[0mtup1\u001b[0m\u001b[1;33m,\u001b[0m\u001b[0mtup1\u001b[0m\u001b[1;33m)\u001b[0m\u001b[1;33m\u001b[0m\u001b[0m\n\u001b[0m",
      "\u001b[1;31mNameError\u001b[0m: name 'cmp' is not defined"
     ]
    }
   ],
   "source": [
    "cmp(tup1,tup1)"
   ]
  },
  {
   "cell_type": "code",
   "execution_count": 976,
   "metadata": {},
   "outputs": [],
   "source": [
    "aList = [123, 'xyz', 'zara', 'abc']\n"
   ]
  },
  {
   "cell_type": "code",
   "execution_count": 983,
   "metadata": {},
   "outputs": [
    {
     "data": {
      "text/plain": [
       "{123: 123, 'xyz': 'xyz', 'zara': 'zara', 'abc': 'abc'}"
      ]
     },
     "execution_count": 983,
     "metadata": {},
     "output_type": "execute_result"
    }
   ],
   "source": [
    "dict(zip(aList,aList))"
   ]
  },
  {
   "cell_type": "code",
   "execution_count": 994,
   "metadata": {},
   "outputs": [
    {
     "data": {
      "text/plain": [
       "[12, 34.56, 12, 34.56]"
      ]
     },
     "execution_count": 994,
     "metadata": {},
     "output_type": "execute_result"
    }
   ],
   "source": []
  },
  {
   "cell_type": "code",
   "execution_count": 998,
   "metadata": {},
   "outputs": [
    {
     "data": {
      "text/plain": [
       "[12, 34.56, 12, 34.56]"
      ]
     },
     "execution_count": 998,
     "metadata": {},
     "output_type": "execute_result"
    }
   ],
   "source": [
    "list(tup1+tup1)"
   ]
  },
  {
   "cell_type": "code",
   "execution_count": null,
   "metadata": {},
   "outputs": [],
   "source": [
    "#34\n",
    "\n",
    "'''Create 3 Lists (list1, list2, list3) with integer and perform following operations\n",
    "a) Create Maxlist by taking 2 maximum elements from each list.\n",
    "b) Find average value from all the elements of Maxlist.\n",
    "c) Create a MinlIst by taking 2 minimum elements from each list \n",
    "d) Find the average value from all the elements of Minlist\n",
    "'''"
   ]
  },
  {
   "cell_type": "code",
   "execution_count": 1000,
   "metadata": {},
   "outputs": [],
   "source": [
    "list1=[]\n",
    "list2=[]\n",
    "list3=[]\n",
    "for i in range(10):\n",
    "    list1.append(i)\n",
    "    list2.append(i+10)\n",
    "    list3.append(i+8)\n",
    "    "
   ]
  },
  {
   "cell_type": "code",
   "execution_count": 1007,
   "metadata": {},
   "outputs": [],
   "source": [
    "max_2=sorted(list3[-2:])+sorted(list1[-2:])+sorted(list2[-2:])"
   ]
  },
  {
   "cell_type": "code",
   "execution_count": 1019,
   "metadata": {},
   "outputs": [
    {
     "data": {
      "text/plain": [
       "14.5"
      ]
     },
     "execution_count": 1019,
     "metadata": {},
     "output_type": "execute_result"
    }
   ],
   "source": [
    "import math \n",
    "count1=0\n",
    "for i in max_2:\n",
    "    count1+=i\n",
    "avg=count1/len(max_2)\n",
    "avg"
   ]
  },
  {
   "cell_type": "code",
   "execution_count": 1023,
   "metadata": {},
   "outputs": [
    {
     "data": {
      "text/plain": [
       "[8, 9, 0, 1, 10, 11]"
      ]
     },
     "execution_count": 1023,
     "metadata": {},
     "output_type": "execute_result"
    }
   ],
   "source": [
    "min_2=sorted(list3[:2])+sorted(list1[:2])+sorted(list2[:2])\n",
    "min_2"
   ]
  },
  {
   "cell_type": "code",
   "execution_count": 1026,
   "metadata": {},
   "outputs": [
    {
     "data": {
      "text/plain": [
       "6.5"
      ]
     },
     "execution_count": 1026,
     "metadata": {},
     "output_type": "execute_result"
    }
   ],
   "source": [
    "import math \n",
    "count1=0\n",
    "for i in min_2:\n",
    "    count1+=i\n",
    "avg=count1/len(min_2)\n",
    "avg"
   ]
  },
  {
   "cell_type": "code",
   "execution_count": 1027,
   "metadata": {},
   "outputs": [
    {
     "data": {
      "text/plain": [
       "'Create a list with 7 elements and perform following operations. Let the list be initialized with List1 any 5 city names;\\na) Append a new city name to the List\\nb) Insert a city name at 4th index position\\nc) Sort the list and print all elements\\nd) Sort the elements of the list in descending order.\\ne) delete last three elements using pop operation\\n'"
      ]
     },
     "execution_count": 1027,
     "metadata": {},
     "output_type": "execute_result"
    }
   ],
   "source": [
    "#33\n",
    "'''Create a list with 7 elements and perform following operations. Let the list be initialized with List1 any 5 city names;\n",
    "a) Append a new city name to the List\n",
    "b) Insert a city name at 4th index position\n",
    "c) Sort the list and print all elements\n",
    "d) Sort the elements of the list in descending order.\n",
    "e) delete last three elements using pop operation\n",
    "'''"
   ]
  },
  {
   "cell_type": "code",
   "execution_count": 1028,
   "metadata": {},
   "outputs": [],
   "source": [
    "list0=['chennai','mumbai','kolkatta','pune','banglore','punesadasdsadsa','asdsadasdasdd']"
   ]
  },
  {
   "cell_type": "code",
   "execution_count": 1029,
   "metadata": {},
   "outputs": [],
   "source": [
    "list0.append('new_city')"
   ]
  },
  {
   "cell_type": "code",
   "execution_count": 1030,
   "metadata": {},
   "outputs": [
    {
     "data": {
      "text/plain": [
       "['chennai',\n",
       " 'mumbai',\n",
       " 'kolkatta',\n",
       " 'pune',\n",
       " 'banglore',\n",
       " 'punesadasdsadsa',\n",
       " 'asdsadasdasdd',\n",
       " 'new_city']"
      ]
     },
     "execution_count": 1030,
     "metadata": {},
     "output_type": "execute_result"
    }
   ],
   "source": [
    "list0"
   ]
  },
  {
   "cell_type": "code",
   "execution_count": 1031,
   "metadata": {},
   "outputs": [],
   "source": [
    "list0.insert(4,'city_name')"
   ]
  },
  {
   "cell_type": "code",
   "execution_count": 1032,
   "metadata": {},
   "outputs": [
    {
     "data": {
      "text/plain": [
       "['chennai',\n",
       " 'mumbai',\n",
       " 'kolkatta',\n",
       " 'pune',\n",
       " 'city_name',\n",
       " 'banglore',\n",
       " 'punesadasdsadsa',\n",
       " 'asdsadasdasdd',\n",
       " 'new_city']"
      ]
     },
     "execution_count": 1032,
     "metadata": {},
     "output_type": "execute_result"
    }
   ],
   "source": [
    "list0"
   ]
  },
  {
   "cell_type": "code",
   "execution_count": 1033,
   "metadata": {},
   "outputs": [
    {
     "name": "stdout",
     "output_type": "stream",
     "text": [
      "punesadasdsadsa\n",
      "pune\n",
      "new_city\n",
      "mumbai\n",
      "kolkatta\n",
      "city_name\n",
      "chennai\n",
      "banglore\n",
      "asdsadasdasdd\n"
     ]
    }
   ],
   "source": [
    "for i in sorted(list0)[::-1]:\n",
    "    print(i)"
   ]
  },
  {
   "cell_type": "code",
   "execution_count": 1034,
   "metadata": {},
   "outputs": [],
   "source": [
    "new_list=sorted(list0)[::-1]"
   ]
  },
  {
   "cell_type": "code",
   "execution_count": 1035,
   "metadata": {},
   "outputs": [
    {
     "data": {
      "text/plain": [
       "['punesadasdsadsa',\n",
       " 'pune',\n",
       " 'new_city',\n",
       " 'mumbai',\n",
       " 'kolkatta',\n",
       " 'city_name',\n",
       " 'chennai',\n",
       " 'banglore',\n",
       " 'asdsadasdasdd']"
      ]
     },
     "execution_count": 1035,
     "metadata": {},
     "output_type": "execute_result"
    }
   ],
   "source": [
    "new_list"
   ]
  },
  {
   "cell_type": "code",
   "execution_count": 1036,
   "metadata": {},
   "outputs": [
    {
     "data": {
      "text/plain": [
       "'asdsadasdasdd'"
      ]
     },
     "execution_count": 1036,
     "metadata": {},
     "output_type": "execute_result"
    }
   ],
   "source": [
    "new_list.pop()"
   ]
  },
  {
   "cell_type": "code",
   "execution_count": 1037,
   "metadata": {},
   "outputs": [
    {
     "data": {
      "text/plain": [
       "'banglore'"
      ]
     },
     "execution_count": 1037,
     "metadata": {},
     "output_type": "execute_result"
    }
   ],
   "source": [
    "new_list.pop()"
   ]
  },
  {
   "cell_type": "code",
   "execution_count": 1038,
   "metadata": {},
   "outputs": [
    {
     "data": {
      "text/plain": [
       "'chennai'"
      ]
     },
     "execution_count": 1038,
     "metadata": {},
     "output_type": "execute_result"
    }
   ],
   "source": [
    "new_list.pop()"
   ]
  },
  {
   "cell_type": "code",
   "execution_count": 1039,
   "metadata": {},
   "outputs": [
    {
     "data": {
      "text/plain": [
       "['punesadasdsadsa', 'pune', 'new_city', 'mumbai', 'kolkatta', 'city_name']"
      ]
     },
     "execution_count": 1039,
     "metadata": {},
     "output_type": "execute_result"
    }
   ],
   "source": [
    "new_list"
   ]
  }
 ],
 "metadata": {
  "kernelspec": {
   "display_name": "Python 3",
   "language": "python",
   "name": "python3"
  },
  "language_info": {
   "codemirror_mode": {
    "name": "ipython",
    "version": 3
   },
   "file_extension": ".py",
   "mimetype": "text/x-python",
   "name": "python",
   "nbconvert_exporter": "python",
   "pygments_lexer": "ipython3",
   "version": "3.7.0"
  }
 },
 "nbformat": 4,
 "nbformat_minor": 2
}
